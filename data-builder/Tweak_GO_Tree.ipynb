{
 "cells": [
  {
   "cell_type": "code",
   "execution_count": 1,
   "metadata": {
    "collapsed": false
   },
   "outputs": [
    {
     "name": "stdout",
     "output_type": "stream",
     "text": [
      "Python 3.5.2 :: Anaconda custom (x86_64)\r\n"
     ]
    }
   ],
   "source": [
    "!python --version"
   ]
  },
  {
   "cell_type": "code",
   "execution_count": 2,
   "metadata": {
    "collapsed": true
   },
   "outputs": [],
   "source": [
    "import json\n",
    "from pprint import pprint"
   ]
  },
  {
   "cell_type": "code",
   "execution_count": 3,
   "metadata": {
    "collapsed": true
   },
   "outputs": [],
   "source": [
    "with open('data/goWOgenes.cyjs') as f:    \n",
    "    tree = json.load(f)"
   ]
  },
  {
   "cell_type": "code",
   "execution_count": 4,
   "metadata": {
    "collapsed": false
   },
   "outputs": [
    {
     "name": "stdout",
     "output_type": "stream",
     "text": [
      "{'data': {'AverageShortestPathLength': 17.18280147,\n",
      "          'BetweennessCentrality': 0.00015342,\n",
      "          'ClosenessCentrality': 0.05819773,\n",
      "          'ClusteringCoefficient': 0.0,\n",
      "          'Degree': 2,\n",
      "          'Eccentricity': 26,\n",
      "          'EdgeCount': 2,\n",
      "          'Indegree': 1,\n",
      "          'IsSingleNode': False,\n",
      "          'NeighborhoodConnectivity': 2.0,\n",
      "          'NumberOfDirectedEdges': 2,\n",
      "          'NumberOfUndirectedEdges': 0,\n",
      "          'Outdegree': 1,\n",
      "          'PartnerOfMultiEdgedNodePairs': 0,\n",
      "          'Radiality': 0.47797415,\n",
      "          'SUID': 13097,\n",
      "          'SelfLoops': 0,\n",
      "          'Stress': 26070,\n",
      "          'TopologicalCoefficient': 0.5,\n",
      "          'id': '13097',\n",
      "          'id_original': 'GO:0016973',\n",
      "          'name': 'poly(A)+ mRNA export from nucleus',\n",
      "          'namespace': 'biological_process',\n",
      "          'selected': False,\n",
      "          'shared_name': 'poly(A)+ mRNA export from nucleus',\n",
      "          'type': ''},\n",
      " 'position': {'x': 15274.211570440326, 'y': 12397.140132129309},\n",
      " 'selected': False}\n"
     ]
    }
   ],
   "source": [
    "tree.keys()\n",
    "\n",
    "pprint(tree['elements']['nodes'][1])\n",
    "\n",
    "nodes = tree['elements']['nodes']"
   ]
  },
  {
   "cell_type": "code",
   "execution_count": 9,
   "metadata": {
    "collapsed": false
   },
   "outputs": [
    {
     "name": "stdout",
     "output_type": "stream",
     "text": [
      "0.68912488\n",
      "0.13639978\n"
     ]
    }
   ],
   "source": [
    "bc = map(lambda x : x['data']['BetweennessCentrality'], nodes)\n",
    "cc = map(lambda x : x['data']['ClosenessCentrality'], nodes)\n",
    "\n",
    "# print(min(bc))\n",
    "print(max(bc))\n",
    "# print(min(cc))\n",
    "print(max(cc))"
   ]
  }
 ],
 "metadata": {
  "anaconda-cloud": {},
  "kernelspec": {
   "display_name": "Python [conda root]",
   "language": "python",
   "name": "conda-root-py"
  },
  "language_info": {
   "codemirror_mode": {
    "name": "ipython",
    "version": 3
   },
   "file_extension": ".py",
   "mimetype": "text/x-python",
   "name": "python",
   "nbconvert_exporter": "python",
   "pygments_lexer": "ipython3",
   "version": "3.5.2"
  }
 },
 "nbformat": 4,
 "nbformat_minor": 1
}
