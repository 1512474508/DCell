{
 "cells": [
  {
   "cell_type": "markdown",
   "metadata": {},
   "source": [
    "# Term Property Generator\n",
    "\n",
    "## Introduction\n",
    "\n",
    "This is a script to convert public data sets into a searchable, local Elasticsearch DB.\n",
    "\n",
    "## Requirments\n",
    "* Python 3.x\n",
    "* Elasticsearch 5.x\n",
    "* "
   ]
  },
  {
   "cell_type": "code",
   "execution_count": 1,
   "metadata": {
    "collapsed": false
   },
   "outputs": [
    {
     "data": {
      "text/plain": [
       "<Elasticsearch([{'host': 'localhost', 'port': 9200}])>"
      ]
     },
     "execution_count": 1,
     "metadata": {},
     "output_type": "execute_result"
    }
   ],
   "source": [
    "from elasticsearch import Elasticsearch\n",
    "from datetime import datetime\n",
    "from elasticsearch_dsl import DocType, Date, Integer, Keyword, Text, Object, Nested, Index\n",
    "from elasticsearch_dsl.connections import connections\n",
    "from elasticsearch import Elasticsearch\n",
    "from elasticsearch import helpers\n",
    "from elasticsearch_dsl import Search\n",
    "import pandas as pd\n",
    "\n",
    "from elasticsearch_dsl.query import MultiMatch, Match, Q\n",
    "\n",
    "\n",
    "# Define a default Elasticsearch client\n",
    "connections.create_connection(hosts=['localhost:9200'])"
   ]
  },
  {
   "cell_type": "markdown",
   "metadata": {},
   "source": [
    "## Load gene associations"
   ]
  },
  {
   "cell_type": "code",
   "execution_count": 2,
   "metadata": {
    "collapsed": false
   },
   "outputs": [
    {
     "name": "stdout",
     "output_type": "stream",
     "text": [
      "['DB', 'DB_Object_ID', 'DB_Object_Symbol', 'Qualifier', 'GO_ID', 'DB:Reference', 'Evidence', 'With_or_From', 'Aspect', 'DB_Object_Name', 'DB_Object_Synonym', 'DB_Object_Type', 'taxon', 'Date', 'Assigned_by', 'Annotation_Extension', 'Gene_Product_Form_ID']\n"
     ]
    },
    {
     "data": {
      "text/html": [
       "<div>\n",
       "<table border=\"1\" class=\"dataframe\">\n",
       "  <thead>\n",
       "    <tr style=\"text-align: right;\">\n",
       "      <th></th>\n",
       "      <th>DB</th>\n",
       "      <th>DB_Object_ID</th>\n",
       "      <th>DB_Object_Symbol</th>\n",
       "      <th>Qualifier</th>\n",
       "      <th>GO_ID</th>\n",
       "      <th>DB:Reference</th>\n",
       "      <th>Evidence</th>\n",
       "      <th>With_or_From</th>\n",
       "      <th>Aspect</th>\n",
       "      <th>DB_Object_Name</th>\n",
       "      <th>DB_Object_Synonym</th>\n",
       "      <th>DB_Object_Type</th>\n",
       "      <th>taxon</th>\n",
       "      <th>Date</th>\n",
       "      <th>Assigned_by</th>\n",
       "      <th>Annotation_Extension</th>\n",
       "      <th>Gene_Product_Form_ID</th>\n",
       "    </tr>\n",
       "  </thead>\n",
       "  <tbody>\n",
       "    <tr>\n",
       "      <th>111759</th>\n",
       "      <td>SGD</td>\n",
       "      <td>S000006732</td>\n",
       "      <td>tX(XXX)L</td>\n",
       "      <td>NaN</td>\n",
       "      <td>GO:0005829</td>\n",
       "      <td>SGD_REF:S000181097|PMID:9023104</td>\n",
       "      <td>IC</td>\n",
       "      <td>GO:0030533</td>\n",
       "      <td>C</td>\n",
       "      <td>tRNA of undetermined specificity, predicted by...</td>\n",
       "      <td>tX(XXX)L|tS(GCU)L</td>\n",
       "      <td>gene</td>\n",
       "      <td>taxon:559292</td>\n",
       "      <td>20030507</td>\n",
       "      <td>SGD</td>\n",
       "      <td>NaN</td>\n",
       "      <td>NaN</td>\n",
       "    </tr>\n",
       "    <tr>\n",
       "      <th>111760</th>\n",
       "      <td>SGD</td>\n",
       "      <td>S000006732</td>\n",
       "      <td>tX(XXX)L</td>\n",
       "      <td>NaN</td>\n",
       "      <td>GO:0030533</td>\n",
       "      <td>SGD_REF:S000181097|PMID:9023104</td>\n",
       "      <td>ISM</td>\n",
       "      <td>NaN</td>\n",
       "      <td>F</td>\n",
       "      <td>tRNA of undetermined specificity, predicted by...</td>\n",
       "      <td>tX(XXX)L|tS(GCU)L</td>\n",
       "      <td>gene</td>\n",
       "      <td>taxon:559292</td>\n",
       "      <td>20030507</td>\n",
       "      <td>SGD</td>\n",
       "      <td>NaN</td>\n",
       "      <td>NaN</td>\n",
       "    </tr>\n",
       "    <tr>\n",
       "      <th>111761</th>\n",
       "      <td>SGD</td>\n",
       "      <td>S000007338</td>\n",
       "      <td>tY(GUA)Q</td>\n",
       "      <td>NaN</td>\n",
       "      <td>GO:0070125</td>\n",
       "      <td>SGD_REF:S000181097|PMID:9023104</td>\n",
       "      <td>IC</td>\n",
       "      <td>GO:0030533</td>\n",
       "      <td>P</td>\n",
       "      <td>Mitochondrial tyrosine tRNA (tRNA-Tyr)</td>\n",
       "      <td>tY(GUA)Q</td>\n",
       "      <td>gene</td>\n",
       "      <td>taxon:559292</td>\n",
       "      <td>20150730</td>\n",
       "      <td>SGD</td>\n",
       "      <td>NaN</td>\n",
       "      <td>NaN</td>\n",
       "    </tr>\n",
       "    <tr>\n",
       "      <th>111762</th>\n",
       "      <td>SGD</td>\n",
       "      <td>S000007338</td>\n",
       "      <td>tY(GUA)Q</td>\n",
       "      <td>NaN</td>\n",
       "      <td>GO:0005739</td>\n",
       "      <td>SGD_REF:S000181097|PMID:9023104</td>\n",
       "      <td>IC</td>\n",
       "      <td>GO:0030533</td>\n",
       "      <td>C</td>\n",
       "      <td>Mitochondrial tyrosine tRNA (tRNA-Tyr)</td>\n",
       "      <td>tY(GUA)Q</td>\n",
       "      <td>gene</td>\n",
       "      <td>taxon:559292</td>\n",
       "      <td>20030507</td>\n",
       "      <td>SGD</td>\n",
       "      <td>NaN</td>\n",
       "      <td>NaN</td>\n",
       "    </tr>\n",
       "    <tr>\n",
       "      <th>111763</th>\n",
       "      <td>SGD</td>\n",
       "      <td>S000007338</td>\n",
       "      <td>tY(GUA)Q</td>\n",
       "      <td>NaN</td>\n",
       "      <td>GO:0030533</td>\n",
       "      <td>SGD_REF:S000181097|PMID:9023104</td>\n",
       "      <td>ISM</td>\n",
       "      <td>NaN</td>\n",
       "      <td>F</td>\n",
       "      <td>Mitochondrial tyrosine tRNA (tRNA-Tyr)</td>\n",
       "      <td>tY(GUA)Q</td>\n",
       "      <td>gene</td>\n",
       "      <td>taxon:559292</td>\n",
       "      <td>20060721</td>\n",
       "      <td>SGD</td>\n",
       "      <td>NaN</td>\n",
       "      <td>NaN</td>\n",
       "    </tr>\n",
       "  </tbody>\n",
       "</table>\n",
       "</div>"
      ],
      "text/plain": [
       "         DB DB_Object_ID DB_Object_Symbol Qualifier       GO_ID  \\\n",
       "111759  SGD   S000006732         tX(XXX)L       NaN  GO:0005829   \n",
       "111760  SGD   S000006732         tX(XXX)L       NaN  GO:0030533   \n",
       "111761  SGD   S000007338         tY(GUA)Q       NaN  GO:0070125   \n",
       "111762  SGD   S000007338         tY(GUA)Q       NaN  GO:0005739   \n",
       "111763  SGD   S000007338         tY(GUA)Q       NaN  GO:0030533   \n",
       "\n",
       "                           DB:Reference Evidence With_or_From Aspect  \\\n",
       "111759  SGD_REF:S000181097|PMID:9023104       IC   GO:0030533      C   \n",
       "111760  SGD_REF:S000181097|PMID:9023104      ISM          NaN      F   \n",
       "111761  SGD_REF:S000181097|PMID:9023104       IC   GO:0030533      P   \n",
       "111762  SGD_REF:S000181097|PMID:9023104       IC   GO:0030533      C   \n",
       "111763  SGD_REF:S000181097|PMID:9023104      ISM          NaN      F   \n",
       "\n",
       "                                           DB_Object_Name  DB_Object_Synonym  \\\n",
       "111759  tRNA of undetermined specificity, predicted by...  tX(XXX)L|tS(GCU)L   \n",
       "111760  tRNA of undetermined specificity, predicted by...  tX(XXX)L|tS(GCU)L   \n",
       "111761             Mitochondrial tyrosine tRNA (tRNA-Tyr)           tY(GUA)Q   \n",
       "111762             Mitochondrial tyrosine tRNA (tRNA-Tyr)           tY(GUA)Q   \n",
       "111763             Mitochondrial tyrosine tRNA (tRNA-Tyr)           tY(GUA)Q   \n",
       "\n",
       "       DB_Object_Type         taxon      Date Assigned_by  \\\n",
       "111759           gene  taxon:559292  20030507         SGD   \n",
       "111760           gene  taxon:559292  20030507         SGD   \n",
       "111761           gene  taxon:559292  20150730         SGD   \n",
       "111762           gene  taxon:559292  20030507         SGD   \n",
       "111763           gene  taxon:559292  20060721         SGD   \n",
       "\n",
       "       Annotation_Extension  Gene_Product_Form_ID  \n",
       "111759                  NaN                   NaN  \n",
       "111760                  NaN                   NaN  \n",
       "111761                  NaN                   NaN  \n",
       "111762                  NaN                   NaN  \n",
       "111763                  NaN                   NaN  "
      ]
     },
     "execution_count": 2,
     "metadata": {},
     "output_type": "execute_result"
    }
   ],
   "source": [
    "yeastAnnotationUrl = './data/gene_association.sgd.gz'\n",
    "cols = pd.read_csv('./annotation_columns.txt', names=['col_names'])\n",
    "col_names = cols['col_names'].tolist()\n",
    "print(col_names)\n",
    "\n",
    "yeastAnnotation = pd.read_csv(yeastAnnotationUrl, delimiter='\\t', comment='!', compression='gzip', names=col_names)\n",
    "yeastAnnotation.tail()"
   ]
  },
  {
   "cell_type": "markdown",
   "metadata": {},
   "source": [
    "## Phenotype"
   ]
  },
  {
   "cell_type": "code",
   "execution_count": 4,
   "metadata": {
    "collapsed": false
   },
   "outputs": [
    {
     "name": "stdout",
     "output_type": "stream",
     "text": [
      "['Feature_Name', 'Feature_Type', 'Gene_Name', 'SGDID', 'Reference', 'Experiment_Type', 'Mutant_Type', 'Allele', 'Strain_Background', 'Phenotype', 'Chemical', 'Condition', 'Details', 'Reporter']\n"
     ]
    }
   ],
   "source": [
    "pUrl = 'http://downloads.yeastgenome.org/curation/literature/phenotype_data.tab'\n",
    "\n",
    "p_cols = pd.read_csv('./p_cols.txt', names=['col_names'])\n",
    "p_col_names = p_cols['col_names'].tolist()\n",
    "print(p_col_names)\n",
    "\n",
    "phenotype = pd.read_csv(pUrl, delimiter='\\t', names=p_col_names)"
   ]
  },
  {
   "cell_type": "markdown",
   "metadata": {},
   "source": [
    "## ID Mapping Table"
   ]
  },
  {
   "cell_type": "code",
   "execution_count": 5,
   "metadata": {
    "collapsed": false
   },
   "outputs": [
    {
     "data": {
      "text/html": [
       "<div>\n",
       "<table border=\"1\" class=\"dataframe\">\n",
       "  <thead>\n",
       "    <tr style=\"text-align: right;\">\n",
       "      <th></th>\n",
       "      <th>symbol</th>\n",
       "      <th>locus_name</th>\n",
       "      <th>acc_number</th>\n",
       "      <th>swiss-prot</th>\n",
       "      <th>sgd</th>\n",
       "      <th>sequence_length</th>\n",
       "      <th>3d</th>\n",
       "      <th>chromosome</th>\n",
       "    </tr>\n",
       "  </thead>\n",
       "  <tbody>\n",
       "    <tr>\n",
       "      <th>0</th>\n",
       "      <td>AAC1</td>\n",
       "      <td>YMR056C</td>\n",
       "      <td>P04710</td>\n",
       "      <td>ADT1_YEAST</td>\n",
       "      <td>S000004660</td>\n",
       "      <td>309</td>\n",
       "      <td>13</td>\n",
       "      <td>NaN</td>\n",
       "    </tr>\n",
       "    <tr>\n",
       "      <th>1</th>\n",
       "      <td>AAC3</td>\n",
       "      <td>YBR085W</td>\n",
       "      <td>P18238</td>\n",
       "      <td>ADT3_YEAST</td>\n",
       "      <td>S000000289</td>\n",
       "      <td>307</td>\n",
       "      <td>(3)</td>\n",
       "      <td>2</td>\n",
       "    </tr>\n",
       "    <tr>\n",
       "      <th>2</th>\n",
       "      <td>AAD10</td>\n",
       "      <td>YJR155W</td>\n",
       "      <td>P47182</td>\n",
       "      <td>AAD10_YEAST</td>\n",
       "      <td>S000003916</td>\n",
       "      <td>288</td>\n",
       "      <td>10</td>\n",
       "      <td>NaN</td>\n",
       "    </tr>\n",
       "    <tr>\n",
       "      <th>3</th>\n",
       "      <td>AAD14</td>\n",
       "      <td>YNL331C</td>\n",
       "      <td>P42884</td>\n",
       "      <td>AAD14_YEAST</td>\n",
       "      <td>S000005275</td>\n",
       "      <td>376</td>\n",
       "      <td>14</td>\n",
       "      <td>NaN</td>\n",
       "    </tr>\n",
       "    <tr>\n",
       "      <th>4</th>\n",
       "      <td>AAD15</td>\n",
       "      <td>YOL165C</td>\n",
       "      <td>Q08361</td>\n",
       "      <td>AAD15_YEAST</td>\n",
       "      <td>S000005525</td>\n",
       "      <td>143</td>\n",
       "      <td>15</td>\n",
       "      <td>NaN</td>\n",
       "    </tr>\n",
       "  </tbody>\n",
       "</table>\n",
       "</div>"
      ],
      "text/plain": [
       "  symbol locus_name acc_number   swiss-prot         sgd sequence_length   3d  \\\n",
       "0   AAC1    YMR056C     P04710   ADT1_YEAST  S000004660             309   13   \n",
       "1   AAC3    YBR085W     P18238   ADT3_YEAST  S000000289             307  (3)   \n",
       "2  AAD10    YJR155W     P47182  AAD10_YEAST  S000003916             288   10   \n",
       "3  AAD14    YNL331C     P42884  AAD14_YEAST  S000005275             376   14   \n",
       "4  AAD15    YOL165C     Q08361  AAD15_YEAST  S000005525             143   15   \n",
       "\n",
       "  chromosome  \n",
       "0        NaN  \n",
       "1          2  \n",
       "2        NaN  \n",
       "3        NaN  \n",
       "4        NaN  "
      ]
     },
     "execution_count": 5,
     "metadata": {},
     "output_type": "execute_result"
    }
   ],
   "source": [
    "idmap = pd.read_csv('./yeast_clean4.txt', delimiter='\\t')\n",
    "idmap.head()"
   ]
  },
  {
   "cell_type": "code",
   "execution_count": 6,
   "metadata": {
    "collapsed": true
   },
   "outputs": [],
   "source": [
    "# Create usuful map for ID mapping\n",
    "sgd2info = {}\n",
    "\n",
    "for idx, row in idmap.iterrows():\n",
    "    entry = {}\n",
    "    entry['locus'] = row['locus_name']\n",
    "    entry['acc'] = row['acc_number']\n",
    "    entry['swiss'] = row['swiss-prot']\n",
    "    entry['length'] = row['sequence_length']\n",
    "    \n",
    "    symbols = row['symbol'].split(';')\n",
    "    entry['symbol'] = symbols[0]\n",
    "    \n",
    "    if len(symbols) == 1:\n",
    "        entry['alt_symbols'] = []\n",
    "    else:\n",
    "        entry['alt_symbols'] = symbols[1:]\n",
    "    \n",
    "    if row['3d'] == '(3)':\n",
    "        entry['3d_struct_available'] = True\n",
    "        entry['chromosome'] = row['chromosome']\n",
    "    else:\n",
    "        entry['3d_struct_available'] = False\n",
    "        entry['chromosome'] = row['3d']\n",
    "    \n",
    "    sgd2info[row['sgd']] = entry"
   ]
  },
  {
   "cell_type": "code",
   "execution_count": 7,
   "metadata": {
    "collapsed": false
   },
   "outputs": [
    {
     "data": {
      "text/plain": [
       "{'3d_struct_available': True,\n",
       " 'acc': 'Q00955',\n",
       " 'alt_symbols': ['ABP2', 'FAS3', 'MTR7'],\n",
       " 'chromosome': '14',\n",
       " 'length': '2233',\n",
       " 'locus': 'YNR016C',\n",
       " 'swiss': 'ACAC_YEAST',\n",
       " 'symbol': 'ACC1'}"
      ]
     },
     "execution_count": 7,
     "metadata": {},
     "output_type": "execute_result"
    }
   ],
   "source": [
    "sgd2info['S000005299']"
   ]
  },
  {
   "cell_type": "markdown",
   "metadata": {},
   "source": [
    "## Define GO Term Entry"
   ]
  },
  {
   "cell_type": "code",
   "execution_count": 8,
   "metadata": {
    "collapsed": false
   },
   "outputs": [],
   "source": [
    "# Map from GO Term to genes\n",
    "go2gene = {}\n",
    "\n",
    "go2idset = {}\n",
    "\n",
    "for idx, row in yeastAnnotation.iterrows():\n",
    "    goterm = row['GO_ID']\n",
    "    gene_id = row['DB_Object_ID']\n",
    "    symbol = row['DB_Object_Symbol']\n",
    "    full_name = str(row['DB_Object_Name']).replace('\\r\\n', '')\n",
    "    \n",
    "    \n",
    "    # for gene info\n",
    "    if gene_id in sgd2info:\n",
    "        entry = sgd2info[gene_id]\n",
    "        entry['name'] = full_name\n",
    "    \n",
    "    cur_entry = []\n",
    "    \n",
    "    if goterm in go2gene:\n",
    "        cur_entry = go2gene[goterm]\n",
    "        gene_set = go2idset[goterm]\n",
    "    else:\n",
    "        gene_set = set()\n",
    "        go2idset[goterm] = gene_set\n",
    "    \n",
    "    ids = go2idset[goterm]\n",
    "    \n",
    "    if gene_id not in ids:\n",
    "        gene = {\n",
    "            'sgdid': gene_id,\n",
    "            'symbol': symbol,\n",
    "            'name': full_name\n",
    "        }\n",
    "    \n",
    "        ids.add(gene_id)\n",
    "        go2idset[goterm] = ids\n",
    "        \n",
    "        cur_entry.append(gene)\n",
    "        go2gene[goterm] = cur_entry"
   ]
  },
  {
   "cell_type": "code",
   "execution_count": 9,
   "metadata": {
    "collapsed": false
   },
   "outputs": [
    {
     "data": {
      "text/plain": [
       "{'3d_struct_available': True,\n",
       " 'acc': 'Q00955',\n",
       " 'alt_symbols': ['ABP2', 'FAS3', 'MTR7'],\n",
       " 'chromosome': '14',\n",
       " 'length': '2233',\n",
       " 'locus': 'YNR016C',\n",
       " 'name': 'Acetyl-CoA carboxylase, biotin containing enzyme',\n",
       " 'swiss': 'ACAC_YEAST',\n",
       " 'symbol': 'ACC1'}"
      ]
     },
     "execution_count": 9,
     "metadata": {},
     "output_type": "execute_result"
    }
   ],
   "source": [
    "sgd2info['S000005299']"
   ]
  },
  {
   "cell_type": "code",
   "execution_count": 12,
   "metadata": {
    "collapsed": false
   },
   "outputs": [],
   "source": [
    "class GoTerm(DocType):\n",
    "    termid = Text(index='not_analyzed')\n",
    "    name = Text(analyzer='standard')\n",
    "    namespace = Text(analyzer='standard')\n",
    "    definition = Text(analyzer='standard')\n",
    "    parents = Object(multi=True)\n",
    "    children = Object(multi=True)\n",
    "\n",
    "    genes = Object(multi=True)\n",
    "    \n",
    "    class Meta:\n",
    "        index = 'terms'\n",
    "\n",
    "class Gene(DocType):\n",
    "    id = Text(index='not_analyzed')\n",
    "    symbol = Text(analyzer='standard')\n",
    "    name = Text(analyzer='standard')\n",
    "    synonyms = Text(analyzer='standard', multi=True)\n",
    "    locus = Text(analyzer='standard')\n",
    "    \n",
    "    class Meta:\n",
    "        index = 'genes'"
   ]
  },
  {
   "cell_type": "code",
   "execution_count": 36,
   "metadata": {
    "collapsed": false
   },
   "outputs": [],
   "source": [
    "GoTerm.init()\n",
    "Gene.init()"
   ]
  },
  {
   "cell_type": "code",
   "execution_count": 14,
   "metadata": {
    "collapsed": false
   },
   "outputs": [
    {
     "name": "stdout",
     "output_type": "stream",
     "text": [
      "load obo file ./data/go.obo\n",
      "./data/go.obo: fmt(1.2) rel(2016-11-29) 47,822 GO Terms\n"
     ]
    }
   ],
   "source": [
    "from goatools import obo_parser\n",
    "oboUrl = './data/go.obo'\n",
    "obo = obo_parser.GODag(oboUrl, optional_attrs=['def'])"
   ]
  },
  {
   "cell_type": "code",
   "execution_count": 15,
   "metadata": {
    "collapsed": false
   },
   "outputs": [
    {
     "name": "stdout",
     "output_type": "stream",
     "text": [
      "{'number_of_pending_tasks': 0, 'cluster_name': 'elasticsearch', 'number_of_nodes': 1, 'unassigned_shards': 10, 'number_of_data_nodes': 1, 'active_primary_shards': 10, 'task_max_waiting_in_queue_millis': 0, 'status': 'yellow', 'timed_out': False, 'number_of_in_flight_fetch': 0, 'delayed_unassigned_shards': 0, 'active_shards_percent_as_number': 50.0, 'relocating_shards': 0, 'initializing_shards': 0, 'active_shards': 10}\n"
     ]
    }
   ],
   "source": [
    "def get_go_term(term):\n",
    "    g = {}\n",
    "    if term.id in go2gene:\n",
    "        g = go2gene[term.id]\n",
    "    \n",
    "    parents = []\n",
    "    children = []\n",
    "    \n",
    "    for p in term.parents:\n",
    "        parents.append({'id': p.id, 'name': p.name})\n",
    "    for c in term.children:\n",
    "        children.append({'id': c.id, 'name': c.name})\n",
    "    \n",
    "    definition = term.defn.split('\"')[1]\n",
    "        \n",
    "    return GoTerm(\n",
    "        meta={'id':  term.id},\n",
    "        termid=term.id,\n",
    "        name=term.name,\n",
    "        namespace=term.namespace,\n",
    "        definition=definition,\n",
    "        parents=parents,\n",
    "        children=children,\n",
    "        genes=g\n",
    ")\n",
    "\n",
    "print(connections.get_connection().cluster.health())"
   ]
  },
  {
   "cell_type": "code",
   "execution_count": 16,
   "metadata": {
    "collapsed": false
   },
   "outputs": [],
   "source": [
    "def get_gene(gene, id):\n",
    "    name = ''\n",
    "    if 'name' in gene:\n",
    "        name = gene['name']\n",
    "    \n",
    "    return Gene(\n",
    "        meta={'id':  id},\n",
    "        id = id,\n",
    "        symbol = gene['symbol'],\n",
    "        name = name,\n",
    "        synonyms = gene['alt_symbols'],\n",
    "        locus = gene['locus']\n",
    ")"
   ]
  },
  {
   "cell_type": "code",
   "execution_count": 17,
   "metadata": {
    "collapsed": true
   },
   "outputs": [],
   "source": [
    "es = Elasticsearch(host='localhost', port=9200)\n",
    "pool = []"
   ]
  },
  {
   "cell_type": "code",
   "execution_count": 38,
   "metadata": {
    "collapsed": false
   },
   "outputs": [
    {
     "name": "stdout",
     "output_type": "stream",
     "text": [
      "47822\n",
      "Bulk add start:\n",
      "Bulk add success!\n",
      "Bulk add start:\n",
      "Bulk add success!\n",
      "Bulk add start:\n",
      "Bulk add success!\n",
      "Bulk add start:\n",
      "Bulk add success!\n",
      "Bulk add start:\n",
      "Bulk add success!\n",
      "Bulk add start:\n",
      "Bulk add success!\n",
      "Bulk add start:\n",
      "Bulk add success!\n",
      "Bulk add start:\n",
      "Bulk add success!\n",
      "Bulk add start:\n",
      "Bulk add success!\n",
      "Bulk add start:\n",
      "Bulk add success!\n",
      "Last: 2348\n",
      "---------------success!\n"
     ]
    }
   ],
   "source": [
    "term_ids = obo.keys()\n",
    "print(len(term_ids))\n",
    "\n",
    "for id in term_ids:    \n",
    "    d = get_go_term(obo[id])\n",
    "    term = {'_index': getattr(d.meta, 'index', d._doc_type.index), '_type': d._doc_type.name,  '_id': d.termid, '_source': d.to_dict()}\n",
    "    pool.append(term)\n",
    "    if len(pool) > 5000:\n",
    "        print('Bulk add start:')\n",
    "        helpers.bulk(es, pool)\n",
    "        print('Bulk add success!')\n",
    "\n",
    "        pool = []\n",
    "\n",
    "if len(pool) > 0:\n",
    "    print('Last: ' + str(len(pool)))\n",
    "    helpers.bulk(es, pool)\n",
    "    print('---------------success!')\n"
   ]
  },
  {
   "cell_type": "code",
   "execution_count": 39,
   "metadata": {
    "collapsed": false
   },
   "outputs": [
    {
     "name": "stdout",
     "output_type": "stream",
     "text": [
      "6724\n",
      "Bulk add start:\n",
      "Bulk add success!\n",
      "Last: 4071\n",
      "---------------success!\n"
     ]
    }
   ],
   "source": [
    "ids = sgd2info.keys()\n",
    "\n",
    "print(len(ids))\n",
    "\n",
    "for id in ids:    \n",
    "    d = get_gene(sgd2info[id], id)\n",
    "    term = {'_index': getattr(d.meta, 'index', d._doc_type.index), '_type': d._doc_type.name, '_id': d.id, '_source': d.to_dict()}\n",
    "    pool.append(term)\n",
    "    if len(pool) > 5000:\n",
    "        print('Bulk add start:')\n",
    "        helpers.bulk(es, pool)\n",
    "        print('Bulk add success!')\n",
    "\n",
    "        pool = []\n",
    "\n",
    "if len(pool) > 0:\n",
    "    print('Last: ' + str(len(pool)))\n",
    "    helpers.bulk(es, pool)\n",
    "    print('---------------success!')"
   ]
  },
  {
   "cell_type": "code",
   "execution_count": 46,
   "metadata": {
    "collapsed": false
   },
   "outputs": [],
   "source": [
    "s = Search(using=es, index=\"terms\").query(\"match\", __id='GO:0070312')"
   ]
  },
  {
   "cell_type": "code",
   "execution_count": 47,
   "metadata": {
    "collapsed": false
   },
   "outputs": [],
   "source": [
    "response = s.execute()"
   ]
  },
  {
   "cell_type": "code",
   "execution_count": 48,
   "metadata": {
    "collapsed": false,
    "scrolled": false
   },
   "outputs": [],
   "source": [
    "import json\n",
    "\n",
    "for hit in response:\n",
    "    print(json.dumps(hit.to_dict(), indent=4))\n"
   ]
  }
 ],
 "metadata": {
  "anaconda-cloud": {},
  "kernelspec": {
   "display_name": "Python [conda root]",
   "language": "python",
   "name": "conda-root-py"
  },
  "language_info": {
   "codemirror_mode": {
    "name": "ipython",
    "version": 3
   },
   "file_extension": ".py",
   "mimetype": "text/x-python",
   "name": "python",
   "nbconvert_exporter": "python",
   "pygments_lexer": "ipython3",
   "version": "3.5.2"
  }
 },
 "nbformat": 4,
 "nbformat_minor": 1
}
