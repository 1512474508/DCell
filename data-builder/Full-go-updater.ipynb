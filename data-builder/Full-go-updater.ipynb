{
 "cells": [
  {
   "cell_type": "code",
   "execution_count": 1,
   "metadata": {
    "collapsed": true
   },
   "outputs": [],
   "source": [
    "import pandas as pd\n",
    "from goatools import obo_parser\n",
    "\n",
    "oboUrl = './data/go.obo'\n",
    "treeSourceUrl = 'http://chianti.ucsd.edu/~kono/ci/data/collapsed_go.no_IGI.propagated.small_parent_tree'\n",
    "oboUrl = './data/go.obo'\n",
    "yeastAnnotationUrl = './data/gene_association.sgd.gz'\n",
    "kegg2goUrl = 'http://geneontology.org/external2go/kegg2go'\n",
    "reactome2go = 'http://geneontology.org/external2go/reactome2go'\n",
    "\n",
    "phenotypeUrl='http://downloads.yeastgenome.org/curation/literature/phenotype_data.tab'"
   ]
  },
  {
   "cell_type": "code",
   "execution_count": 2,
   "metadata": {},
   "outputs": [
    {
     "data": {
      "text/html": [
       "<div>\n",
       "<table border=\"1\" class=\"dataframe\">\n",
       "  <thead>\n",
       "    <tr style=\"text-align: right;\">\n",
       "      <th></th>\n",
       "      <th>parent</th>\n",
       "      <th>child</th>\n",
       "      <th>type</th>\n",
       "      <th>in_tree</th>\n",
       "    </tr>\n",
       "  </thead>\n",
       "  <tbody>\n",
       "    <tr>\n",
       "      <th>441927</th>\n",
       "      <td>GO:0090150</td>\n",
       "      <td>YHR083W</td>\n",
       "      <td>gene</td>\n",
       "      <td>NOT_TREE</td>\n",
       "    </tr>\n",
       "    <tr>\n",
       "      <th>441928</th>\n",
       "      <td>GO:0005575</td>\n",
       "      <td>YHR083W</td>\n",
       "      <td>gene</td>\n",
       "      <td>NOT_TREE</td>\n",
       "    </tr>\n",
       "    <tr>\n",
       "      <th>441929</th>\n",
       "      <td>GO:0098796</td>\n",
       "      <td>YHR083W</td>\n",
       "      <td>gene</td>\n",
       "      <td>NOT_TREE</td>\n",
       "    </tr>\n",
       "    <tr>\n",
       "      <th>441930</th>\n",
       "      <td>GO:1902589</td>\n",
       "      <td>YHR083W</td>\n",
       "      <td>gene</td>\n",
       "      <td>NOT_TREE</td>\n",
       "    </tr>\n",
       "    <tr>\n",
       "      <th>441931</th>\n",
       "      <td>GO:0044085</td>\n",
       "      <td>YHR083W</td>\n",
       "      <td>gene</td>\n",
       "      <td>NOT_TREE</td>\n",
       "    </tr>\n",
       "    <tr>\n",
       "      <th>441932</th>\n",
       "      <td>GO:0015031</td>\n",
       "      <td>YHR083W</td>\n",
       "      <td>gene</td>\n",
       "      <td>NOT_TREE</td>\n",
       "    </tr>\n",
       "    <tr>\n",
       "      <th>441933</th>\n",
       "      <td>GO:1902582</td>\n",
       "      <td>YHR083W</td>\n",
       "      <td>gene</td>\n",
       "      <td>NOT_TREE</td>\n",
       "    </tr>\n",
       "    <tr>\n",
       "      <th>441934</th>\n",
       "      <td>GO:1902580</td>\n",
       "      <td>YHR083W</td>\n",
       "      <td>gene</td>\n",
       "      <td>NOT_TREE</td>\n",
       "    </tr>\n",
       "    <tr>\n",
       "      <th>441935</th>\n",
       "      <td>GO:0098799</td>\n",
       "      <td>YHR083W</td>\n",
       "      <td>gene</td>\n",
       "      <td>NOT_TREE</td>\n",
       "    </tr>\n",
       "    <tr>\n",
       "      <th>441936</th>\n",
       "      <td>GO:0098798</td>\n",
       "      <td>YHR083W</td>\n",
       "      <td>gene</td>\n",
       "      <td>NOT_TREE</td>\n",
       "    </tr>\n",
       "  </tbody>\n",
       "</table>\n",
       "</div>"
      ],
      "text/plain": [
       "            parent    child  type   in_tree\n",
       "441927  GO:0090150  YHR083W  gene  NOT_TREE\n",
       "441928  GO:0005575  YHR083W  gene  NOT_TREE\n",
       "441929  GO:0098796  YHR083W  gene  NOT_TREE\n",
       "441930  GO:1902589  YHR083W  gene  NOT_TREE\n",
       "441931  GO:0044085  YHR083W  gene  NOT_TREE\n",
       "441932  GO:0015031  YHR083W  gene  NOT_TREE\n",
       "441933  GO:1902582  YHR083W  gene  NOT_TREE\n",
       "441934  GO:1902580  YHR083W  gene  NOT_TREE\n",
       "441935  GO:0098799  YHR083W  gene  NOT_TREE\n",
       "441936  GO:0098798  YHR083W  gene  NOT_TREE"
      ]
     },
     "execution_count": 2,
     "metadata": {},
     "output_type": "execute_result"
    }
   ],
   "source": [
    "treeColNames = ['parent', 'child', 'type', 'in_tree']\n",
    "tree = pd.read_csv(treeSourceUrl, delimiter='\\t', names=treeColNames)\n",
    "tree.tail(10)"
   ]
  },
  {
   "cell_type": "code",
   "execution_count": 3,
   "metadata": {},
   "outputs": [
    {
     "name": "stdout",
     "output_type": "stream",
     "text": [
      "load obo file ./data/go.obo\n",
      "./data/go.obo: fmt(1.2) rel(2016-12-23) 47,905 GO Terms\n"
     ]
    }
   ],
   "source": [
    "obo = obo_parser.GODag(oboUrl)"
   ]
  },
  {
   "cell_type": "code",
   "execution_count": 148,
   "metadata": {},
   "outputs": [],
   "source": [
    "import networkx as nx\n",
    "\n",
    "G=nx.DiGraph()\n",
    "\n",
    "node_set = set()\n",
    "edges = []\n",
    "\n",
    "for row in tree.itertuples():\n",
    "    node_set.add(row[1])\n",
    "    node_set.add(row[2])\n",
    "    if \"GO:\" in row[1] and \"GO:\" in row[2]:\n",
    "        edges.append((row[2], row[1]))"
   ]
  },
  {
   "cell_type": "code",
   "execution_count": 149,
   "metadata": {},
   "outputs": [
    {
     "data": {
      "text/plain": [
       "14528"
      ]
     },
     "execution_count": 149,
     "metadata": {},
     "output_type": "execute_result"
    }
   ],
   "source": [
    "for node in node_set:\n",
    "     if \"GO:\" in node:\n",
    "        G.add_node(node)\n",
    "    \n",
    "len(edges)"
   ]
  },
  {
   "cell_type": "code",
   "execution_count": 150,
   "metadata": {},
   "outputs": [],
   "source": [
    "for e in edges:\n",
    "    G.add_edge(e[0], e[1])"
   ]
  },
  {
   "cell_type": "code",
   "execution_count": 151,
   "metadata": {
    "scrolled": true
   },
   "outputs": [
    {
     "name": "stdout",
     "output_type": "stream",
     "text": [
      "Name: \n",
      "Type: DiGraph\n",
      "Number of nodes: 6618\n",
      "Number of edges: 14528\n",
      "Average in degree:   2.1952\n",
      "Average out degree:   2.1952\n",
      "GO:00SUPER\n"
     ]
    }
   ],
   "source": [
    "print(nx.info(G))\n",
    "for n in G.nodes():\n",
    "    if n == 'GO:00SUPER':\n",
    "        print(n)\n",
    "        \n",
    "root = G.node['GO:00SUPER']\n"
   ]
  },
  {
   "cell_type": "code",
   "execution_count": 153,
   "metadata": {
    "scrolled": false
   },
   "outputs": [
    {
     "name": "stdout",
     "output_type": "stream",
     "text": [
      "{'GO:0098798', 'GO:0044455', 'GO:0044425', 'GO:0019867', 'GO:0098588', 'GO:0044422', 'GO:0098805', 'GO:0044464', 'GO:0032991', 'GO:0044444', 'GO:0005740', 'GO:0044446', 'GO:0044424', 'GO:0043231', 'GO:0043234', 'GO:0043226', 'GO:0043227', 'GO:0005737', 'GO:0098799', 'GO:0016020', 'GO:0044429', 'GO:0031966', 'GO:00SUPER', 'GO:0043229', 'GO:0031090', 'GO:0031967', 'GO:0005741', 'GO:0005739', 'GO:0005622', 'GO:0005575', 'GO:0098796', 'GO:0031968'}\n",
      "Name: \n",
      "Type: DiGraph\n",
      "Number of nodes: 32\n",
      "Number of edges: 63\n",
      "Average in degree:   1.9688\n",
      "Average out degree:   1.9688\n"
     ]
    }
   ],
   "source": [
    "paths = nx.all_simple_paths(G, source='GO:0098799', target='GO:00SUPER')\n",
    "\n",
    "sg = nx.DiGraph()\n",
    "ns = set()\n",
    "\n",
    "for p in paths:\n",
    "    p_len = len(p)\n",
    "    \n",
    "    for i, v in enumerate(p):\n",
    "        \n",
    "        if i < p_len-1:\n",
    "            s = v\n",
    "            t = p[i+1]\n",
    "            \n",
    "            if s not in ns:\n",
    "                sg.add_node(s)\n",
    "                ns.add(s)\n",
    "            if t not in ns:\n",
    "                sg.add_node(t)\n",
    "                ns.add(t)\n",
    "            sg.add_edge(s, t)\n",
    "\n",
    "print(ns)\n",
    "print(nx.info(sg))\n",
    "\n",
    "nx.write_graphml(sg, \"test.graphml\")"
   ]
  },
  {
   "cell_type": "code",
   "execution_count": 102,
   "metadata": {},
   "outputs": [
    {
     "data": {
      "text/plain": [
       "'IGRAPH DN-- 6618 0 -- \\n+ attr: name (v)'"
      ]
     },
     "execution_count": 102,
     "metadata": {},
     "output_type": "execute_result"
    }
   ],
   "source": [
    "import igraph as ig\n",
    "\n",
    "g = ig.Graph(directed=True)\n",
    "for node in node_set:\n",
    "    if \"GO:\" in node:\n",
    "        g.add_vertex(name=node)\n",
    "\n",
    "g.summary()"
   ]
  },
  {
   "cell_type": "code",
   "execution_count": 103,
   "metadata": {},
   "outputs": [],
   "source": [
    "g.add_edges(edges)"
   ]
  },
  {
   "cell_type": "code",
   "execution_count": 104,
   "metadata": {},
   "outputs": [
    {
     "name": "stdout",
     "output_type": "stream",
     "text": [
      "('GO:0098798', 'GO:0005739')\n",
      "('GO:0098798', 'GO:0044429')\n",
      "('GO:0098798', 'GO:0043234')\n",
      "('GO:0017087', 'GO:0098798')\n",
      "('GO:0098800', 'GO:0098798')\n",
      "('GO:0098799', 'GO:0098798')\n",
      "('GO:0030062', 'GO:0098798')\n"
     ]
    }
   ],
   "source": [
    "g.summary()\n",
    "for e in edges:\n",
    "    if e[0] == 'GO:0098798' or e[1]=='GO:0098798':\n",
    "        print(e)"
   ]
  },
  {
   "cell_type": "code",
   "execution_count": 117,
   "metadata": {},
   "outputs": [],
   "source": [
    "paths1 = g.vertex_disjoint_paths(g.vs.find('GO:0098798').index, target=g.vs.find('GO:00SUPER').index)"
   ]
  },
  {
   "cell_type": "code",
   "execution_count": 118,
   "metadata": {},
   "outputs": [
    {
     "name": "stdout",
     "output_type": "stream",
     "text": [
      "GO:0003857\n",
      "1\n"
     ]
    }
   ],
   "source": [
    "print(g.vs[2787]['name'])\n",
    "print(paths1)\n"
   ]
  },
  {
   "cell_type": "code",
   "execution_count": 108,
   "metadata": {},
   "outputs": [
    {
     "name": "stdout",
     "output_type": "stream",
     "text": [
      "GO:0098798 --> GO:0043234\n",
      "GO:0043234 --> GO:0032991\n",
      "GO:0032991 --> GO:0005575\n",
      "GO:0005575 --> GO:00SUPER\n",
      "-----\n",
      "{'GO:0032991', 'GO:0043234', 'GO:0098798', 'GO:00SUPER', 'GO:0005575'}\n"
     ]
    }
   ],
   "source": [
    "subg = ig.Graph()\n",
    "n_set = set()\n",
    "\n",
    "for p in paths1:\n",
    "    p_len = len(p)\n",
    "    \n",
    "    \n",
    "    for i, v in enumerate(p):\n",
    "        if i < p_len-1:\n",
    "#             print(str(v) + ' --> ' + str(p[i+1]))\n",
    "            s = g.vs[v]['name']\n",
    "            t = g.vs[p[i+1]]['name']\n",
    "            print(s + ' --> ' + t)\n",
    "            if s not in n_set: \n",
    "                subg.add_vertex(s)\n",
    "                n_set.add(s)\n",
    "            if t not in n_set:\n",
    "                subg.add_vertex(t)\n",
    "                n_set.add(t)\n",
    "            subg.add_edge(source=s, target=t)\n",
    "    print('-----')\n",
    "\n",
    "subg.summary()\n",
    "print(n_set)"
   ]
  },
  {
   "cell_type": "code",
   "execution_count": 101,
   "metadata": {},
   "outputs": [],
   "source": [
    "subg.save(\"sub.gml\", format=\"gml\")"
   ]
  }
 ],
 "metadata": {
  "anaconda-cloud": {},
  "kernelspec": {
   "display_name": "Python [conda root]",
   "language": "python",
   "name": "conda-root-py"
  },
  "language_info": {
   "codemirror_mode": {
    "name": "ipython",
    "version": 3
   },
   "file_extension": ".py",
   "mimetype": "text/x-python",
   "name": "python",
   "nbconvert_exporter": "python",
   "pygments_lexer": "ipython3",
   "version": "3.5.3"
  }
 },
 "nbformat": 4,
 "nbformat_minor": 1
}
