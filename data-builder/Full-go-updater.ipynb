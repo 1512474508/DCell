{
 "cells": [
  {
   "cell_type": "markdown",
   "metadata": {},
   "source": [
    "# Build full go tree from Cytoscape.js JSON\n"
   ]
  },
  {
   "cell_type": "code",
   "execution_count": 1,
   "metadata": {
    "collapsed": true
   },
   "outputs": [],
   "source": [
    "import pandas as pd\n",
    "from goatools import obo_parser\n",
    "\n",
    "oboUrl = './data/go.obo'\n",
    "treeSourceUrl = 'http://chianti.ucsd.edu/~kono/ci/data/collapsed_go.no_IGI.propagated.small_parent_tree'\n",
    "oboUrl = './data/go.obo'\n",
    "yeastAnnotationUrl = './data/gene_association.sgd.gz'\n",
    "kegg2goUrl = 'http://geneontology.org/external2go/kegg2go'\n",
    "reactome2go = 'http://geneontology.org/external2go/reactome2go'\n",
    "\n",
    "phenotypeUrl='http://downloads.yeastgenome.org/curation/literature/phenotype_data.tab'"
   ]
  },
  {
   "cell_type": "code",
   "execution_count": 2,
   "metadata": {
    "collapsed": true
   },
   "outputs": [],
   "source": [
    "import json\n",
    "\n",
    "with open('data/full-go.cyjs') as data_file:    \n",
    "    original = json.load(data_file)"
   ]
  },
  {
   "cell_type": "code",
   "execution_count": 29,
   "metadata": {},
   "outputs": [
    {
     "name": "stdout",
     "output_type": "stream",
     "text": [
      "{'data': {'shared_name': 'YNL259C', 'id': '425956', 'SUID': 425956, 'selected': False, 'name': 'YNL259C'}, 'position': {'y': 29466.993279476694, 'x': 16546.29659293159}, 'selected': False}\n",
      "{'data': {'source': '425956', 'shared_name': 'YNL259C (gene) GO:0016531', 'selected': False, 'interaction': 'gene', 'target': '12823', 'isTree': 'TREE', 'name': 'YNL259C (gene) GO:0016531', 'id': '425981', 'shared_interaction': 'gene', 'SUID': 425981}, 'selected': False}\n"
     ]
    }
   ],
   "source": [
    "print(original['elements']['nodes'][0])\n",
    "\n",
    "print(original['elements']['edges'][0])\n"
   ]
  },
  {
   "cell_type": "code",
   "execution_count": 33,
   "metadata": {},
   "outputs": [
    {
     "name": "stdout",
     "output_type": "stream",
     "text": [
      "['DB', 'DB_Object_ID', 'DB_Object_Symbol', 'Qualifier', 'GO_ID', 'DB:Reference', 'Evidence', 'With_or_From', 'Aspect', 'DB_Object_Name', 'DB_Object_Synonym', 'DB_Object_Type', 'taxon', 'Date', 'Assigned_by', 'Annotation_Extension', 'Gene_Product_Form_ID']\n"
     ]
    },
    {
     "data": {
      "text/html": [
       "<div>\n",
       "<style>\n",
       "    .dataframe thead tr:only-child th {\n",
       "        text-align: right;\n",
       "    }\n",
       "\n",
       "    .dataframe thead th {\n",
       "        text-align: left;\n",
       "    }\n",
       "\n",
       "    .dataframe tbody tr th {\n",
       "        vertical-align: top;\n",
       "    }\n",
       "</style>\n",
       "<table border=\"1\" class=\"dataframe\">\n",
       "  <thead>\n",
       "    <tr style=\"text-align: right;\">\n",
       "      <th></th>\n",
       "      <th>DB</th>\n",
       "      <th>DB_Object_ID</th>\n",
       "      <th>DB_Object_Symbol</th>\n",
       "      <th>Qualifier</th>\n",
       "      <th>GO_ID</th>\n",
       "      <th>DB:Reference</th>\n",
       "      <th>Evidence</th>\n",
       "      <th>With_or_From</th>\n",
       "      <th>Aspect</th>\n",
       "      <th>DB_Object_Name</th>\n",
       "      <th>DB_Object_Synonym</th>\n",
       "      <th>DB_Object_Type</th>\n",
       "      <th>taxon</th>\n",
       "      <th>Date</th>\n",
       "      <th>Assigned_by</th>\n",
       "      <th>Annotation_Extension</th>\n",
       "      <th>Gene_Product_Form_ID</th>\n",
       "    </tr>\n",
       "  </thead>\n",
       "  <tbody>\n",
       "    <tr>\n",
       "      <th>0</th>\n",
       "      <td>SGD</td>\n",
       "      <td>S000007287</td>\n",
       "      <td>15S_RRNA</td>\n",
       "      <td>NaN</td>\n",
       "      <td>GO:0005763</td>\n",
       "      <td>SGD_REF:S000073641|PMID:6262728</td>\n",
       "      <td>IDA</td>\n",
       "      <td>NaN</td>\n",
       "      <td>C</td>\n",
       "      <td>Ribosomal RNA of the small mitochondrial ribos...</td>\n",
       "      <td>Q0020|14s rRNA|15S_RRNA_2</td>\n",
       "      <td>gene</td>\n",
       "      <td>taxon:559292</td>\n",
       "      <td>20150612</td>\n",
       "      <td>SGD</td>\n",
       "      <td>NaN</td>\n",
       "      <td>NaN</td>\n",
       "    </tr>\n",
       "    <tr>\n",
       "      <th>1</th>\n",
       "      <td>SGD</td>\n",
       "      <td>S000007287</td>\n",
       "      <td>15S_RRNA</td>\n",
       "      <td>NaN</td>\n",
       "      <td>GO:0032543</td>\n",
       "      <td>SGD_REF:S000073641|PMID:6262728</td>\n",
       "      <td>IC</td>\n",
       "      <td>GO:0005763</td>\n",
       "      <td>P</td>\n",
       "      <td>Ribosomal RNA of the small mitochondrial ribos...</td>\n",
       "      <td>Q0020|14s rRNA|15S_RRNA_2</td>\n",
       "      <td>gene</td>\n",
       "      <td>taxon:559292</td>\n",
       "      <td>20150612</td>\n",
       "      <td>SGD</td>\n",
       "      <td>NaN</td>\n",
       "      <td>NaN</td>\n",
       "    </tr>\n",
       "    <tr>\n",
       "      <th>2</th>\n",
       "      <td>SGD</td>\n",
       "      <td>S000007287</td>\n",
       "      <td>15S_RRNA</td>\n",
       "      <td>NaN</td>\n",
       "      <td>GO:0003735</td>\n",
       "      <td>SGD_REF:S000073641|PMID:6262728</td>\n",
       "      <td>IC</td>\n",
       "      <td>GO:0005763</td>\n",
       "      <td>F</td>\n",
       "      <td>Ribosomal RNA of the small mitochondrial ribos...</td>\n",
       "      <td>Q0020|14s rRNA|15S_RRNA_2</td>\n",
       "      <td>gene</td>\n",
       "      <td>taxon:559292</td>\n",
       "      <td>20150612</td>\n",
       "      <td>SGD</td>\n",
       "      <td>NaN</td>\n",
       "      <td>NaN</td>\n",
       "    </tr>\n",
       "    <tr>\n",
       "      <th>3</th>\n",
       "      <td>SGD</td>\n",
       "      <td>S000007288</td>\n",
       "      <td>21S_RRNA</td>\n",
       "      <td>NaN</td>\n",
       "      <td>GO:0005762</td>\n",
       "      <td>SGD_REF:S000073372|PMID:6759872</td>\n",
       "      <td>IDA</td>\n",
       "      <td>NaN</td>\n",
       "      <td>C</td>\n",
       "      <td>Mitochondrial 21S rRNA</td>\n",
       "      <td>Q0158|21S_rRNA_3|21S_rRNA_4</td>\n",
       "      <td>gene</td>\n",
       "      <td>taxon:559292</td>\n",
       "      <td>20040202</td>\n",
       "      <td>SGD</td>\n",
       "      <td>NaN</td>\n",
       "      <td>NaN</td>\n",
       "    </tr>\n",
       "    <tr>\n",
       "      <th>4</th>\n",
       "      <td>SGD</td>\n",
       "      <td>S000007288</td>\n",
       "      <td>21S_RRNA</td>\n",
       "      <td>NaN</td>\n",
       "      <td>GO:0032543</td>\n",
       "      <td>SGD_REF:S000073372|PMID:6759872</td>\n",
       "      <td>IMP</td>\n",
       "      <td>NaN</td>\n",
       "      <td>P</td>\n",
       "      <td>Mitochondrial 21S rRNA</td>\n",
       "      <td>Q0158|21S_rRNA_3|21S_rRNA_4</td>\n",
       "      <td>gene</td>\n",
       "      <td>taxon:559292</td>\n",
       "      <td>20100715</td>\n",
       "      <td>SGD</td>\n",
       "      <td>NaN</td>\n",
       "      <td>NaN</td>\n",
       "    </tr>\n",
       "  </tbody>\n",
       "</table>\n",
       "</div>"
      ],
      "text/plain": [
       "    DB DB_Object_ID DB_Object_Symbol Qualifier       GO_ID  \\\n",
       "0  SGD   S000007287         15S_RRNA       NaN  GO:0005763   \n",
       "1  SGD   S000007287         15S_RRNA       NaN  GO:0032543   \n",
       "2  SGD   S000007287         15S_RRNA       NaN  GO:0003735   \n",
       "3  SGD   S000007288         21S_RRNA       NaN  GO:0005762   \n",
       "4  SGD   S000007288         21S_RRNA       NaN  GO:0032543   \n",
       "\n",
       "                      DB:Reference Evidence With_or_From Aspect  \\\n",
       "0  SGD_REF:S000073641|PMID:6262728      IDA          NaN      C   \n",
       "1  SGD_REF:S000073641|PMID:6262728       IC   GO:0005763      P   \n",
       "2  SGD_REF:S000073641|PMID:6262728       IC   GO:0005763      F   \n",
       "3  SGD_REF:S000073372|PMID:6759872      IDA          NaN      C   \n",
       "4  SGD_REF:S000073372|PMID:6759872      IMP          NaN      P   \n",
       "\n",
       "                                      DB_Object_Name  \\\n",
       "0  Ribosomal RNA of the small mitochondrial ribos...   \n",
       "1  Ribosomal RNA of the small mitochondrial ribos...   \n",
       "2  Ribosomal RNA of the small mitochondrial ribos...   \n",
       "3                             Mitochondrial 21S rRNA   \n",
       "4                             Mitochondrial 21S rRNA   \n",
       "\n",
       "             DB_Object_Synonym DB_Object_Type         taxon      Date  \\\n",
       "0    Q0020|14s rRNA|15S_RRNA_2           gene  taxon:559292  20150612   \n",
       "1    Q0020|14s rRNA|15S_RRNA_2           gene  taxon:559292  20150612   \n",
       "2    Q0020|14s rRNA|15S_RRNA_2           gene  taxon:559292  20150612   \n",
       "3  Q0158|21S_rRNA_3|21S_rRNA_4           gene  taxon:559292  20040202   \n",
       "4  Q0158|21S_rRNA_3|21S_rRNA_4           gene  taxon:559292  20100715   \n",
       "\n",
       "  Assigned_by Annotation_Extension  Gene_Product_Form_ID  \n",
       "0         SGD                  NaN                   NaN  \n",
       "1         SGD                  NaN                   NaN  \n",
       "2         SGD                  NaN                   NaN  \n",
       "3         SGD                  NaN                   NaN  \n",
       "4         SGD                  NaN                   NaN  "
      ]
     },
     "execution_count": 33,
     "metadata": {},
     "output_type": "execute_result"
    }
   ],
   "source": [
    "cols = pd.read_csv('./annotation_columns.txt', names=['col_names'])\n",
    "col_names = cols['col_names'].tolist()\n",
    "print(col_names)\n",
    "\n",
    "yeastAnnotation = pd.read_csv(yeastAnnotationUrl, delimiter='\\t', comment='!', compression='gzip', names=col_names)\n",
    "yeastAnnotation['DB_Object_Synonym'] = yeastAnnotation['DB_Object_Synonym'].fillna('')\n",
    "yeastAnnotation.head()"
   ]
  },
  {
   "cell_type": "code",
   "execution_count": 11,
   "metadata": {},
   "outputs": [
    {
     "data": {
      "text/html": [
       "<div>\n",
       "<style>\n",
       "    .dataframe thead tr:only-child th {\n",
       "        text-align: right;\n",
       "    }\n",
       "\n",
       "    .dataframe thead th {\n",
       "        text-align: left;\n",
       "    }\n",
       "\n",
       "    .dataframe tbody tr th {\n",
       "        vertical-align: top;\n",
       "    }\n",
       "</style>\n",
       "<table border=\"1\" class=\"dataframe\">\n",
       "  <thead>\n",
       "    <tr style=\"text-align: right;\">\n",
       "      <th></th>\n",
       "      <th>term_id</th>\n",
       "      <th>geneCount</th>\n",
       "    </tr>\n",
       "  </thead>\n",
       "  <tbody>\n",
       "    <tr>\n",
       "      <th>0</th>\n",
       "      <td>GO:0000001</td>\n",
       "      <td>27</td>\n",
       "    </tr>\n",
       "    <tr>\n",
       "      <th>1</th>\n",
       "      <td>GO:0000002</td>\n",
       "      <td>42</td>\n",
       "    </tr>\n",
       "    <tr>\n",
       "      <th>2</th>\n",
       "      <td>GO:0000003</td>\n",
       "      <td>448</td>\n",
       "    </tr>\n",
       "    <tr>\n",
       "      <th>3</th>\n",
       "      <td>GO:0000006</td>\n",
       "      <td>1</td>\n",
       "    </tr>\n",
       "    <tr>\n",
       "      <th>4</th>\n",
       "      <td>GO:0000007</td>\n",
       "      <td>1</td>\n",
       "    </tr>\n",
       "  </tbody>\n",
       "</table>\n",
       "</div>"
      ],
      "text/plain": [
       "      term_id  geneCount\n",
       "0  GO:0000001         27\n",
       "1  GO:0000002         42\n",
       "2  GO:0000003        448\n",
       "3  GO:0000006          1\n",
       "4  GO:0000007          1"
      ]
     },
     "execution_count": 11,
     "metadata": {},
     "output_type": "execute_result"
    }
   ],
   "source": [
    "## Load gene count\n",
    "df_term_size = pd.read_csv('./data/collapsed_go.no_IGI.propagated.term_sizes', delimiter='\\t', names=['term_id', 'geneCount'])\n",
    "df_term_size.head()"
   ]
  },
  {
   "cell_type": "code",
   "execution_count": 13,
   "metadata": {},
   "outputs": [],
   "source": [
    "go_map = {}\n",
    "\n",
    "for row in df_term_size.itertuples():\n",
    "    go_map[row[1]] = int(row[2])"
   ]
  },
  {
   "cell_type": "code",
   "execution_count": 40,
   "metadata": {},
   "outputs": [],
   "source": [
    "gene_map = {}\n",
    "\n",
    "for row in yeastAnnotation.itertuples():\n",
    "    gene_map[row[11].split('|')[0]] = row[3]\n"
   ]
  },
  {
   "cell_type": "code",
   "execution_count": 20,
   "metadata": {},
   "outputs": [
    {
     "name": "stdout",
     "output_type": "stream",
     "text": [
      "load obo file ./data/go.obo\n",
      "./data/go.obo: fmt(1.2) rel(2017-08-10) 49,042 GO Terms\n"
     ]
    }
   ],
   "source": [
    "obo = obo_parser.GODag(oboUrl)"
   ]
  },
  {
   "cell_type": "code",
   "execution_count": 47,
   "metadata": {},
   "outputs": [
    {
     "name": "stdout",
     "output_type": "stream",
     "text": [
      "{'data': {'geneCount': 167, 'id': 'GO:0061695', 'namespace': 'cellular_component', 'name': 'transferase complex, transferring phosphorus-containing groups'}, 'position': {'y': 381203.35697655764, 'x': 336743.222041512}}\n",
      "{'data': {'id': 'YJL124C', 'name': 'LSM1'}, 'position': {'y': 191197.4547364546, 'x': 207072.8630944996}}\n"
     ]
    }
   ],
   "source": [
    "full_go_w_genes = {}\n",
    "new_nodes = []\n",
    "new_edges = []\n",
    "\n",
    "for node in original['elements']['nodes']:\n",
    "    \n",
    "    data = node['data']\n",
    "    new_node = {\n",
    "        'data': {\n",
    "            'id': data['name']\n",
    "        },\n",
    "        'position': {}\n",
    "    }\n",
    "    \n",
    "    data = node['data']\n",
    "    \n",
    "    if (node['data']['name'].startswith('GO'))  and (data['name'] in obo.keys()):\n",
    "        # This is GO\n",
    "        new_node['data']['geneCount'] = go_map[data['name']]\n",
    "        go = obo[data['name']]\n",
    "        new_node['data']['name'] = go.name\n",
    "        new_node['data']['namespace'] = go.namespace\n",
    "    elif not node['data']['name'].startswith('GO'):\n",
    "                \n",
    "        if data['name'] in gene_map.keys():\n",
    "            new_node['data']['name'] = gene_map[data['name']]\n",
    "        else:\n",
    "            new_node['data']['name'] = data['name']\n",
    "    \n",
    "    original_pos = node['position']\n",
    "    \n",
    "    new_node['position']['x'] = original_pos['x']*10 \n",
    "    new_node['position']['y'] = original_pos['y']*10 \n",
    "\n",
    "    \n",
    "    new_nodes.append(new_node)\n",
    "\n",
    "print(new_nodes[9000])\n",
    "print(new_nodes[9])\n"
   ]
  },
  {
   "cell_type": "code",
   "execution_count": 48,
   "metadata": {},
   "outputs": [
    {
     "data": {
      "text/html": [
       "<div>\n",
       "<style>\n",
       "    .dataframe thead tr:only-child th {\n",
       "        text-align: right;\n",
       "    }\n",
       "\n",
       "    .dataframe thead th {\n",
       "        text-align: left;\n",
       "    }\n",
       "\n",
       "    .dataframe tbody tr th {\n",
       "        vertical-align: top;\n",
       "    }\n",
       "</style>\n",
       "<table border=\"1\" class=\"dataframe\">\n",
       "  <thead>\n",
       "    <tr style=\"text-align: right;\">\n",
       "      <th></th>\n",
       "      <th>parent</th>\n",
       "      <th>child</th>\n",
       "      <th>type</th>\n",
       "      <th>in_tree</th>\n",
       "    </tr>\n",
       "  </thead>\n",
       "  <tbody>\n",
       "    <tr>\n",
       "      <th>441927</th>\n",
       "      <td>GO:0090150</td>\n",
       "      <td>YHR083W</td>\n",
       "      <td>gene</td>\n",
       "      <td>NOT_TREE</td>\n",
       "    </tr>\n",
       "    <tr>\n",
       "      <th>441928</th>\n",
       "      <td>GO:0005575</td>\n",
       "      <td>YHR083W</td>\n",
       "      <td>gene</td>\n",
       "      <td>NOT_TREE</td>\n",
       "    </tr>\n",
       "    <tr>\n",
       "      <th>441929</th>\n",
       "      <td>GO:0098796</td>\n",
       "      <td>YHR083W</td>\n",
       "      <td>gene</td>\n",
       "      <td>NOT_TREE</td>\n",
       "    </tr>\n",
       "    <tr>\n",
       "      <th>441930</th>\n",
       "      <td>GO:1902589</td>\n",
       "      <td>YHR083W</td>\n",
       "      <td>gene</td>\n",
       "      <td>NOT_TREE</td>\n",
       "    </tr>\n",
       "    <tr>\n",
       "      <th>441931</th>\n",
       "      <td>GO:0044085</td>\n",
       "      <td>YHR083W</td>\n",
       "      <td>gene</td>\n",
       "      <td>NOT_TREE</td>\n",
       "    </tr>\n",
       "    <tr>\n",
       "      <th>441932</th>\n",
       "      <td>GO:0015031</td>\n",
       "      <td>YHR083W</td>\n",
       "      <td>gene</td>\n",
       "      <td>NOT_TREE</td>\n",
       "    </tr>\n",
       "    <tr>\n",
       "      <th>441933</th>\n",
       "      <td>GO:1902582</td>\n",
       "      <td>YHR083W</td>\n",
       "      <td>gene</td>\n",
       "      <td>NOT_TREE</td>\n",
       "    </tr>\n",
       "    <tr>\n",
       "      <th>441934</th>\n",
       "      <td>GO:1902580</td>\n",
       "      <td>YHR083W</td>\n",
       "      <td>gene</td>\n",
       "      <td>NOT_TREE</td>\n",
       "    </tr>\n",
       "    <tr>\n",
       "      <th>441935</th>\n",
       "      <td>GO:0098799</td>\n",
       "      <td>YHR083W</td>\n",
       "      <td>gene</td>\n",
       "      <td>NOT_TREE</td>\n",
       "    </tr>\n",
       "    <tr>\n",
       "      <th>441936</th>\n",
       "      <td>GO:0098798</td>\n",
       "      <td>YHR083W</td>\n",
       "      <td>gene</td>\n",
       "      <td>NOT_TREE</td>\n",
       "    </tr>\n",
       "  </tbody>\n",
       "</table>\n",
       "</div>"
      ],
      "text/plain": [
       "            parent    child  type   in_tree\n",
       "441927  GO:0090150  YHR083W  gene  NOT_TREE\n",
       "441928  GO:0005575  YHR083W  gene  NOT_TREE\n",
       "441929  GO:0098796  YHR083W  gene  NOT_TREE\n",
       "441930  GO:1902589  YHR083W  gene  NOT_TREE\n",
       "441931  GO:0044085  YHR083W  gene  NOT_TREE\n",
       "441932  GO:0015031  YHR083W  gene  NOT_TREE\n",
       "441933  GO:1902582  YHR083W  gene  NOT_TREE\n",
       "441934  GO:1902580  YHR083W  gene  NOT_TREE\n",
       "441935  GO:0098799  YHR083W  gene  NOT_TREE\n",
       "441936  GO:0098798  YHR083W  gene  NOT_TREE"
      ]
     },
     "execution_count": 48,
     "metadata": {},
     "output_type": "execute_result"
    }
   ],
   "source": [
    "treeColNames = ['parent', 'child', 'type', 'in_tree']\n",
    "tree = pd.read_csv(treeSourceUrl, delimiter='\\t', names=treeColNames)\n",
    "tree.tail(10)"
   ]
  },
  {
   "cell_type": "code",
   "execution_count": null,
   "metadata": {
    "collapsed": true
   },
   "outputs": [],
   "source": []
  },
  {
   "cell_type": "code",
   "execution_count": 148,
   "metadata": {
    "collapsed": true
   },
   "outputs": [],
   "source": [
    "import networkx as nx\n",
    "\n",
    "G=nx.DiGraph()\n",
    "\n",
    "node_set = set()\n",
    "edges = []\n",
    "\n",
    "for row in tree.itertuples():\n",
    "    node_set.add(row[1])\n",
    "    node_set.add(row[2])\n",
    "    if \"GO:\" in row[1] and \"GO:\" in row[2]:\n",
    "        edges.append((row[2], row[1]))"
   ]
  },
  {
   "cell_type": "code",
   "execution_count": 149,
   "metadata": {},
   "outputs": [
    {
     "data": {
      "text/plain": [
       "14528"
      ]
     },
     "execution_count": 149,
     "metadata": {},
     "output_type": "execute_result"
    }
   ],
   "source": [
    "for node in node_set:\n",
    "     if \"GO:\" in node:\n",
    "        G.add_node(node)\n",
    "    \n",
    "len(edges)"
   ]
  },
  {
   "cell_type": "code",
   "execution_count": 150,
   "metadata": {
    "collapsed": true
   },
   "outputs": [],
   "source": [
    "for e in edges:\n",
    "    G.add_edge(e[0], e[1])"
   ]
  },
  {
   "cell_type": "code",
   "execution_count": 151,
   "metadata": {
    "scrolled": true
   },
   "outputs": [
    {
     "name": "stdout",
     "output_type": "stream",
     "text": [
      "Name: \n",
      "Type: DiGraph\n",
      "Number of nodes: 6618\n",
      "Number of edges: 14528\n",
      "Average in degree:   2.1952\n",
      "Average out degree:   2.1952\n",
      "GO:00SUPER\n"
     ]
    }
   ],
   "source": [
    "print(nx.info(G))\n",
    "for n in G.nodes():\n",
    "    if n == 'GO:00SUPER':\n",
    "        print(n)\n",
    "        \n",
    "root = G.node['GO:00SUPER']\n"
   ]
  },
  {
   "cell_type": "code",
   "execution_count": 153,
   "metadata": {
    "scrolled": false
   },
   "outputs": [
    {
     "name": "stdout",
     "output_type": "stream",
     "text": [
      "{'GO:0098798', 'GO:0044455', 'GO:0044425', 'GO:0019867', 'GO:0098588', 'GO:0044422', 'GO:0098805', 'GO:0044464', 'GO:0032991', 'GO:0044444', 'GO:0005740', 'GO:0044446', 'GO:0044424', 'GO:0043231', 'GO:0043234', 'GO:0043226', 'GO:0043227', 'GO:0005737', 'GO:0098799', 'GO:0016020', 'GO:0044429', 'GO:0031966', 'GO:00SUPER', 'GO:0043229', 'GO:0031090', 'GO:0031967', 'GO:0005741', 'GO:0005739', 'GO:0005622', 'GO:0005575', 'GO:0098796', 'GO:0031968'}\n",
      "Name: \n",
      "Type: DiGraph\n",
      "Number of nodes: 32\n",
      "Number of edges: 63\n",
      "Average in degree:   1.9688\n",
      "Average out degree:   1.9688\n"
     ]
    }
   ],
   "source": [
    "paths = nx.all_simple_paths(G, source='GO:0098799', target='GO:00SUPER')\n",
    "\n",
    "sg = nx.DiGraph()\n",
    "ns = set()\n",
    "\n",
    "for p in paths:\n",
    "    p_len = len(p)\n",
    "    \n",
    "    for i, v in enumerate(p):\n",
    "        \n",
    "        if i < p_len-1:\n",
    "            s = v\n",
    "            t = p[i+1]\n",
    "            \n",
    "            if s not in ns:\n",
    "                sg.add_node(s)\n",
    "                ns.add(s)\n",
    "            if t not in ns:\n",
    "                sg.add_node(t)\n",
    "                ns.add(t)\n",
    "            sg.add_edge(s, t)\n",
    "\n",
    "print(ns)\n",
    "print(nx.info(sg))\n",
    "\n",
    "nx.write_graphml(sg, \"test.graphml\")"
   ]
  },
  {
   "cell_type": "code",
   "execution_count": 102,
   "metadata": {},
   "outputs": [
    {
     "data": {
      "text/plain": [
       "'IGRAPH DN-- 6618 0 -- \\n+ attr: name (v)'"
      ]
     },
     "execution_count": 102,
     "metadata": {},
     "output_type": "execute_result"
    }
   ],
   "source": [
    "import igraph as ig\n",
    "\n",
    "g = ig.Graph(directed=True)\n",
    "for node in node_set:\n",
    "    if \"GO:\" in node:\n",
    "        g.add_vertex(name=node)\n",
    "\n",
    "g.summary()"
   ]
  },
  {
   "cell_type": "code",
   "execution_count": 103,
   "metadata": {
    "collapsed": true
   },
   "outputs": [],
   "source": [
    "g.add_edges(edges)"
   ]
  },
  {
   "cell_type": "code",
   "execution_count": 104,
   "metadata": {},
   "outputs": [
    {
     "name": "stdout",
     "output_type": "stream",
     "text": [
      "('GO:0098798', 'GO:0005739')\n",
      "('GO:0098798', 'GO:0044429')\n",
      "('GO:0098798', 'GO:0043234')\n",
      "('GO:0017087', 'GO:0098798')\n",
      "('GO:0098800', 'GO:0098798')\n",
      "('GO:0098799', 'GO:0098798')\n",
      "('GO:0030062', 'GO:0098798')\n"
     ]
    }
   ],
   "source": [
    "g.summary()\n",
    "for e in edges:\n",
    "    if e[0] == 'GO:0098798' or e[1]=='GO:0098798':\n",
    "        print(e)"
   ]
  },
  {
   "cell_type": "code",
   "execution_count": 117,
   "metadata": {
    "collapsed": true
   },
   "outputs": [],
   "source": [
    "paths1 = g.vertex_disjoint_paths(g.vs.find('GO:0098798').index, target=g.vs.find('GO:00SUPER').index)"
   ]
  },
  {
   "cell_type": "code",
   "execution_count": 118,
   "metadata": {},
   "outputs": [
    {
     "name": "stdout",
     "output_type": "stream",
     "text": [
      "GO:0003857\n",
      "1\n"
     ]
    }
   ],
   "source": [
    "print(g.vs[2787]['name'])\n",
    "print(paths1)\n"
   ]
  },
  {
   "cell_type": "code",
   "execution_count": 108,
   "metadata": {},
   "outputs": [
    {
     "name": "stdout",
     "output_type": "stream",
     "text": [
      "GO:0098798 --> GO:0043234\n",
      "GO:0043234 --> GO:0032991\n",
      "GO:0032991 --> GO:0005575\n",
      "GO:0005575 --> GO:00SUPER\n",
      "-----\n",
      "{'GO:0032991', 'GO:0043234', 'GO:0098798', 'GO:00SUPER', 'GO:0005575'}\n"
     ]
    }
   ],
   "source": [
    "subg = ig.Graph()\n",
    "n_set = set()\n",
    "\n",
    "for p in paths1:\n",
    "    p_len = len(p)\n",
    "    \n",
    "    \n",
    "    for i, v in enumerate(p):\n",
    "        if i < p_len-1:\n",
    "#             print(str(v) + ' --> ' + str(p[i+1]))\n",
    "            s = g.vs[v]['name']\n",
    "            t = g.vs[p[i+1]]['name']\n",
    "            print(s + ' --> ' + t)\n",
    "            if s not in n_set: \n",
    "                subg.add_vertex(s)\n",
    "                n_set.add(s)\n",
    "            if t not in n_set:\n",
    "                subg.add_vertex(t)\n",
    "                n_set.add(t)\n",
    "            subg.add_edge(source=s, target=t)\n",
    "    print('-----')\n",
    "\n",
    "subg.summary()\n",
    "print(n_set)"
   ]
  },
  {
   "cell_type": "code",
   "execution_count": 101,
   "metadata": {
    "collapsed": true
   },
   "outputs": [],
   "source": [
    "subg.save(\"sub.gml\", format=\"gml\")"
   ]
  }
 ],
 "metadata": {
  "anaconda-cloud": {},
  "kernelspec": {
   "display_name": "Python [conda root]",
   "language": "python",
   "name": "conda-root-py"
  },
  "language_info": {
   "codemirror_mode": {
    "name": "ipython",
    "version": 3
   },
   "file_extension": ".py",
   "mimetype": "text/x-python",
   "name": "python",
   "nbconvert_exporter": "python",
   "pygments_lexer": "ipython3",
   "version": "3.5.3"
  }
 },
 "nbformat": 4,
 "nbformat_minor": 1
}
