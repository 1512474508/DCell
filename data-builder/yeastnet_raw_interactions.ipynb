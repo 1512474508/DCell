{
 "cells": [
  {
   "cell_type": "code",
   "execution_count": null,
   "metadata": {
    "collapsed": false
   },
   "outputs": [],
   "source": [
    "!python --version\n",
    "!wget http://geneontology.org/gene-associations/gene_association.sgd.gz -O ./data/gene_association.sgd.gz\n",
    "!wget http://purl.obolibrary.org/obo/go.obo -O ./data/go.obo\n",
    "!wget http://chianti.ucsd.edu/\\~kono/ci/data/deep-cell/raw-interactions_clixo_intTable_kei_pm_ranks.txt -O ./data/interaction-table-atgo.txt"
   ]
  },
  {
   "cell_type": "markdown",
   "metadata": {},
   "source": [
    "# From YeastNet to CLIXO term documents\n",
    "\n",
    "## What's this?\n",
    "\n",
    "This notebook is for building Elasticsearch index for CLIXO ontology."
   ]
  },
  {
   "cell_type": "code",
   "execution_count": 2,
   "metadata": {
    "collapsed": false
   },
   "outputs": [
    {
     "name": "stdout",
     "output_type": "stream",
     "text": [
      "0.919767\n"
     ]
    },
    {
     "data": {
      "text/html": [
       "<div>\n",
       "<table border=\"1\" class=\"dataframe\">\n",
       "  <thead>\n",
       "    <tr style=\"text-align: right;\">\n",
       "      <th></th>\n",
       "      <th>term</th>\n",
       "      <th>go</th>\n",
       "      <th>score</th>\n",
       "      <th>fdr</th>\n",
       "      <th>genes</th>\n",
       "    </tr>\n",
       "  </thead>\n",
       "  <tbody>\n",
       "    <tr>\n",
       "      <th>1816</th>\n",
       "      <td>10275</td>\n",
       "      <td>GO:0043173</td>\n",
       "      <td>0.100885</td>\n",
       "      <td>0.008403</td>\n",
       "      <td>17</td>\n",
       "    </tr>\n",
       "    <tr>\n",
       "      <th>1817</th>\n",
       "      <td>10130</td>\n",
       "      <td>GO:0023052</td>\n",
       "      <td>0.100796</td>\n",
       "      <td>0.050699</td>\n",
       "      <td>12</td>\n",
       "    </tr>\n",
       "    <tr>\n",
       "      <th>1818</th>\n",
       "      <td>10417</td>\n",
       "      <td>GO:0031985</td>\n",
       "      <td>0.100767</td>\n",
       "      <td>0.008414</td>\n",
       "      <td>26</td>\n",
       "    </tr>\n",
       "    <tr>\n",
       "      <th>1819</th>\n",
       "      <td>10330</td>\n",
       "      <td>GO:0005816</td>\n",
       "      <td>0.100752</td>\n",
       "      <td>0.008356</td>\n",
       "      <td>20</td>\n",
       "    </tr>\n",
       "    <tr>\n",
       "      <th>1820</th>\n",
       "      <td>10402</td>\n",
       "      <td>GO:1901475</td>\n",
       "      <td>0.100737</td>\n",
       "      <td>0.008299</td>\n",
       "      <td>25</td>\n",
       "    </tr>\n",
       "    <tr>\n",
       "      <th>1821</th>\n",
       "      <td>10348</td>\n",
       "      <td>GO:0004551</td>\n",
       "      <td>0.100707</td>\n",
       "      <td>0.008311</td>\n",
       "      <td>21</td>\n",
       "    </tr>\n",
       "    <tr>\n",
       "      <th>1822</th>\n",
       "      <td>10303</td>\n",
       "      <td>GO:0060962</td>\n",
       "      <td>0.100455</td>\n",
       "      <td>0.008523</td>\n",
       "      <td>18</td>\n",
       "    </tr>\n",
       "    <tr>\n",
       "      <th>1823</th>\n",
       "      <td>10552</td>\n",
       "      <td>GO:0098772</td>\n",
       "      <td>0.100313</td>\n",
       "      <td>0.037656</td>\n",
       "      <td>55</td>\n",
       "    </tr>\n",
       "    <tr>\n",
       "      <th>1824</th>\n",
       "      <td>9932</td>\n",
       "      <td>GO:0015720</td>\n",
       "      <td>0.100272</td>\n",
       "      <td>0.053004</td>\n",
       "      <td>9</td>\n",
       "    </tr>\n",
       "    <tr>\n",
       "      <th>1825</th>\n",
       "      <td>9887</td>\n",
       "      <td>GO:0015292</td>\n",
       "      <td>0.100264</td>\n",
       "      <td>0.052883</td>\n",
       "      <td>9</td>\n",
       "    </tr>\n",
       "  </tbody>\n",
       "</table>\n",
       "</div>"
      ],
      "text/plain": [
       "       term          go     score       fdr  genes\n",
       "1816  10275  GO:0043173  0.100885  0.008403     17\n",
       "1817  10130  GO:0023052  0.100796  0.050699     12\n",
       "1818  10417  GO:0031985  0.100767  0.008414     26\n",
       "1819  10330  GO:0005816  0.100752  0.008356     20\n",
       "1820  10402  GO:1901475  0.100737  0.008299     25\n",
       "1821  10348  GO:0004551  0.100707  0.008311     21\n",
       "1822  10303  GO:0060962  0.100455  0.008523     18\n",
       "1823  10552  GO:0098772  0.100313  0.037656     55\n",
       "1824   9932  GO:0015720  0.100272  0.053004      9\n",
       "1825   9887  GO:0015292  0.100264  0.052883      9"
      ]
     },
     "execution_count": 2,
     "metadata": {},
     "output_type": "execute_result"
    }
   ],
   "source": [
    "import pandas as pd\n",
    "from os import listdir\n",
    "from os.path import isfile, join\n",
    "import numpy as np\n",
    "from goatools import obo_parser\n",
    "\n",
    "# Annotation file for the CLIXO terms\n",
    "clixo_mapping = './data/alignments_FDR_0.1_t_0.1'\n",
    "oboUrl = './data/go.obo'\n",
    "\n",
    "clixo_align = pd.read_csv(clixo_mapping, sep='\\t', names=['term', 'go', 'score', 'fdr', 'genes'])\n",
    "print(clixo_align['score'].max())\n",
    "clixo_align.tail(10)"
   ]
  },
  {
   "cell_type": "markdown",
   "metadata": {},
   "source": [
    "## Load raw interaction table originally created for AtgO\n",
    "\n",
    "This table was created for AtgO, but can be used this, too.\n"
   ]
  },
  {
   "cell_type": "code",
   "execution_count": 3,
   "metadata": {
    "collapsed": false
   },
   "outputs": [
    {
     "name": "stdout",
     "output_type": "stream",
     "text": [
      "{'go': 'GO:0098772', 'score': 0.100313, 'genes': 55, 'fdr': 0.037656300000000004}\n"
     ]
    }
   ],
   "source": [
    "clixo2go = {}\n",
    "for row in clixo_align.itertuples():\n",
    "    c = str(row[1])\n",
    "    go = row[2]\n",
    "    val = {\n",
    "        'go': go,\n",
    "        'score': row[3].item(),\n",
    "        'fdr': row[4].item(),\n",
    "        'genes': row[5].item()\n",
    "    }\n",
    "    clixo2go[c] = val\n",
    "\n",
    "print(clixo2go['10552'])\n",
    "\n",
    "# Save to file (for updating CyJS file)\n",
    "import json\n",
    "with open('./data/clixo-mapping.json', 'w') as outfile:\n",
    "    json.dump(clixo2go, outfile)"
   ]
  },
  {
   "cell_type": "code",
   "execution_count": 4,
   "metadata": {
    "collapsed": false
   },
   "outputs": [
    {
     "name": "stdout",
     "output_type": "stream",
     "text": [
      "load obo file ./data/go.obo\n",
      "./data/go.obo: fmt(1.2) rel(2017-01-16) 47,969 GO Terms\n"
     ]
    }
   ],
   "source": [
    "obo = obo_parser.GODag(oboUrl, optional_attrs=['def'])"
   ]
  },
  {
   "cell_type": "code",
   "execution_count": 5,
   "metadata": {
    "collapsed": false
   },
   "outputs": [
    {
     "data": {
      "text/plain": [
       "'\"The chemical reactions and pathways involving L-serine, the L-enantiomer of serine, i.e. (2S)-2-amino-3-hydroxypropanoic acid.\" [CHEBI:17115, GOC:ai, GOC:jsg]'"
      ]
     },
     "execution_count": 5,
     "metadata": {},
     "output_type": "execute_result"
    }
   ],
   "source": [
    "# test data\n",
    "obo['GO:0006563'].defn"
   ]
  },
  {
   "cell_type": "code",
   "execution_count": 6,
   "metadata": {
    "collapsed": false
   },
   "outputs": [],
   "source": [
    "# This directory should contains all of the YeastNet interaction files\n",
    "# data_path = './data/raw-interactions'\n",
    "# files = [f for f in listdir(data_path) if isfile(join(data_path, f))]\n",
    "# files"
   ]
  },
  {
   "cell_type": "markdown",
   "metadata": {},
   "source": [
    "## Create single interaction DataFrame\n",
    "\n",
    "From all interaction fiules, make a table with all interactions"
   ]
  },
  {
   "cell_type": "code",
   "execution_count": 7,
   "metadata": {
    "collapsed": false
   },
   "outputs": [],
   "source": [
    "# columns = ['source', 'target', 'score']\n",
    "# all_interactions = pd.DataFrame(columns=columns)\n",
    "\n",
    "# for f in files:\n",
    "#     if not f.startswith('INT'):\n",
    "#         continue\n",
    "    \n",
    "#     int_type = f.split('.')[1]\n",
    "#     df = pd.read_csv(data_path+'/'+ f, delimiter='\\t', names=columns)\n",
    "#     df['interaction'] = int_type\n",
    "#     all_interactions = pd.concat([all_interactions, df])\n",
    "\n",
    "# print(all_interactions.shape)\n",
    "# all_interactions.head(10)"
   ]
  },
  {
   "cell_type": "code",
   "execution_count": 8,
   "metadata": {
    "collapsed": false
   },
   "outputs": [],
   "source": [
    "# all_interactions.to_csv('./data/raw-interactions/all.txt', sep='\\t')"
   ]
  },
  {
   "cell_type": "markdown",
   "metadata": {},
   "source": [
    "## Create list of all genes associated with CLIXO terms"
   ]
  },
  {
   "cell_type": "code",
   "execution_count": 9,
   "metadata": {
    "collapsed": false
   },
   "outputs": [
    {
     "data": {
      "text/html": [
       "<div>\n",
       "<table border=\"1\" class=\"dataframe\">\n",
       "  <thead>\n",
       "    <tr style=\"text-align: right;\">\n",
       "      <th></th>\n",
       "      <th>gene</th>\n",
       "      <th>term</th>\n",
       "    </tr>\n",
       "  </thead>\n",
       "  <tbody>\n",
       "    <tr>\n",
       "      <th>0</th>\n",
       "      <td>YGR220C</td>\n",
       "      <td>10000</td>\n",
       "    </tr>\n",
       "    <tr>\n",
       "      <th>1</th>\n",
       "      <td>YPR100W</td>\n",
       "      <td>10000</td>\n",
       "    </tr>\n",
       "    <tr>\n",
       "      <th>2</th>\n",
       "      <td>YNR022C</td>\n",
       "      <td>10000</td>\n",
       "    </tr>\n",
       "    <tr>\n",
       "      <th>3</th>\n",
       "      <td>YNL252C</td>\n",
       "      <td>10000</td>\n",
       "    </tr>\n",
       "    <tr>\n",
       "      <th>4</th>\n",
       "      <td>YCR046C</td>\n",
       "      <td>10000</td>\n",
       "    </tr>\n",
       "  </tbody>\n",
       "</table>\n",
       "</div>"
      ],
      "text/plain": [
       "      gene   term\n",
       "0  YGR220C  10000\n",
       "1  YPR100W  10000\n",
       "2  YNR022C  10000\n",
       "3  YNL252C  10000\n",
       "4  YCR046C  10000"
      ]
     },
     "execution_count": 9,
     "metadata": {},
     "output_type": "execute_result"
    }
   ],
   "source": [
    "# CLIXO term to gene mapping\n",
    "mapping = pd.read_csv('./data/raw-interactions/preds_yeastnet_no_gi_0.04_0.5.txt.propagate.mapping', delimiter='\\t', names=['gene', 'term'])\n",
    "mapping.head()"
   ]
  },
  {
   "cell_type": "code",
   "execution_count": 10,
   "metadata": {
    "collapsed": false
   },
   "outputs": [
    {
     "data": {
      "text/plain": [
       "(4805,)"
      ]
     },
     "execution_count": 10,
     "metadata": {},
     "output_type": "execute_result"
    }
   ],
   "source": [
    "mapping['term'].unique().shape # Number of terms"
   ]
  },
  {
   "cell_type": "code",
   "execution_count": 11,
   "metadata": {
    "collapsed": false
   },
   "outputs": [
    {
     "name": "stdout",
     "output_type": "stream",
     "text": [
      "(5886,)\n",
      "5886\n"
     ]
    }
   ],
   "source": [
    "# All ORF names in CLIXO\n",
    "mixed_ids = mapping['gene'].unique()\n",
    "print(mixed_ids.shape)\n",
    "\n",
    "geneset = set()\n",
    "\n",
    "for row in mapping.itertuples():\n",
    "    geneset.add(row[1])\n",
    "    \n",
    "print(len(geneset))"
   ]
  },
  {
   "cell_type": "markdown",
   "metadata": {},
   "source": [
    "### Standardize the gene IDs to SGD"
   ]
  },
  {
   "cell_type": "code",
   "execution_count": 12,
   "metadata": {
    "collapsed": false
   },
   "outputs": [
    {
     "data": {
      "text/html": [
       "<div>\n",
       "<table border=\"1\" class=\"dataframe\">\n",
       "  <thead>\n",
       "    <tr style=\"text-align: right;\">\n",
       "      <th></th>\n",
       "      <th>DB</th>\n",
       "      <th>DB_Object_ID</th>\n",
       "      <th>DB_Object_Symbol</th>\n",
       "      <th>Qualifier</th>\n",
       "      <th>GO_ID</th>\n",
       "      <th>DB:Reference</th>\n",
       "      <th>Evidence</th>\n",
       "      <th>With_or_From</th>\n",
       "      <th>Aspect</th>\n",
       "      <th>DB_Object_Name</th>\n",
       "      <th>DB_Object_Synonym</th>\n",
       "      <th>DB_Object_Type</th>\n",
       "      <th>taxon</th>\n",
       "      <th>Date</th>\n",
       "      <th>Assigned_by</th>\n",
       "      <th>Annotation_Extension</th>\n",
       "      <th>Gene_Product_Form_ID</th>\n",
       "    </tr>\n",
       "  </thead>\n",
       "  <tbody>\n",
       "    <tr>\n",
       "      <th>111384</th>\n",
       "      <td>SGD</td>\n",
       "      <td>S000006732</td>\n",
       "      <td>tX(XXX)L</td>\n",
       "      <td>NaN</td>\n",
       "      <td>GO:0030533</td>\n",
       "      <td>SGD_REF:S000181097|PMID:9023104</td>\n",
       "      <td>ISM</td>\n",
       "      <td>NaN</td>\n",
       "      <td>F</td>\n",
       "      <td>tRNA of undetermined specificity, predicted by...</td>\n",
       "      <td>tX(XXX)L|tS(GCU)L</td>\n",
       "      <td>gene</td>\n",
       "      <td>taxon:559292</td>\n",
       "      <td>20030507</td>\n",
       "      <td>SGD</td>\n",
       "      <td>NaN</td>\n",
       "      <td>NaN</td>\n",
       "    </tr>\n",
       "    <tr>\n",
       "      <th>111385</th>\n",
       "      <td>SGD</td>\n",
       "      <td>S000006732</td>\n",
       "      <td>tX(XXX)L</td>\n",
       "      <td>NaN</td>\n",
       "      <td>GO:0005829</td>\n",
       "      <td>SGD_REF:S000181097|PMID:9023104</td>\n",
       "      <td>IC</td>\n",
       "      <td>GO:0030533</td>\n",
       "      <td>C</td>\n",
       "      <td>tRNA of undetermined specificity, predicted by...</td>\n",
       "      <td>tX(XXX)L|tS(GCU)L</td>\n",
       "      <td>gene</td>\n",
       "      <td>taxon:559292</td>\n",
       "      <td>20030507</td>\n",
       "      <td>SGD</td>\n",
       "      <td>NaN</td>\n",
       "      <td>NaN</td>\n",
       "    </tr>\n",
       "    <tr>\n",
       "      <th>111386</th>\n",
       "      <td>SGD</td>\n",
       "      <td>S000007338</td>\n",
       "      <td>tY(GUA)Q</td>\n",
       "      <td>NaN</td>\n",
       "      <td>GO:0070125</td>\n",
       "      <td>SGD_REF:S000181097|PMID:9023104</td>\n",
       "      <td>IC</td>\n",
       "      <td>GO:0030533</td>\n",
       "      <td>P</td>\n",
       "      <td>Mitochondrial tyrosine tRNA (tRNA-Tyr)</td>\n",
       "      <td>tY(GUA)Q</td>\n",
       "      <td>gene</td>\n",
       "      <td>taxon:559292</td>\n",
       "      <td>20150730</td>\n",
       "      <td>SGD</td>\n",
       "      <td>NaN</td>\n",
       "      <td>NaN</td>\n",
       "    </tr>\n",
       "    <tr>\n",
       "      <th>111387</th>\n",
       "      <td>SGD</td>\n",
       "      <td>S000007338</td>\n",
       "      <td>tY(GUA)Q</td>\n",
       "      <td>NaN</td>\n",
       "      <td>GO:0005739</td>\n",
       "      <td>SGD_REF:S000181097|PMID:9023104</td>\n",
       "      <td>IC</td>\n",
       "      <td>GO:0030533</td>\n",
       "      <td>C</td>\n",
       "      <td>Mitochondrial tyrosine tRNA (tRNA-Tyr)</td>\n",
       "      <td>tY(GUA)Q</td>\n",
       "      <td>gene</td>\n",
       "      <td>taxon:559292</td>\n",
       "      <td>20030507</td>\n",
       "      <td>SGD</td>\n",
       "      <td>NaN</td>\n",
       "      <td>NaN</td>\n",
       "    </tr>\n",
       "    <tr>\n",
       "      <th>111388</th>\n",
       "      <td>SGD</td>\n",
       "      <td>S000007338</td>\n",
       "      <td>tY(GUA)Q</td>\n",
       "      <td>NaN</td>\n",
       "      <td>GO:0030533</td>\n",
       "      <td>SGD_REF:S000181097|PMID:9023104</td>\n",
       "      <td>ISM</td>\n",
       "      <td>NaN</td>\n",
       "      <td>F</td>\n",
       "      <td>Mitochondrial tyrosine tRNA (tRNA-Tyr)</td>\n",
       "      <td>tY(GUA)Q</td>\n",
       "      <td>gene</td>\n",
       "      <td>taxon:559292</td>\n",
       "      <td>20060721</td>\n",
       "      <td>SGD</td>\n",
       "      <td>NaN</td>\n",
       "      <td>NaN</td>\n",
       "    </tr>\n",
       "  </tbody>\n",
       "</table>\n",
       "</div>"
      ],
      "text/plain": [
       "         DB DB_Object_ID DB_Object_Symbol Qualifier       GO_ID  \\\n",
       "111384  SGD   S000006732         tX(XXX)L       NaN  GO:0030533   \n",
       "111385  SGD   S000006732         tX(XXX)L       NaN  GO:0005829   \n",
       "111386  SGD   S000007338         tY(GUA)Q       NaN  GO:0070125   \n",
       "111387  SGD   S000007338         tY(GUA)Q       NaN  GO:0005739   \n",
       "111388  SGD   S000007338         tY(GUA)Q       NaN  GO:0030533   \n",
       "\n",
       "                           DB:Reference Evidence With_or_From Aspect  \\\n",
       "111384  SGD_REF:S000181097|PMID:9023104      ISM          NaN      F   \n",
       "111385  SGD_REF:S000181097|PMID:9023104       IC   GO:0030533      C   \n",
       "111386  SGD_REF:S000181097|PMID:9023104       IC   GO:0030533      P   \n",
       "111387  SGD_REF:S000181097|PMID:9023104       IC   GO:0030533      C   \n",
       "111388  SGD_REF:S000181097|PMID:9023104      ISM          NaN      F   \n",
       "\n",
       "                                           DB_Object_Name  DB_Object_Synonym  \\\n",
       "111384  tRNA of undetermined specificity, predicted by...  tX(XXX)L|tS(GCU)L   \n",
       "111385  tRNA of undetermined specificity, predicted by...  tX(XXX)L|tS(GCU)L   \n",
       "111386             Mitochondrial tyrosine tRNA (tRNA-Tyr)           tY(GUA)Q   \n",
       "111387             Mitochondrial tyrosine tRNA (tRNA-Tyr)           tY(GUA)Q   \n",
       "111388             Mitochondrial tyrosine tRNA (tRNA-Tyr)           tY(GUA)Q   \n",
       "\n",
       "       DB_Object_Type         taxon      Date Assigned_by  \\\n",
       "111384           gene  taxon:559292  20030507         SGD   \n",
       "111385           gene  taxon:559292  20030507         SGD   \n",
       "111386           gene  taxon:559292  20150730         SGD   \n",
       "111387           gene  taxon:559292  20030507         SGD   \n",
       "111388           gene  taxon:559292  20060721         SGD   \n",
       "\n",
       "       Annotation_Extension  Gene_Product_Form_ID  \n",
       "111384                  NaN                   NaN  \n",
       "111385                  NaN                   NaN  \n",
       "111386                  NaN                   NaN  \n",
       "111387                  NaN                   NaN  \n",
       "111388                  NaN                   NaN  "
      ]
     },
     "execution_count": 12,
     "metadata": {},
     "output_type": "execute_result"
    }
   ],
   "source": [
    "# Import gene association file\n",
    "yeastAnnotationUrl = './data/gene_association.sgd.gz'\n",
    "cols = pd.read_csv('./annotation_columns.txt', names=['col_names'])\n",
    "col_names = cols['col_names'].tolist()\n",
    "yeastAnnotation = pd.read_csv(yeastAnnotationUrl, delimiter='\\t', comment='!', compression='gzip', names=col_names)\n",
    "yeastAnnotation.tail()"
   ]
  },
  {
   "cell_type": "code",
   "execution_count": 13,
   "metadata": {
    "collapsed": false
   },
   "outputs": [],
   "source": [
    "# Mapping object: from any type of ID to SGD ID\n",
    "to_sgd = {}\n",
    "\n",
    "# Annotation for genes\n",
    "sgd2fullname = {}\n",
    "sgd2symbol = {}\n",
    "\n",
    "for row in yeastAnnotation.itertuples():\n",
    "    sgd = row[2]\n",
    "    orf = row[3]\n",
    "    full_name = str(row[10]).replace('\\r\\n', '')\n",
    "    syn = str(row[11])\n",
    "    syns = syn.split('|')\n",
    "    to_sgd[orf] = sgd\n",
    "    for synonym in syns:\n",
    "        to_sgd[synonym] = sgd\n",
    "    sgd2fullname[sgd] = full_name\n",
    "    sgd2symbol[sgd] = orf\n",
    "    \n",
    "# Special case\n",
    "to_sgd['AAD16'] = 'S000001837' "
   ]
  },
  {
   "cell_type": "markdown",
   "metadata": {},
   "source": [
    "# Make sure all genes in the interaction table exists in the mapping table"
   ]
  },
  {
   "cell_type": "code",
   "execution_count": 14,
   "metadata": {
    "collapsed": false
   },
   "outputs": [],
   "source": [
    "normalized_map = []\n",
    "\n",
    "for row in mapping.itertuples():\n",
    "    gene = row[1]\n",
    "    term = str(row[2])\n",
    "    \n",
    "    # Convert to SGD\n",
    "    sgd = gene\n",
    "    if gene in to_sgd.keys():\n",
    "        sgd = to_sgd[gene]\n",
    "    entry = (sgd, term)\n",
    "    normalized_map.append(entry)"
   ]
  },
  {
   "cell_type": "code",
   "execution_count": 15,
   "metadata": {
    "collapsed": false
   },
   "outputs": [
    {
     "name": "stdout",
     "output_type": "stream",
     "text": [
      "All mapped!\n"
     ]
    },
    {
     "data": {
      "text/plain": [
       "5872"
      ]
     },
     "execution_count": 15,
     "metadata": {},
     "output_type": "execute_result"
    }
   ],
   "source": [
    "# All ORF to SGD\n",
    "all_sgd = list(map(lambda x: to_sgd[x] if x in to_sgd.keys() else x, mixed_ids))\n",
    "if len(all_sgd) == len(mixed_ids):\n",
    "    print('All mapped!')\n",
    "    \n",
    "# This contains all gene IDs (SGD ID)\n",
    "uniq_genes = set(all_sgd)\n",
    "len(uniq_genes)"
   ]
  },
  {
   "cell_type": "code",
   "execution_count": 16,
   "metadata": {
    "collapsed": false
   },
   "outputs": [
    {
     "data": {
      "text/plain": [
       "5872"
      ]
     },
     "execution_count": 16,
     "metadata": {},
     "output_type": "execute_result"
    }
   ],
   "source": [
    "geneset_sgd = set()\n",
    "\n",
    "for gene in geneset:\n",
    "    if gene not in to_sgd.keys():\n",
    "        geneset_sgd.add(gene)\n",
    "    else:\n",
    "        geneset_sgd.add(to_sgd[gene])\n",
    "        \n",
    "len(geneset_sgd)"
   ]
  },
  {
   "cell_type": "code",
   "execution_count": 17,
   "metadata": {
    "collapsed": false
   },
   "outputs": [],
   "source": [
    "df_genes = pd.DataFrame(list(uniq_genes))\n",
    "\n",
    "# Save as text file and use it in UNIPROT ID Mapper\n",
    "df_genes.to_csv('./data/all_sgd.txt', sep='\\t', index=False, header=False)"
   ]
  },
  {
   "cell_type": "code",
   "execution_count": 18,
   "metadata": {
    "collapsed": false
   },
   "outputs": [
    {
     "name": "stdout",
     "output_type": "stream",
     "text": [
      "(5874, 13)\n"
     ]
    },
    {
     "data": {
      "text/html": [
       "<div>\n",
       "<table border=\"1\" class=\"dataframe\">\n",
       "  <thead>\n",
       "    <tr style=\"text-align: right;\">\n",
       "      <th></th>\n",
       "      <th>Entry</th>\n",
       "      <th>yourlist:M20170106AAFB7E4D2F1D05654627429E83DA5CCE9FB1772</th>\n",
       "      <th>Entry name</th>\n",
       "      <th>Status</th>\n",
       "      <th>Protein names</th>\n",
       "      <th>Gene names</th>\n",
       "      <th>Organism</th>\n",
       "      <th>Length</th>\n",
       "      <th>Gene names  (primary )</th>\n",
       "      <th>Gene names  (synonym )</th>\n",
       "      <th>Gene names  (ordered locus )</th>\n",
       "      <th>Gene names  (ORF )</th>\n",
       "      <th>Pathway</th>\n",
       "    </tr>\n",
       "  </thead>\n",
       "  <tbody>\n",
       "    <tr>\n",
       "      <th>0</th>\n",
       "      <td>P11914</td>\n",
       "      <td>S000001066</td>\n",
       "      <td>MPPA_YEAST</td>\n",
       "      <td>reviewed</td>\n",
       "      <td>Mitochondrial-processing peptidase subunit alp...</td>\n",
       "      <td>MAS2 MIF2 YHR024C</td>\n",
       "      <td>Saccharomyces cerevisiae (strain ATCC 204508 /...</td>\n",
       "      <td>482</td>\n",
       "      <td>MAS2</td>\n",
       "      <td>MIF2</td>\n",
       "      <td>YHR024C</td>\n",
       "      <td>NaN</td>\n",
       "      <td>NaN</td>\n",
       "    </tr>\n",
       "    <tr>\n",
       "      <th>1</th>\n",
       "      <td>Q3E7Z2</td>\n",
       "      <td>S000028850</td>\n",
       "      <td>YN042_YEAST</td>\n",
       "      <td>reviewed</td>\n",
       "      <td>Uncharacterized protein YNL042W-B</td>\n",
       "      <td>YNL042W-B</td>\n",
       "      <td>Saccharomyces cerevisiae (strain ATCC 204508 /...</td>\n",
       "      <td>85</td>\n",
       "      <td>NaN</td>\n",
       "      <td>NaN</td>\n",
       "      <td>YNL042W-B</td>\n",
       "      <td>NaN</td>\n",
       "      <td>NaN</td>\n",
       "    </tr>\n",
       "    <tr>\n",
       "      <th>2</th>\n",
       "      <td>P49956</td>\n",
       "      <td>S000004683</td>\n",
       "      <td>CTF18_YEAST</td>\n",
       "      <td>reviewed</td>\n",
       "      <td>Chromosome transmission fidelity protein 18</td>\n",
       "      <td>CTF18 CHL12 YMR078C YM9582.03C</td>\n",
       "      <td>Saccharomyces cerevisiae (strain ATCC 204508 /...</td>\n",
       "      <td>741</td>\n",
       "      <td>CTF18</td>\n",
       "      <td>CHL12</td>\n",
       "      <td>YMR078C</td>\n",
       "      <td>YM9582.03C</td>\n",
       "      <td>NaN</td>\n",
       "    </tr>\n",
       "    <tr>\n",
       "      <th>3</th>\n",
       "      <td>P38890</td>\n",
       "      <td>S000001250</td>\n",
       "      <td>SET5_YEAST</td>\n",
       "      <td>reviewed</td>\n",
       "      <td>Putative protein lysine methyltransferase SET5...</td>\n",
       "      <td>SET5 YHR207C</td>\n",
       "      <td>Saccharomyces cerevisiae (strain ATCC 204508 /...</td>\n",
       "      <td>526</td>\n",
       "      <td>SET5</td>\n",
       "      <td>NaN</td>\n",
       "      <td>YHR207C</td>\n",
       "      <td>NaN</td>\n",
       "      <td>NaN</td>\n",
       "    </tr>\n",
       "    <tr>\n",
       "      <th>4</th>\n",
       "      <td>Q01852</td>\n",
       "      <td>S000001284</td>\n",
       "      <td>TIM44_YEAST</td>\n",
       "      <td>reviewed</td>\n",
       "      <td>Mitochondrial import inner membrane translocas...</td>\n",
       "      <td>TIM44 ISP45 MIM44 MPI1 YIL022W</td>\n",
       "      <td>Saccharomyces cerevisiae (strain ATCC 204508 /...</td>\n",
       "      <td>431</td>\n",
       "      <td>TIM44</td>\n",
       "      <td>ISP45 MIM44 MPI1</td>\n",
       "      <td>YIL022W</td>\n",
       "      <td>NaN</td>\n",
       "      <td>NaN</td>\n",
       "    </tr>\n",
       "  </tbody>\n",
       "</table>\n",
       "</div>"
      ],
      "text/plain": [
       "    Entry yourlist:M20170106AAFB7E4D2F1D05654627429E83DA5CCE9FB1772  \\\n",
       "0  P11914                                         S000001066          \n",
       "1  Q3E7Z2                                         S000028850          \n",
       "2  P49956                                         S000004683          \n",
       "3  P38890                                         S000001250          \n",
       "4  Q01852                                         S000001284          \n",
       "\n",
       "    Entry name    Status                                      Protein names  \\\n",
       "0   MPPA_YEAST  reviewed  Mitochondrial-processing peptidase subunit alp...   \n",
       "1  YN042_YEAST  reviewed                  Uncharacterized protein YNL042W-B   \n",
       "2  CTF18_YEAST  reviewed        Chromosome transmission fidelity protein 18   \n",
       "3   SET5_YEAST  reviewed  Putative protein lysine methyltransferase SET5...   \n",
       "4  TIM44_YEAST  reviewed  Mitochondrial import inner membrane translocas...   \n",
       "\n",
       "                       Gene names  \\\n",
       "0               MAS2 MIF2 YHR024C   \n",
       "1                       YNL042W-B   \n",
       "2  CTF18 CHL12 YMR078C YM9582.03C   \n",
       "3                    SET5 YHR207C   \n",
       "4  TIM44 ISP45 MIM44 MPI1 YIL022W   \n",
       "\n",
       "                                            Organism  Length  \\\n",
       "0  Saccharomyces cerevisiae (strain ATCC 204508 /...     482   \n",
       "1  Saccharomyces cerevisiae (strain ATCC 204508 /...      85   \n",
       "2  Saccharomyces cerevisiae (strain ATCC 204508 /...     741   \n",
       "3  Saccharomyces cerevisiae (strain ATCC 204508 /...     526   \n",
       "4  Saccharomyces cerevisiae (strain ATCC 204508 /...     431   \n",
       "\n",
       "  Gene names  (primary ) Gene names  (synonym ) Gene names  (ordered locus )  \\\n",
       "0                   MAS2                   MIF2                      YHR024C   \n",
       "1                    NaN                    NaN                    YNL042W-B   \n",
       "2                  CTF18                  CHL12                      YMR078C   \n",
       "3                   SET5                    NaN                      YHR207C   \n",
       "4                  TIM44       ISP45 MIM44 MPI1                      YIL022W   \n",
       "\n",
       "  Gene names  (ORF ) Pathway  \n",
       "0                NaN     NaN  \n",
       "1                NaN     NaN  \n",
       "2         YM9582.03C     NaN  \n",
       "3                NaN     NaN  \n",
       "4                NaN     NaN  "
      ]
     },
     "execution_count": 18,
     "metadata": {},
     "output_type": "execute_result"
    }
   ],
   "source": [
    "uniprot = pd.read_csv('./data/uniprot-idmapping.txt', delimiter='\\t')\n",
    "print(uniprot.shape)\n",
    "uniprot.head()"
   ]
  },
  {
   "cell_type": "code",
   "execution_count": 19,
   "metadata": {
    "collapsed": false
   },
   "outputs": [
    {
     "name": "stdout",
     "output_type": "stream",
     "text": [
      "10\n",
      "{'S000000214', 'S000006284', 'S000005659', 'S000000322', 'S000004975', 'S000001767', 'S000002793', 'S000000213', 'S000004976', 'S000003674'}\n"
     ]
    }
   ],
   "source": [
    "sgd2orf = {}\n",
    "for row in uniprot.itertuples():\n",
    "    sgd = row[2]\n",
    "    orf = row[11]\n",
    "    sgd2orf[sgd] = orf\n",
    "\n",
    "# Test\n",
    "missing = set()\n",
    "for sgd in uniq_genes:\n",
    "    if sgd not in sgd2orf.keys():\n",
    "        missing.add(sgd)\n",
    "\n",
    "print(len(missing))\n",
    "print(missing)"
   ]
  },
  {
   "cell_type": "code",
   "execution_count": 20,
   "metadata": {
    "collapsed": false
   },
   "outputs": [
    {
     "data": {
      "text/html": [
       "<div>\n",
       "<table border=\"1\" class=\"dataframe\">\n",
       "  <thead>\n",
       "    <tr style=\"text-align: right;\">\n",
       "      <th></th>\n",
       "      <th>symbol</th>\n",
       "      <th>locus_name</th>\n",
       "      <th>acc_number</th>\n",
       "      <th>swiss-prot</th>\n",
       "      <th>sgd</th>\n",
       "      <th>sequence_length</th>\n",
       "      <th>3d</th>\n",
       "      <th>chromosome</th>\n",
       "    </tr>\n",
       "  </thead>\n",
       "  <tbody>\n",
       "    <tr>\n",
       "      <th>0</th>\n",
       "      <td>AAC1</td>\n",
       "      <td>YMR056C</td>\n",
       "      <td>P04710</td>\n",
       "      <td>ADT1_YEAST</td>\n",
       "      <td>S000004660</td>\n",
       "      <td>309</td>\n",
       "      <td>13</td>\n",
       "      <td>NaN</td>\n",
       "    </tr>\n",
       "    <tr>\n",
       "      <th>1</th>\n",
       "      <td>AAC3</td>\n",
       "      <td>YBR085W</td>\n",
       "      <td>P18238</td>\n",
       "      <td>ADT3_YEAST</td>\n",
       "      <td>S000000289</td>\n",
       "      <td>307</td>\n",
       "      <td>(3)</td>\n",
       "      <td>2</td>\n",
       "    </tr>\n",
       "    <tr>\n",
       "      <th>2</th>\n",
       "      <td>AAD10</td>\n",
       "      <td>YJR155W</td>\n",
       "      <td>P47182</td>\n",
       "      <td>AAD10_YEAST</td>\n",
       "      <td>S000003916</td>\n",
       "      <td>288</td>\n",
       "      <td>10</td>\n",
       "      <td>NaN</td>\n",
       "    </tr>\n",
       "    <tr>\n",
       "      <th>3</th>\n",
       "      <td>AAD14</td>\n",
       "      <td>YNL331C</td>\n",
       "      <td>P42884</td>\n",
       "      <td>AAD14_YEAST</td>\n",
       "      <td>S000005275</td>\n",
       "      <td>376</td>\n",
       "      <td>14</td>\n",
       "      <td>NaN</td>\n",
       "    </tr>\n",
       "    <tr>\n",
       "      <th>4</th>\n",
       "      <td>AAD15</td>\n",
       "      <td>YOL165C</td>\n",
       "      <td>Q08361</td>\n",
       "      <td>AAD15_YEAST</td>\n",
       "      <td>S000005525</td>\n",
       "      <td>143</td>\n",
       "      <td>15</td>\n",
       "      <td>NaN</td>\n",
       "    </tr>\n",
       "  </tbody>\n",
       "</table>\n",
       "</div>"
      ],
      "text/plain": [
       "  symbol locus_name acc_number   swiss-prot         sgd sequence_length   3d  \\\n",
       "0   AAC1    YMR056C     P04710   ADT1_YEAST  S000004660             309   13   \n",
       "1   AAC3    YBR085W     P18238   ADT3_YEAST  S000000289             307  (3)   \n",
       "2  AAD10    YJR155W     P47182  AAD10_YEAST  S000003916             288   10   \n",
       "3  AAD14    YNL331C     P42884  AAD14_YEAST  S000005275             376   14   \n",
       "4  AAD15    YOL165C     Q08361  AAD15_YEAST  S000005525             143   15   \n",
       "\n",
       "  chromosome  \n",
       "0        NaN  \n",
       "1          2  \n",
       "2        NaN  \n",
       "3        NaN  \n",
       "4        NaN  "
      ]
     },
     "execution_count": 20,
     "metadata": {},
     "output_type": "execute_result"
    }
   ],
   "source": [
    "idmap = pd.read_csv('./yeast_clean4.txt', delimiter='\\t')\n",
    "idmap.head()"
   ]
  },
  {
   "cell_type": "code",
   "execution_count": 21,
   "metadata": {
    "collapsed": false
   },
   "outputs": [
    {
     "name": "stdout",
     "output_type": "stream",
     "text": [
      "0\n",
      "5877\n"
     ]
    }
   ],
   "source": [
    "sgd2orf2 = {}\n",
    "for row in idmap.itertuples():\n",
    "    sgd = row[5]\n",
    "    orf = row[2]\n",
    "    sgd2orf2[sgd] = orf\n",
    "\n",
    "for sgd in missing:\n",
    "    sgd2orf[sgd] = sgd2orf2[sgd]\n",
    "\n",
    "# Test\n",
    "missing = set()\n",
    "for sgd in uniq_genes:\n",
    "    if sgd not in sgd2orf.keys():\n",
    "        missing.add(sgd)\n",
    "\n",
    "print(len(missing))\n",
    "print(len(sgd2orf))"
   ]
  },
  {
   "cell_type": "markdown",
   "metadata": {},
   "source": [
    "## Create mapping from gene to interactions"
   ]
  },
  {
   "cell_type": "code",
   "execution_count": 22,
   "metadata": {
    "collapsed": false
   },
   "outputs": [
    {
     "data": {
      "text/plain": [
       "5877"
      ]
     },
     "execution_count": 22,
     "metadata": {},
     "output_type": "execute_result"
    }
   ],
   "source": [
    "gene_map = {}\n",
    "missing_count = 0\n",
    "\n",
    "all_orf = set(sgd2orf.values())\n",
    "len(all_orf)"
   ]
  },
  {
   "cell_type": "code",
   "execution_count": 23,
   "metadata": {
    "collapsed": false
   },
   "outputs": [
    {
     "data": {
      "text/html": [
       "<div>\n",
       "<table border=\"1\" class=\"dataframe\">\n",
       "  <thead>\n",
       "    <tr style=\"text-align: right;\">\n",
       "      <th></th>\n",
       "      <th>INT1</th>\n",
       "      <th>INT2</th>\n",
       "      <th>Co-expression</th>\n",
       "      <th>Protein-protein interactions (high-throughput)</th>\n",
       "      <th>Domain co-occurrence</th>\n",
       "      <th>Genomic context</th>\n",
       "      <th>Phylogenetic similarity</th>\n",
       "      <th>Predicted from 3D structure</th>\n",
       "      <th>Protein-protein interactions (low-throughput)</th>\n",
       "      <th>Co-citation</th>\n",
       "      <th>Co-expression.1</th>\n",
       "      <th>Protein-protein interactions (high-throughput).1</th>\n",
       "      <th>Domain co-occurrence.1</th>\n",
       "      <th>Genomic context.1</th>\n",
       "      <th>Phylogenetic similarity.1</th>\n",
       "      <th>Predicted from 3D structure.1</th>\n",
       "      <th>Protein-protein interactions (low-throughput).1</th>\n",
       "      <th>Co-citation.1</th>\n",
       "    </tr>\n",
       "  </thead>\n",
       "  <tbody>\n",
       "    <tr>\n",
       "      <th>0</th>\n",
       "      <td>YHR213W</td>\n",
       "      <td>YAR029W</td>\n",
       "      <td>0.202</td>\n",
       "      <td>0.0</td>\n",
       "      <td>0.000</td>\n",
       "      <td>0.0</td>\n",
       "      <td>0.0</td>\n",
       "      <td>0.0</td>\n",
       "      <td>0.0</td>\n",
       "      <td>0.0</td>\n",
       "      <td>Stanford Microarray Database DNA Damage</td>\n",
       "      <td>0</td>\n",
       "      <td>0</td>\n",
       "      <td>0</td>\n",
       "      <td>0</td>\n",
       "      <td>0</td>\n",
       "      <td>0</td>\n",
       "      <td>0</td>\n",
       "    </tr>\n",
       "    <tr>\n",
       "      <th>1</th>\n",
       "      <td>YHR213W</td>\n",
       "      <td>YCR007C</td>\n",
       "      <td>0.179</td>\n",
       "      <td>0.0</td>\n",
       "      <td>0.000</td>\n",
       "      <td>0.0</td>\n",
       "      <td>0.0</td>\n",
       "      <td>0.0</td>\n",
       "      <td>0.0</td>\n",
       "      <td>0.0</td>\n",
       "      <td>Stanford Microarray Database YPDstat</td>\n",
       "      <td>0</td>\n",
       "      <td>0</td>\n",
       "      <td>0</td>\n",
       "      <td>0</td>\n",
       "      <td>0</td>\n",
       "      <td>0</td>\n",
       "      <td>0</td>\n",
       "    </tr>\n",
       "    <tr>\n",
       "      <th>2</th>\n",
       "      <td>YHR213W</td>\n",
       "      <td>YFL051C</td>\n",
       "      <td>0.000</td>\n",
       "      <td>0.0</td>\n",
       "      <td>0.844</td>\n",
       "      <td>0.0</td>\n",
       "      <td>0.0</td>\n",
       "      <td>0.0</td>\n",
       "      <td>0.0</td>\n",
       "      <td>0.0</td>\n",
       "      <td>0</td>\n",
       "      <td>0</td>\n",
       "      <td>24165882</td>\n",
       "      <td>0</td>\n",
       "      <td>0</td>\n",
       "      <td>0</td>\n",
       "      <td>0</td>\n",
       "      <td>0</td>\n",
       "    </tr>\n",
       "    <tr>\n",
       "      <th>3</th>\n",
       "      <td>YHR213W</td>\n",
       "      <td>TDA8</td>\n",
       "      <td>0.000</td>\n",
       "      <td>0.0</td>\n",
       "      <td>0.844</td>\n",
       "      <td>0.0</td>\n",
       "      <td>0.0</td>\n",
       "      <td>0.0</td>\n",
       "      <td>0.0</td>\n",
       "      <td>0.0</td>\n",
       "      <td>0</td>\n",
       "      <td>0</td>\n",
       "      <td>24165882</td>\n",
       "      <td>0</td>\n",
       "      <td>0</td>\n",
       "      <td>0</td>\n",
       "      <td>0</td>\n",
       "      <td>0</td>\n",
       "    </tr>\n",
       "    <tr>\n",
       "      <th>4</th>\n",
       "      <td>YHR213W</td>\n",
       "      <td>YAL064W-B</td>\n",
       "      <td>0.683</td>\n",
       "      <td>0.0</td>\n",
       "      <td>0.000</td>\n",
       "      <td>0.0</td>\n",
       "      <td>0.0</td>\n",
       "      <td>0.0</td>\n",
       "      <td>0.0</td>\n",
       "      <td>0.0</td>\n",
       "      <td>Stanford Microarray Database YPDstat</td>\n",
       "      <td>0</td>\n",
       "      <td>0</td>\n",
       "      <td>0</td>\n",
       "      <td>0</td>\n",
       "      <td>0</td>\n",
       "      <td>0</td>\n",
       "      <td>0</td>\n",
       "    </tr>\n",
       "  </tbody>\n",
       "</table>\n",
       "</div>"
      ],
      "text/plain": [
       "      INT1       INT2  Co-expression  \\\n",
       "0  YHR213W    YAR029W          0.202   \n",
       "1  YHR213W    YCR007C          0.179   \n",
       "2  YHR213W    YFL051C          0.000   \n",
       "3  YHR213W       TDA8          0.000   \n",
       "4  YHR213W  YAL064W-B          0.683   \n",
       "\n",
       "   Protein-protein interactions (high-throughput)  Domain co-occurrence  \\\n",
       "0                                             0.0                 0.000   \n",
       "1                                             0.0                 0.000   \n",
       "2                                             0.0                 0.844   \n",
       "3                                             0.0                 0.844   \n",
       "4                                             0.0                 0.000   \n",
       "\n",
       "   Genomic context  Phylogenetic similarity  Predicted from 3D structure  \\\n",
       "0              0.0                      0.0                          0.0   \n",
       "1              0.0                      0.0                          0.0   \n",
       "2              0.0                      0.0                          0.0   \n",
       "3              0.0                      0.0                          0.0   \n",
       "4              0.0                      0.0                          0.0   \n",
       "\n",
       "   Protein-protein interactions (low-throughput)  Co-citation  \\\n",
       "0                                            0.0          0.0   \n",
       "1                                            0.0          0.0   \n",
       "2                                            0.0          0.0   \n",
       "3                                            0.0          0.0   \n",
       "4                                            0.0          0.0   \n",
       "\n",
       "                           Co-expression.1  \\\n",
       "0  Stanford Microarray Database DNA Damage   \n",
       "1     Stanford Microarray Database YPDstat   \n",
       "2                                        0   \n",
       "3                                        0   \n",
       "4     Stanford Microarray Database YPDstat   \n",
       "\n",
       "   Protein-protein interactions (high-throughput).1  Domain co-occurrence.1  \\\n",
       "0                                                 0                       0   \n",
       "1                                                 0                       0   \n",
       "2                                                 0                24165882   \n",
       "3                                                 0                24165882   \n",
       "4                                                 0                       0   \n",
       "\n",
       "   Genomic context.1  Phylogenetic similarity.1  \\\n",
       "0                  0                          0   \n",
       "1                  0                          0   \n",
       "2                  0                          0   \n",
       "3                  0                          0   \n",
       "4                  0                          0   \n",
       "\n",
       "   Predicted from 3D structure.1  \\\n",
       "0                              0   \n",
       "1                              0   \n",
       "2                              0   \n",
       "3                              0   \n",
       "4                              0   \n",
       "\n",
       "   Protein-protein interactions (low-throughput).1  Co-citation.1  \n",
       "0                                                0              0  \n",
       "1                                                0              0  \n",
       "2                                                0              0  \n",
       "3                                                0              0  \n",
       "4                                                0              0  "
      ]
     },
     "execution_count": 23,
     "metadata": {},
     "output_type": "execute_result"
    }
   ],
   "source": [
    "all_interactions = pd.read_csv('./data/interaction-table-atgo.txt',  sep=\"\\t\")\n",
    "all_interactions.head()"
   ]
  },
  {
   "cell_type": "code",
   "execution_count": 24,
   "metadata": {
    "collapsed": false
   },
   "outputs": [
    {
     "name": "stdout",
     "output_type": "stream",
     "text": [
      "All interaction count: (1360234, 18)\n"
     ]
    }
   ],
   "source": [
    "## Filter edges\n",
    "\n",
    "print('All interaction count: ' + str(all_interactions.shape))\n",
    "\n",
    "filtered = []\n",
    "# Filter\n",
    "for row in all_interactions.itertuples():\n",
    "    if row[1] not in to_sgd.keys():\n",
    "        to_sgd[row[1]] = row[1]\n",
    "    if row[2] not in to_sgd.keys():\n",
    "        to_sgd[row[2]] = row[2]"
   ]
  },
  {
   "cell_type": "code",
   "execution_count": 25,
   "metadata": {
    "collapsed": false
   },
   "outputs": [
    {
     "name": "stdout",
     "output_type": "stream",
     "text": [
      "4805\n",
      "{'S000004950', 'S000000642', 'S000002645', 'S000002730', 'S000003452', 'S000004487', 'S000006304', 'S000002870', 'S000005196', 'S000005305'}\n"
     ]
    }
   ],
   "source": [
    "term2gene = {}\n",
    "\n",
    "for row in mapping.itertuples():\n",
    "    term = str(row[2])\n",
    "    \n",
    "    gene = ''\n",
    "    if row[1] not in to_sgd.keys():\n",
    "        gene = row[1]\n",
    "        to_sgd[gene] = gene\n",
    "    else:\n",
    "        gene = to_sgd[row[1]]\n",
    "    \n",
    "    assigned = set()\n",
    "    \n",
    "    if term in term2gene.keys():\n",
    "        assigned = term2gene[term]\n",
    "    \n",
    "    assigned.add(gene)\n",
    "    term2gene[term] = assigned\n",
    "\n",
    "print(len(term2gene))\n",
    "print(term2gene['10000'])"
   ]
  },
  {
   "cell_type": "code",
   "execution_count": 26,
   "metadata": {
    "collapsed": false
   },
   "outputs": [
    {
     "name": "stdout",
     "output_type": "stream",
     "text": [
      "['Protein-protein interactions (high-throughput)', 'Domain co-occurrence', 'Genomic context', 'Phylogenetic similarity', 'Predicted from 3D structure', 'Protein-protein interactions (low-throughput)', 'Co-citation']\n"
     ]
    }
   ],
   "source": [
    "original_cols = all_interactions.columns\n",
    "original_names = original_cols[3:10].tolist()\n",
    "col_names = [ 'source', 'target', 'interaction', 'score', 'reference',]\n",
    "\n",
    "print(original_names)"
   ]
  },
  {
   "cell_type": "code",
   "execution_count": 31,
   "metadata": {
    "collapsed": false
   },
   "outputs": [],
   "source": [
    "network = []\n",
    "\n",
    "for row in all_interactions.itertuples():\n",
    "    for idx, col in enumerate(row):\n",
    "        if idx < 3 or idx > 9:\n",
    "            continue\n",
    "        else:\n",
    "            score  = col.item()\n",
    "            if score == 0:\n",
    "                continue\n",
    "            \n",
    "            interaction = original_names[idx-3]\n",
    "            pub = str(row[idx+8])\n",
    "            new_row = (to_sgd[row[1]], to_sgd[row[2]], interaction, score, pub)\n",
    "            network.append(new_row)\n"
   ]
  },
  {
   "cell_type": "code",
   "execution_count": 32,
   "metadata": {
    "collapsed": false
   },
   "outputs": [
    {
     "data": {
      "text/html": [
       "<div>\n",
       "<table border=\"1\" class=\"dataframe\">\n",
       "  <thead>\n",
       "    <tr style=\"text-align: right;\">\n",
       "      <th></th>\n",
       "      <th>source</th>\n",
       "      <th>target</th>\n",
       "      <th>interaction</th>\n",
       "      <th>score</th>\n",
       "      <th>reference</th>\n",
       "    </tr>\n",
       "  </thead>\n",
       "  <tbody>\n",
       "    <tr>\n",
       "      <th>0</th>\n",
       "      <td>S000001256</td>\n",
       "      <td>S000000077</td>\n",
       "      <td>Protein-protein interactions (high-throughput)</td>\n",
       "      <td>0.202</td>\n",
       "      <td>Stanford Microarray Database DNA Damage</td>\n",
       "    </tr>\n",
       "    <tr>\n",
       "      <th>1</th>\n",
       "      <td>S000001256</td>\n",
       "      <td>S000000600</td>\n",
       "      <td>Protein-protein interactions (high-throughput)</td>\n",
       "      <td>0.179</td>\n",
       "      <td>Stanford Microarray Database YPDstat</td>\n",
       "    </tr>\n",
       "    <tr>\n",
       "      <th>2</th>\n",
       "      <td>S000001256</td>\n",
       "      <td>S000001843</td>\n",
       "      <td>Genomic context</td>\n",
       "      <td>0.844</td>\n",
       "      <td>24165882</td>\n",
       "    </tr>\n",
       "    <tr>\n",
       "      <th>3</th>\n",
       "      <td>S000001256</td>\n",
       "      <td>S000002140</td>\n",
       "      <td>Genomic context</td>\n",
       "      <td>0.844</td>\n",
       "      <td>24165882</td>\n",
       "    </tr>\n",
       "    <tr>\n",
       "      <th>4</th>\n",
       "      <td>S000001256</td>\n",
       "      <td>S000002141</td>\n",
       "      <td>Protein-protein interactions (high-throughput)</td>\n",
       "      <td>0.683</td>\n",
       "      <td>Stanford Microarray Database YPDstat</td>\n",
       "    </tr>\n",
       "  </tbody>\n",
       "</table>\n",
       "</div>"
      ],
      "text/plain": [
       "       source      target                                     interaction  \\\n",
       "0  S000001256  S000000077  Protein-protein interactions (high-throughput)   \n",
       "1  S000001256  S000000600  Protein-protein interactions (high-throughput)   \n",
       "2  S000001256  S000001843                                 Genomic context   \n",
       "3  S000001256  S000002140                                 Genomic context   \n",
       "4  S000001256  S000002141  Protein-protein interactions (high-throughput)   \n",
       "\n",
       "   score                                reference  \n",
       "0  0.202  Stanford Microarray Database DNA Damage  \n",
       "1  0.179     Stanford Microarray Database YPDstat  \n",
       "2  0.844                                 24165882  \n",
       "3  0.844                                 24165882  \n",
       "4  0.683     Stanford Microarray Database YPDstat  "
      ]
     },
     "execution_count": 32,
     "metadata": {},
     "output_type": "execute_result"
    }
   ],
   "source": [
    "net_df = pd.DataFrame(network, columns=col_names)\n",
    "net_df.head()"
   ]
  },
  {
   "cell_type": "code",
   "execution_count": 53,
   "metadata": {
    "collapsed": false
   },
   "outputs": [
    {
     "name": "stdout",
     "output_type": "stream",
     "text": [
      "1.0\n",
      "0.001\n"
     ]
    }
   ],
   "source": [
    "print(net_df['score'].max())\n",
    "print(net_df['score'].min())"
   ]
  },
  {
   "cell_type": "code",
   "execution_count": 35,
   "metadata": {
    "collapsed": true
   },
   "outputs": [],
   "source": [
    "net_df.to_csv('./data/clixo-raw-interactions.txt', sep='\\t', encoding='utf-8', index=False)"
   ]
  },
  {
   "cell_type": "code",
   "execution_count": 36,
   "metadata": {
    "collapsed": false
   },
   "outputs": [],
   "source": [
    "# Create graph\n",
    "import networkx as nx\n",
    "\n",
    "g = nx.from_pandas_dataframe(net_df, source='source', target='target', edge_attr=['interaction', 'score', 'reference'])"
   ]
  },
  {
   "cell_type": "code",
   "execution_count": 37,
   "metadata": {
    "collapsed": false
   },
   "outputs": [
    {
     "name": "stdout",
     "output_type": "stream",
     "text": [
      "['S000004747', 'S000002744', 'S000000901', 'S000005336', 'S000004484', 'S000003894', 'S000004607', 'S000000808', 'S000004703', 'S000001003', 'S000000019', 'S000005422', 'S000000164', 'S000003442', 'S000002849', 'S000001099', 'S000003067']\n"
     ]
    },
    {
     "data": {
      "text/plain": [
       "('S000004747', 'S000000901')"
      ]
     },
     "execution_count": 37,
     "metadata": {},
     "output_type": "execute_result"
    },
    {
     "data": {
      "image/png": "[encoded data removed]",
      "text/plain": [
       "<matplotlib.figure.Figure at 0x12ac5db00>"
      ]
     },
     "metadata": {},
     "output_type": "display_data"
    }
   ],
   "source": [
    "g.nodes()[10]\n",
    "print(list(term2gene['10275']))\n",
    "\n",
    "sub = g.subgraph(list(term2gene['10275']))\n",
    "\n",
    "%matplotlib inline\n",
    "\n",
    "import matplotlib\n",
    "import numpy as np\n",
    "import matplotlib.pyplot as plt\n",
    "\n",
    "nx.draw_circular(sub)\n",
    "sub.edges()[1]"
   ]
  },
  {
   "cell_type": "code",
   "execution_count": 38,
   "metadata": {
    "collapsed": false
   },
   "outputs": [],
   "source": [
    "term2interaction = {}\n",
    "\n",
    "for term in term2gene.keys():\n",
    "    gset = term2gene[term]\n",
    "    assigned_itrs = []\n",
    "    \n",
    "    glist = list(gset)\n",
    "    sub = g.subgraph(glist)\n",
    "    \n",
    "    edges = sub.edges(data=True)\n",
    "    \n",
    "    itrs = []\n",
    "    if len(edges) > 8000:\n",
    "        term2interaction[term] = itrs\n",
    "        continue\n",
    "        \n",
    "    for e in edges:\n",
    "        data = {\n",
    "            'source': e[0],\n",
    "            'target': e[1],\n",
    "            'interaction': e[2]['interaction'],\n",
    "            'score': e[2]['score']\n",
    "        }\n",
    "        itrs.append(data)\n",
    "    \n",
    "    term2interaction[term] = itrs\n"
   ]
  },
  {
   "cell_type": "code",
   "execution_count": 39,
   "metadata": {
    "collapsed": false
   },
   "outputs": [
    {
     "data": {
      "text/plain": [
       "7305"
      ]
     },
     "execution_count": 39,
     "metadata": {},
     "output_type": "execute_result"
    }
   ],
   "source": [
    "counts = []\n",
    "for key in term2interaction.keys():\n",
    "    counts.append(len(term2interaction[key]))\n",
    "\n",
    "max(counts)"
   ]
  },
  {
   "cell_type": "code",
   "execution_count": 47,
   "metadata": {
    "collapsed": false
   },
   "outputs": [
    {
     "name": "stdout",
     "output_type": "stream",
     "text": [
      "129756\n",
      "{'YLR466C-B', 'YJR114W', 'YAR073W', 'YDL118W', 'YLR154W-A'}\n",
      "4805\n"
     ]
    }
   ],
   "source": [
    "clixo_genes = {}\n",
    "\n",
    "missing_name = set()\n",
    "\n",
    "print(len(normalized_map))\n",
    "\n",
    "for row in normalized_map:\n",
    "    sgd = row[0]\n",
    "    term = str(row[1])\n",
    "        \n",
    "    orf = sgd2orf[sgd]\n",
    "    name = orf\n",
    "    symbol = ''\n",
    "    \n",
    "    if sgd not in sgd2fullname.keys():\n",
    "        missing_name.add(sgd2orf[sgd])\n",
    "        name = orf\n",
    "        symbol = orf\n",
    "    else:\n",
    "        orf = sgd2orf[sgd]\n",
    "        name = sgd2fullname[sgd]\n",
    "        symbol = sgd2symbol[sgd]\n",
    "        \n",
    "    entry = {\n",
    "        'sgdid': sgd,\n",
    "        'orf': orf,\n",
    "        'name': name,\n",
    "        'symbol': symbol\n",
    "    }\n",
    "    \n",
    "    assigned_genes = []\n",
    "    if term in clixo_genes.keys():\n",
    "        assigned_genes = clixo_genes[term]['genes']\n",
    "    \n",
    "    assigned_genes.append(entry)\n",
    "    clixo_genes[term] = {\n",
    "        'genes': assigned_genes\n",
    "    }\n",
    "\n",
    "print(missing_name)\n",
    "print(len(clixo_genes))"
   ]
  },
  {
   "cell_type": "code",
   "execution_count": 48,
   "metadata": {
    "collapsed": false
   },
   "outputs": [],
   "source": [
    "for key in clixo_genes.keys():\n",
    "        raw_interactions = []\n",
    "        gene_list = clixo_genes[key]['genes']\n",
    "        for gene in gene_list:\n",
    "            sgd = gene['sgdid']\n",
    "            if sgd in sgd2orf.keys():\n",
    "                orf = sgd2orf[sgd]\n",
    "                if orf in gene_map.keys():\n",
    "                    raw_interactions.append(gene_map[orf])\n",
    "        \n",
    "        clixo_genes[key]['interactions'] = term2interaction[key]"
   ]
  },
  {
   "cell_type": "code",
   "execution_count": null,
   "metadata": {
    "collapsed": false,
    "scrolled": false
   },
   "outputs": [],
   "source": [
    "import pprint\n",
    "pp = pprint.PrettyPrinter(indent=4)\n",
    "\n",
    "# pp.pprint(clixo_genes['10000'])"
   ]
  },
  {
   "cell_type": "markdown",
   "metadata": {},
   "source": [
    "## Insert new documents to Elasticsearch"
   ]
  },
  {
   "cell_type": "code",
   "execution_count": 49,
   "metadata": {
    "collapsed": false
   },
   "outputs": [
    {
     "data": {
      "text/plain": [
       "<Elasticsearch([{'port': 9200, 'host': 'localhost'}])>"
      ]
     },
     "execution_count": 49,
     "metadata": {},
     "output_type": "execute_result"
    }
   ],
   "source": [
    "from elasticsearch import Elasticsearch\n",
    "from datetime import datetime\n",
    "from elasticsearch_dsl import DocType, Date, Integer, Keyword, Text, Object, Nested, Index, Double, Integer\n",
    "from elasticsearch_dsl.connections import connections\n",
    "from elasticsearch import Elasticsearch\n",
    "from elasticsearch import helpers\n",
    "from elasticsearch_dsl import Search\n",
    "\n",
    "from elasticsearch_dsl.query import MultiMatch, Match, Q\n",
    "\n",
    "\n",
    "# Define a default Elasticsearch client\n",
    "connections.create_connection(hosts=['localhost:9200'])"
   ]
  },
  {
   "cell_type": "code",
   "execution_count": 50,
   "metadata": {
    "collapsed": false
   },
   "outputs": [],
   "source": [
    "# Class which represents a CLIXO term\n",
    "\n",
    "class ClixoTerm(DocType):\n",
    "    termid = Text(index='not_analyzed')\n",
    "    name = Text(analyzer='standard')\n",
    "    go = Object()\n",
    "    gene_count = Integer(index='not_analyzed')\n",
    "\n",
    "    genes = Object(multi=True)\n",
    "    interactions=Object(multi=True)\n",
    "    \n",
    "    class Meta:\n",
    "        index = 'terms'\n",
    "\n",
    "def get_clixo_term(key, term):\n",
    "    \n",
    "    term_id = 'CLIXO:' + key\n",
    "\n",
    "    name = term_id\n",
    "    \n",
    "    go = {\n",
    "        'goid': 'N/A',\n",
    "        'name': 'N/A',\n",
    "        'definition': 'N/A',\n",
    "    }\n",
    "    \n",
    "    gene_count = 0\n",
    "    \n",
    "    if key in clixo2go.keys():\n",
    "        \n",
    "        \n",
    "        go_alignment = clixo2go[key]\n",
    "        goid = go_alignment['go']\n",
    "        \n",
    "        if goid == 'GO:00SUPER':\n",
    "            return ClixoTerm(\n",
    "                meta={'id':  term_id},\n",
    "                termid=term_id,\n",
    "                name=name,\n",
    "                go=go,\n",
    "                gene_count = gene_count,\n",
    "\n",
    "                genes=term['genes'],\n",
    "                interactions=term2interaction[key])\n",
    "        \n",
    "        \n",
    "        \n",
    "        def_raw = obo[goid].defn\n",
    "        def_str = def_raw.split('\"')[1]\n",
    "        \n",
    "        go['goid'] = goid\n",
    "        go['score'] = go_alignment['score']\n",
    "        go['fdr'] = go_alignment['fdr']\n",
    "        gene_count = go_alignment['genes']\n",
    "        go['name'] = obo[goid].name\n",
    "        go['definition'] = def_str\n",
    "        name = obo[goid].name\n",
    "    \n",
    "    return ClixoTerm(\n",
    "        meta={'id':  term_id},\n",
    "        termid=term_id,\n",
    "        name=name,\n",
    "        go=go,\n",
    "        gene_count = gene_count,\n",
    "        \n",
    "        genes=term['genes'],\n",
    "        interactions=term2interaction[key]\n",
    ")"
   ]
  },
  {
   "cell_type": "code",
   "execution_count": 51,
   "metadata": {
    "collapsed": false
   },
   "outputs": [
    {
     "name": "stdout",
     "output_type": "stream",
     "text": [
      "init start==================\n",
      "Init done ==================\n",
      "Add start==================\n",
      "Bulk add start:\n",
      "Bulk add success!\n",
      "Bulk add start:\n",
      "Bulk add success!\n",
      "Bulk add start:\n",
      "Bulk add success!\n",
      "Bulk add start:\n",
      "Bulk add success!\n",
      "Bulk add start:\n",
      "Bulk add success!\n",
      "Bulk add start:\n",
      "Bulk add success!\n",
      "Bulk add start:\n",
      "Bulk add success!\n",
      "Bulk add start:\n",
      "Bulk add success!\n",
      "Bulk add start:\n",
      "Bulk add success!\n",
      "Last: 296\n",
      "---------------success!\n"
     ]
    }
   ],
   "source": [
    "print('init start==================')\n",
    "\n",
    "ClixoTerm.init()\n",
    "\n",
    "print('Init done ==================')\n",
    "\n",
    "es = Elasticsearch(host='localhost', port=9200)\n",
    "pool = []\n",
    "\n",
    "print('Add start==================')\n",
    "\n",
    "for id in clixo_genes.keys():\n",
    "    \n",
    "    d = get_clixo_term(id, clixo_genes[id])\n",
    "    \n",
    "    term = {'_index': getattr(d.meta, 'index', d._doc_type.index), '_type': d._doc_type.name,  '_id': d.termid, '_source': d.to_dict()}\n",
    "    pool.append(term)\n",
    "    if len(pool) > 500:\n",
    "        print('Bulk add start:')\n",
    "        helpers.bulk(es, pool)\n",
    "        print('Bulk add success!')\n",
    "\n",
    "        pool = []\n",
    "\n",
    "if len(pool) > 0:\n",
    "    print('Last: ' + str(len(pool)))\n",
    "    helpers.bulk(es, pool)\n",
    "    print('---------------success!')"
   ]
  }
 ],
 "metadata": {
  "anaconda-cloud": {},
  "kernelspec": {
   "display_name": "Python [default]",
   "language": "python",
   "name": "python3"
  },
  "language_info": {
   "codemirror_mode": {
    "name": "ipython",
    "version": 3
   },
   "file_extension": ".py",
   "mimetype": "text/x-python",
   "name": "python",
   "nbconvert_exporter": "python",
   "pygments_lexer": "ipython3",
   "version": "3.5.2"
  }
 },
 "nbformat": 4,
 "nbformat_minor": 1
}
