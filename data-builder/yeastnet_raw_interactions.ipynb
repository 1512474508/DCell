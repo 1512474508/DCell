{
 "cells": [
  {
   "cell_type": "code",
   "execution_count": 5,
   "metadata": {
    "collapsed": false
   },
   "outputs": [
    {
     "name": "stdout",
     "output_type": "stream",
     "text": [
      "Python 3.5.2 :: Anaconda custom (x86_64)\n",
      "--2017-01-09 14:14:06--  http://geneontology.org/gene-associations/gene_association.sgd.gz\n",
      "Resolving geneontology.org... 52.27.86.54\n",
      "Connecting to geneontology.org|52.27.86.54|:80... connected.\n",
      "HTTP request sent, awaiting response... 200 OK\n",
      "Length: 1497624 (1.4M) [application/x-gzip]\n",
      "Saving to: ‘./data/gene_association.sgd.gz’\n",
      "\n",
      "./data/gene_associa 100%[===================>]   1.43M  4.89MB/s    in 0.3s    \n",
      "\n",
      "2017-01-09 14:14:07 (4.89 MB/s) - ‘./data/gene_association.sgd.gz’ saved [1497624/1497624]\n",
      "\n",
      "--2017-01-09 14:14:07--  http://purl.obolibrary.org/obo/go.obo\n",
      "Resolving purl.obolibrary.org... 52.3.123.63\n",
      "Connecting to purl.obolibrary.org|52.3.123.63|:80... connected.\n",
      "HTTP request sent, awaiting response... 302 Found\n",
      "Location: http://geneontology.org/ontology/go.obo [following]\n",
      "--2017-01-09 14:14:07--  http://geneontology.org/ontology/go.obo\n",
      "Resolving geneontology.org... 52.27.86.54\n",
      "Connecting to geneontology.org|52.27.86.54|:80... connected.\n",
      "HTTP request sent, awaiting response... 200 OK\n",
      "Length: 35862931 (34M) [text/plain]\n",
      "Saving to: ‘./data/go.obo’\n",
      "\n",
      "./data/go.obo       100%[===================>]  34.20M  10.8MB/s    in 3.3s    \n",
      "\n",
      "2017-01-09 14:14:10 (10.3 MB/s) - ‘./data/go.obo’ saved [35862931/35862931]\n",
      "\n"
     ]
    }
   ],
   "source": [
    "!python --version\n",
    "!wget http://geneontology.org/gene-associations/gene_association.sgd.gz -O ./data/gene_association.sgd.gz\n",
    "!wget http://purl.obolibrary.org/obo/go.obo -O ./data/go.obo"
   ]
  },
  {
   "cell_type": "markdown",
   "metadata": {},
   "source": [
    "# From YeastNet to CLIXO term documents\n",
    "\n",
    "## What's this?\n",
    "\n",
    "This notebook is for building Elasticsearch index for CLIXO ontology."
   ]
  },
  {
   "cell_type": "code",
   "execution_count": 13,
   "metadata": {
    "collapsed": false
   },
   "outputs": [
    {
     "name": "stdout",
     "output_type": "stream",
     "text": [
      "0.91086\n"
     ]
    },
    {
     "data": {
      "text/html": [
       "<div>\n",
       "<table border=\"1\" class=\"dataframe\">\n",
       "  <thead>\n",
       "    <tr style=\"text-align: right;\">\n",
       "      <th></th>\n",
       "      <th>term</th>\n",
       "      <th>go</th>\n",
       "      <th>score</th>\n",
       "      <th>fdr</th>\n",
       "      <th>genes</th>\n",
       "    </tr>\n",
       "  </thead>\n",
       "  <tbody>\n",
       "    <tr>\n",
       "      <th>1801</th>\n",
       "      <td>10653</td>\n",
       "      <td>GO:0003677</td>\n",
       "      <td>0.103889</td>\n",
       "      <td>0.063385</td>\n",
       "      <td>276</td>\n",
       "    </tr>\n",
       "    <tr>\n",
       "      <th>1802</th>\n",
       "      <td>10118</td>\n",
       "      <td>GO:0070475</td>\n",
       "      <td>0.102736</td>\n",
       "      <td>0.030038</td>\n",
       "      <td>12</td>\n",
       "    </tr>\n",
       "    <tr>\n",
       "      <th>1803</th>\n",
       "      <td>10609</td>\n",
       "      <td>GO:0006260</td>\n",
       "      <td>0.102724</td>\n",
       "      <td>0.067879</td>\n",
       "      <td>97</td>\n",
       "    </tr>\n",
       "    <tr>\n",
       "      <th>1804</th>\n",
       "      <td>10116</td>\n",
       "      <td>GO:0016892</td>\n",
       "      <td>0.102330</td>\n",
       "      <td>0.030909</td>\n",
       "      <td>12</td>\n",
       "    </tr>\n",
       "    <tr>\n",
       "      <th>1805</th>\n",
       "      <td>10039</td>\n",
       "      <td>GO:1904666</td>\n",
       "      <td>0.101970</td>\n",
       "      <td>0.031887</td>\n",
       "      <td>10</td>\n",
       "    </tr>\n",
       "    <tr>\n",
       "      <th>1806</th>\n",
       "      <td>10576</td>\n",
       "      <td>GO:0030001</td>\n",
       "      <td>0.101811</td>\n",
       "      <td>0.001404</td>\n",
       "      <td>64</td>\n",
       "    </tr>\n",
       "    <tr>\n",
       "      <th>1807</th>\n",
       "      <td>10409</td>\n",
       "      <td>GO:0006563</td>\n",
       "      <td>0.101467</td>\n",
       "      <td>0.002319</td>\n",
       "      <td>25</td>\n",
       "    </tr>\n",
       "    <tr>\n",
       "      <th>1808</th>\n",
       "      <td>10659</td>\n",
       "      <td>GO:0098771</td>\n",
       "      <td>0.101231</td>\n",
       "      <td>0.074179</td>\n",
       "      <td>302</td>\n",
       "    </tr>\n",
       "    <tr>\n",
       "      <th>1809</th>\n",
       "      <td>10586</td>\n",
       "      <td>GO:0005935</td>\n",
       "      <td>0.100773</td>\n",
       "      <td>0.075000</td>\n",
       "      <td>74</td>\n",
       "    </tr>\n",
       "    <tr>\n",
       "      <th>1810</th>\n",
       "      <td>10272</td>\n",
       "      <td>GO:0000288</td>\n",
       "      <td>0.100092</td>\n",
       "      <td>0.002734</td>\n",
       "      <td>17</td>\n",
       "    </tr>\n",
       "  </tbody>\n",
       "</table>\n",
       "</div>"
      ],
      "text/plain": [
       "       term          go     score       fdr  genes\n",
       "1801  10653  GO:0003677  0.103889  0.063385    276\n",
       "1802  10118  GO:0070475  0.102736  0.030038     12\n",
       "1803  10609  GO:0006260  0.102724  0.067879     97\n",
       "1804  10116  GO:0016892  0.102330  0.030909     12\n",
       "1805  10039  GO:1904666  0.101970  0.031887     10\n",
       "1806  10576  GO:0030001  0.101811  0.001404     64\n",
       "1807  10409  GO:0006563  0.101467  0.002319     25\n",
       "1808  10659  GO:0098771  0.101231  0.074179    302\n",
       "1809  10586  GO:0005935  0.100773  0.075000     74\n",
       "1810  10272  GO:0000288  0.100092  0.002734     17"
      ]
     },
     "execution_count": 13,
     "metadata": {},
     "output_type": "execute_result"
    }
   ],
   "source": [
    "import pandas as pd\n",
    "from os import listdir\n",
    "from os.path import isfile, join\n",
    "import numpy as np\n",
    "from goatools import obo_parser\n",
    "\n",
    "# Annotation file for the CLIXO terms\n",
    "clixo_mapping = './data/alignments_FDR_0.1_t_0.1'\n",
    "oboUrl = './data/go.obo'\n",
    "\n",
    "clixo_align = pd.read_csv(clixo_mapping, sep='\\t', names=['term', 'go', 'score', 'fdr', 'genes'])\n",
    "print(clixo_align['score'].max())\n",
    "clixo_align.tail(10)"
   ]
  },
  {
   "cell_type": "code",
   "execution_count": 15,
   "metadata": {
    "collapsed": false
   },
   "outputs": [
    {
     "data": {
      "image/png": "[encoded data removed]",
      "text/plain": [
       "<matplotlib.figure.Figure at 0x118d6b748>"
      ]
     },
     "metadata": {},
     "output_type": "display_data"
    }
   ],
   "source": [
    "import matplotlib.pyplot as plt\n",
    "plt.hist(clixo_align['score'], bins='auto')\n",
    "plt.show()"
   ]
  },
  {
   "cell_type": "code",
   "execution_count": 76,
   "metadata": {
    "collapsed": false
   },
   "outputs": [
    {
     "name": "stdout",
     "output_type": "stream",
     "text": [
      "{'score': 0.100092, 'fdr': 0.00273381, 'go': 'GO:0000288', 'genes': 17}\n"
     ]
    }
   ],
   "source": [
    "clixo2go = {}\n",
    "for row in clixo_align.itertuples():\n",
    "    c = str(row[1])\n",
    "    go = row[2]\n",
    "    val = {\n",
    "        'go': go,\n",
    "        'score': row[3].item(),\n",
    "        'fdr': row[4].item(),\n",
    "        'genes': row[5].item()\n",
    "    }\n",
    "    clixo2go[c] = val\n",
    "\n",
    "print(clixo2go['10272'])\n",
    "\n",
    "# Save to file (for updating CyJS file)\n",
    "import json\n",
    "with open('./data/clixo-mapping.json', 'w') as outfile:\n",
    "    json.dump(clixo2go, outfile)"
   ]
  },
  {
   "cell_type": "code",
   "execution_count": 49,
   "metadata": {
    "collapsed": false
   },
   "outputs": [
    {
     "name": "stdout",
     "output_type": "stream",
     "text": [
      "load obo file ./data/go.obo\n",
      "./data/go.obo: fmt(1.2) rel(2017-01-08) 47,914 GO Terms\n"
     ]
    }
   ],
   "source": [
    "obo = obo_parser.GODag(oboUrl, optional_attrs=['def'])"
   ]
  },
  {
   "cell_type": "code",
   "execution_count": 53,
   "metadata": {
    "collapsed": false
   },
   "outputs": [
    {
     "data": {
      "text/plain": [
       "'\"The chemical reactions and pathways involving L-serine, the L-enantiomer of serine, i.e. (2S)-2-amino-3-hydroxypropanoic acid.\" [CHEBI:17115, GOC:ai, GOC:jsg]'"
      ]
     },
     "execution_count": 53,
     "metadata": {},
     "output_type": "execute_result"
    }
   ],
   "source": [
    "# test data\n",
    "obo['GO:0006563'].defn"
   ]
  },
  {
   "cell_type": "code",
   "execution_count": 22,
   "metadata": {
    "collapsed": false
   },
   "outputs": [
    {
     "data": {
      "text/plain": [
       "['.DS_Store',\n",
       " 'all.txt',\n",
       " 'INT.CC.YeastNet.v3.4345gene.82319link.txt',\n",
       " 'INT.CX.YeastNet.v3.5730gene.242504link.txt',\n",
       " 'INT.DC.YeastNet.v3.3679gene.29880link.txt',\n",
       " 'INT.GN.YeastNet.v3.1863gene.29475link.txt',\n",
       " 'INT.GT.YeastNet.v3.4365gene.149498link.txt',\n",
       " 'INT.HT.YeastNet.v3.5487gene.141347link.txt',\n",
       " 'INT.LC.YeastNet.v3.5293gene.54421link.txt',\n",
       " 'INT.PG.YeastNet.v3.2463gene.54496link.txt',\n",
       " 'INT.TS.YeastNet.v3.1101gene.3510link.txt',\n",
       " 'preds_yeastnet_no_gi_0.04_0.5.txt.propagate.mapping']"
      ]
     },
     "execution_count": 22,
     "metadata": {},
     "output_type": "execute_result"
    }
   ],
   "source": [
    "# This directory should contains all of the YeastNet interaction files\n",
    "data_path = './data/raw-interactions'\n",
    "files = [f for f in listdir(data_path) if isfile(join(data_path, f))]\n",
    "files"
   ]
  },
  {
   "cell_type": "markdown",
   "metadata": {},
   "source": [
    "## Create single interaction DataFrame\n",
    "\n",
    "From all interaction fiules, make a table with all interactions"
   ]
  },
  {
   "cell_type": "code",
   "execution_count": 23,
   "metadata": {
    "collapsed": false
   },
   "outputs": [
    {
     "name": "stdout",
     "output_type": "stream",
     "text": [
      "(787450, 4)\n"
     ]
    },
    {
     "data": {
      "text/html": [
       "<div>\n",
       "<table border=\"1\" class=\"dataframe\">\n",
       "  <thead>\n",
       "    <tr style=\"text-align: right;\">\n",
       "      <th></th>\n",
       "      <th>interaction</th>\n",
       "      <th>score</th>\n",
       "      <th>source</th>\n",
       "      <th>target</th>\n",
       "    </tr>\n",
       "  </thead>\n",
       "  <tbody>\n",
       "    <tr>\n",
       "      <th>0</th>\n",
       "      <td>CC</td>\n",
       "      <td>4.0971</td>\n",
       "      <td>YBL075C</td>\n",
       "      <td>YBR169C</td>\n",
       "    </tr>\n",
       "    <tr>\n",
       "      <th>1</th>\n",
       "      <td>CC</td>\n",
       "      <td>4.0971</td>\n",
       "      <td>YBR019C</td>\n",
       "      <td>YBR020W</td>\n",
       "    </tr>\n",
       "    <tr>\n",
       "      <th>2</th>\n",
       "      <td>CC</td>\n",
       "      <td>4.0971</td>\n",
       "      <td>YBR160W</td>\n",
       "      <td>YDL102W</td>\n",
       "    </tr>\n",
       "    <tr>\n",
       "      <th>3</th>\n",
       "      <td>CC</td>\n",
       "      <td>4.0971</td>\n",
       "      <td>YBR169C</td>\n",
       "      <td>YPL240C</td>\n",
       "    </tr>\n",
       "    <tr>\n",
       "      <th>4</th>\n",
       "      <td>CC</td>\n",
       "      <td>4.0971</td>\n",
       "      <td>YCR096C</td>\n",
       "      <td>YCR097W</td>\n",
       "    </tr>\n",
       "    <tr>\n",
       "      <th>5</th>\n",
       "      <td>CC</td>\n",
       "      <td>4.0971</td>\n",
       "      <td>YDL102W</td>\n",
       "      <td>YLR310C</td>\n",
       "    </tr>\n",
       "    <tr>\n",
       "      <th>6</th>\n",
       "      <td>CC</td>\n",
       "      <td>4.0971</td>\n",
       "      <td>YDR127W</td>\n",
       "      <td>YNR016C</td>\n",
       "    </tr>\n",
       "    <tr>\n",
       "      <th>7</th>\n",
       "      <td>CC</td>\n",
       "      <td>4.0971</td>\n",
       "      <td>YER095W</td>\n",
       "      <td>YLR032W</td>\n",
       "    </tr>\n",
       "    <tr>\n",
       "      <th>8</th>\n",
       "      <td>CC</td>\n",
       "      <td>4.0971</td>\n",
       "      <td>YFL009W</td>\n",
       "      <td>YLR229C</td>\n",
       "    </tr>\n",
       "    <tr>\n",
       "      <th>9</th>\n",
       "      <td>CC</td>\n",
       "      <td>4.0971</td>\n",
       "      <td>YJR048W</td>\n",
       "      <td>YOR362C</td>\n",
       "    </tr>\n",
       "  </tbody>\n",
       "</table>\n",
       "</div>"
      ],
      "text/plain": [
       "  interaction   score   source   target\n",
       "0          CC  4.0971  YBL075C  YBR169C\n",
       "1          CC  4.0971  YBR019C  YBR020W\n",
       "2          CC  4.0971  YBR160W  YDL102W\n",
       "3          CC  4.0971  YBR169C  YPL240C\n",
       "4          CC  4.0971  YCR096C  YCR097W\n",
       "5          CC  4.0971  YDL102W  YLR310C\n",
       "6          CC  4.0971  YDR127W  YNR016C\n",
       "7          CC  4.0971  YER095W  YLR032W\n",
       "8          CC  4.0971  YFL009W  YLR229C\n",
       "9          CC  4.0971  YJR048W  YOR362C"
      ]
     },
     "execution_count": 23,
     "metadata": {},
     "output_type": "execute_result"
    }
   ],
   "source": [
    "columns = ['source', 'target', 'score']\n",
    "all_interactions = pd.DataFrame(columns=columns)\n",
    "\n",
    "for f in files:\n",
    "    if not f.startswith('INT'):\n",
    "        continue\n",
    "    \n",
    "    int_type = f.split('.')[1]\n",
    "    df = pd.read_csv(data_path+'/'+ f, delimiter='\\t', names=columns)\n",
    "    df['interaction'] = int_type\n",
    "    all_interactions = pd.concat([all_interactions, df])\n",
    "\n",
    "print(all_interactions.shape)\n",
    "all_interactions.head(10)"
   ]
  },
  {
   "cell_type": "code",
   "execution_count": 24,
   "metadata": {
    "collapsed": false
   },
   "outputs": [],
   "source": [
    "all_interactions.to_csv('./data/raw-interactions/all.txt', sep='\\t')"
   ]
  },
  {
   "cell_type": "markdown",
   "metadata": {},
   "source": [
    "## Create list of all genes associated with CLIXO terms"
   ]
  },
  {
   "cell_type": "code",
   "execution_count": 25,
   "metadata": {
    "collapsed": false
   },
   "outputs": [
    {
     "data": {
      "text/html": [
       "<div>\n",
       "<table border=\"1\" class=\"dataframe\">\n",
       "  <thead>\n",
       "    <tr style=\"text-align: right;\">\n",
       "      <th></th>\n",
       "      <th>gene</th>\n",
       "      <th>term</th>\n",
       "    </tr>\n",
       "  </thead>\n",
       "  <tbody>\n",
       "    <tr>\n",
       "      <th>0</th>\n",
       "      <td>YGR220C</td>\n",
       "      <td>10000</td>\n",
       "    </tr>\n",
       "    <tr>\n",
       "      <th>1</th>\n",
       "      <td>YPR100W</td>\n",
       "      <td>10000</td>\n",
       "    </tr>\n",
       "    <tr>\n",
       "      <th>2</th>\n",
       "      <td>YNR022C</td>\n",
       "      <td>10000</td>\n",
       "    </tr>\n",
       "    <tr>\n",
       "      <th>3</th>\n",
       "      <td>YNL252C</td>\n",
       "      <td>10000</td>\n",
       "    </tr>\n",
       "    <tr>\n",
       "      <th>4</th>\n",
       "      <td>YCR046C</td>\n",
       "      <td>10000</td>\n",
       "    </tr>\n",
       "  </tbody>\n",
       "</table>\n",
       "</div>"
      ],
      "text/plain": [
       "      gene   term\n",
       "0  YGR220C  10000\n",
       "1  YPR100W  10000\n",
       "2  YNR022C  10000\n",
       "3  YNL252C  10000\n",
       "4  YCR046C  10000"
      ]
     },
     "execution_count": 25,
     "metadata": {},
     "output_type": "execute_result"
    }
   ],
   "source": [
    "# CLIXO term to gene association\n",
    "mapping = pd.read_csv('./data/raw-interactions/preds_yeastnet_no_gi_0.04_0.5.txt.propagate.mapping', delimiter='\\t', names=['gene', 'term'])\n",
    "mapping.head()"
   ]
  },
  {
   "cell_type": "code",
   "execution_count": 26,
   "metadata": {
    "collapsed": false
   },
   "outputs": [
    {
     "name": "stdout",
     "output_type": "stream",
     "text": [
      "(5886,)\n"
     ]
    }
   ],
   "source": [
    "# All ORF names in CLIXO\n",
    "mixed_ids = mapping['gene'].unique()\n",
    "print(mixed_ids.shape)"
   ]
  },
  {
   "cell_type": "markdown",
   "metadata": {},
   "source": [
    "### Standardize the gene IDs to SGD"
   ]
  },
  {
   "cell_type": "code",
   "execution_count": 27,
   "metadata": {
    "collapsed": false
   },
   "outputs": [
    {
     "data": {
      "text/html": [
       "<div>\n",
       "<table border=\"1\" class=\"dataframe\">\n",
       "  <thead>\n",
       "    <tr style=\"text-align: right;\">\n",
       "      <th></th>\n",
       "      <th>DB</th>\n",
       "      <th>DB_Object_ID</th>\n",
       "      <th>DB_Object_Symbol</th>\n",
       "      <th>Qualifier</th>\n",
       "      <th>GO_ID</th>\n",
       "      <th>DB:Reference</th>\n",
       "      <th>Evidence</th>\n",
       "      <th>With_or_From</th>\n",
       "      <th>Aspect</th>\n",
       "      <th>DB_Object_Name</th>\n",
       "      <th>DB_Object_Synonym</th>\n",
       "      <th>DB_Object_Type</th>\n",
       "      <th>taxon</th>\n",
       "      <th>Date</th>\n",
       "      <th>Assigned_by</th>\n",
       "      <th>Annotation_Extension</th>\n",
       "      <th>Gene_Product_Form_ID</th>\n",
       "    </tr>\n",
       "  </thead>\n",
       "  <tbody>\n",
       "    <tr>\n",
       "      <th>111269</th>\n",
       "      <td>SGD</td>\n",
       "      <td>S000006732</td>\n",
       "      <td>tX(XXX)L</td>\n",
       "      <td>NaN</td>\n",
       "      <td>GO:0030533</td>\n",
       "      <td>SGD_REF:S000181097|PMID:9023104</td>\n",
       "      <td>ISM</td>\n",
       "      <td>NaN</td>\n",
       "      <td>F</td>\n",
       "      <td>tRNA of undetermined specificity, predicted by...</td>\n",
       "      <td>tX(XXX)L|tS(GCU)L</td>\n",
       "      <td>gene</td>\n",
       "      <td>taxon:559292</td>\n",
       "      <td>20030507</td>\n",
       "      <td>SGD</td>\n",
       "      <td>NaN</td>\n",
       "      <td>NaN</td>\n",
       "    </tr>\n",
       "    <tr>\n",
       "      <th>111270</th>\n",
       "      <td>SGD</td>\n",
       "      <td>S000006732</td>\n",
       "      <td>tX(XXX)L</td>\n",
       "      <td>NaN</td>\n",
       "      <td>GO:0005829</td>\n",
       "      <td>SGD_REF:S000181097|PMID:9023104</td>\n",
       "      <td>IC</td>\n",
       "      <td>GO:0030533</td>\n",
       "      <td>C</td>\n",
       "      <td>tRNA of undetermined specificity, predicted by...</td>\n",
       "      <td>tX(XXX)L|tS(GCU)L</td>\n",
       "      <td>gene</td>\n",
       "      <td>taxon:559292</td>\n",
       "      <td>20030507</td>\n",
       "      <td>SGD</td>\n",
       "      <td>NaN</td>\n",
       "      <td>NaN</td>\n",
       "    </tr>\n",
       "    <tr>\n",
       "      <th>111271</th>\n",
       "      <td>SGD</td>\n",
       "      <td>S000007338</td>\n",
       "      <td>tY(GUA)Q</td>\n",
       "      <td>NaN</td>\n",
       "      <td>GO:0070125</td>\n",
       "      <td>SGD_REF:S000181097|PMID:9023104</td>\n",
       "      <td>IC</td>\n",
       "      <td>GO:0030533</td>\n",
       "      <td>P</td>\n",
       "      <td>Mitochondrial tyrosine tRNA (tRNA-Tyr)</td>\n",
       "      <td>tY(GUA)Q</td>\n",
       "      <td>gene</td>\n",
       "      <td>taxon:559292</td>\n",
       "      <td>20150730</td>\n",
       "      <td>SGD</td>\n",
       "      <td>NaN</td>\n",
       "      <td>NaN</td>\n",
       "    </tr>\n",
       "    <tr>\n",
       "      <th>111272</th>\n",
       "      <td>SGD</td>\n",
       "      <td>S000007338</td>\n",
       "      <td>tY(GUA)Q</td>\n",
       "      <td>NaN</td>\n",
       "      <td>GO:0005739</td>\n",
       "      <td>SGD_REF:S000181097|PMID:9023104</td>\n",
       "      <td>IC</td>\n",
       "      <td>GO:0030533</td>\n",
       "      <td>C</td>\n",
       "      <td>Mitochondrial tyrosine tRNA (tRNA-Tyr)</td>\n",
       "      <td>tY(GUA)Q</td>\n",
       "      <td>gene</td>\n",
       "      <td>taxon:559292</td>\n",
       "      <td>20030507</td>\n",
       "      <td>SGD</td>\n",
       "      <td>NaN</td>\n",
       "      <td>NaN</td>\n",
       "    </tr>\n",
       "    <tr>\n",
       "      <th>111273</th>\n",
       "      <td>SGD</td>\n",
       "      <td>S000007338</td>\n",
       "      <td>tY(GUA)Q</td>\n",
       "      <td>NaN</td>\n",
       "      <td>GO:0030533</td>\n",
       "      <td>SGD_REF:S000181097|PMID:9023104</td>\n",
       "      <td>ISM</td>\n",
       "      <td>NaN</td>\n",
       "      <td>F</td>\n",
       "      <td>Mitochondrial tyrosine tRNA (tRNA-Tyr)</td>\n",
       "      <td>tY(GUA)Q</td>\n",
       "      <td>gene</td>\n",
       "      <td>taxon:559292</td>\n",
       "      <td>20060721</td>\n",
       "      <td>SGD</td>\n",
       "      <td>NaN</td>\n",
       "      <td>NaN</td>\n",
       "    </tr>\n",
       "  </tbody>\n",
       "</table>\n",
       "</div>"
      ],
      "text/plain": [
       "         DB DB_Object_ID DB_Object_Symbol Qualifier       GO_ID  \\\n",
       "111269  SGD   S000006732         tX(XXX)L       NaN  GO:0030533   \n",
       "111270  SGD   S000006732         tX(XXX)L       NaN  GO:0005829   \n",
       "111271  SGD   S000007338         tY(GUA)Q       NaN  GO:0070125   \n",
       "111272  SGD   S000007338         tY(GUA)Q       NaN  GO:0005739   \n",
       "111273  SGD   S000007338         tY(GUA)Q       NaN  GO:0030533   \n",
       "\n",
       "                           DB:Reference Evidence With_or_From Aspect  \\\n",
       "111269  SGD_REF:S000181097|PMID:9023104      ISM          NaN      F   \n",
       "111270  SGD_REF:S000181097|PMID:9023104       IC   GO:0030533      C   \n",
       "111271  SGD_REF:S000181097|PMID:9023104       IC   GO:0030533      P   \n",
       "111272  SGD_REF:S000181097|PMID:9023104       IC   GO:0030533      C   \n",
       "111273  SGD_REF:S000181097|PMID:9023104      ISM          NaN      F   \n",
       "\n",
       "                                           DB_Object_Name  DB_Object_Synonym  \\\n",
       "111269  tRNA of undetermined specificity, predicted by...  tX(XXX)L|tS(GCU)L   \n",
       "111270  tRNA of undetermined specificity, predicted by...  tX(XXX)L|tS(GCU)L   \n",
       "111271             Mitochondrial tyrosine tRNA (tRNA-Tyr)           tY(GUA)Q   \n",
       "111272             Mitochondrial tyrosine tRNA (tRNA-Tyr)           tY(GUA)Q   \n",
       "111273             Mitochondrial tyrosine tRNA (tRNA-Tyr)           tY(GUA)Q   \n",
       "\n",
       "       DB_Object_Type         taxon      Date Assigned_by  \\\n",
       "111269           gene  taxon:559292  20030507         SGD   \n",
       "111270           gene  taxon:559292  20030507         SGD   \n",
       "111271           gene  taxon:559292  20150730         SGD   \n",
       "111272           gene  taxon:559292  20030507         SGD   \n",
       "111273           gene  taxon:559292  20060721         SGD   \n",
       "\n",
       "       Annotation_Extension  Gene_Product_Form_ID  \n",
       "111269                  NaN                   NaN  \n",
       "111270                  NaN                   NaN  \n",
       "111271                  NaN                   NaN  \n",
       "111272                  NaN                   NaN  \n",
       "111273                  NaN                   NaN  "
      ]
     },
     "execution_count": 27,
     "metadata": {},
     "output_type": "execute_result"
    }
   ],
   "source": [
    "# Import gene association file\n",
    "yeastAnnotationUrl = './data/gene_association.sgd.gz'\n",
    "cols = pd.read_csv('./annotation_columns.txt', names=['col_names'])\n",
    "col_names = cols['col_names'].tolist()\n",
    "yeastAnnotation = pd.read_csv(yeastAnnotationUrl, delimiter='\\t', comment='!', compression='gzip', names=col_names)\n",
    "yeastAnnotation.tail()"
   ]
  },
  {
   "cell_type": "code",
   "execution_count": 28,
   "metadata": {
    "collapsed": false
   },
   "outputs": [],
   "source": [
    "# Mapping object: from any type of ID to SGD ID\n",
    "to_sgd = {}\n",
    "\n",
    "# Annotation for genes\n",
    "sgd2fullname = {}\n",
    "sgd2symbol = {}\n",
    "\n",
    "for row in yeastAnnotation.itertuples():\n",
    "    sgd = row[2]\n",
    "    orf = row[3]\n",
    "    full_name = str(row[10]).replace('\\r\\n', '')\n",
    "    syn = str(row[11])\n",
    "    syns = syn.split('|')\n",
    "    to_sgd[orf] = sgd\n",
    "    for synonym in syns:\n",
    "        to_sgd[synonym] = sgd\n",
    "    sgd2fullname[sgd] = full_name\n",
    "    sgd2symbol[sgd] = orf"
   ]
  },
  {
   "cell_type": "code",
   "execution_count": 29,
   "metadata": {
    "collapsed": false
   },
   "outputs": [],
   "source": [
    "normalized_map = []\n",
    "\n",
    "for row in mapping.itertuples():\n",
    "    gene = row[1]\n",
    "    term = str(row[2])\n",
    "    \n",
    "    # Convert to SGD\n",
    "    sgd = gene\n",
    "    if gene in to_sgd.keys():\n",
    "        sgd = to_sgd[gene]\n",
    "    entry = (sgd, term)\n",
    "    normalized_map.append(entry)"
   ]
  },
  {
   "cell_type": "code",
   "execution_count": 30,
   "metadata": {
    "collapsed": false
   },
   "outputs": [
    {
     "name": "stdout",
     "output_type": "stream",
     "text": [
      "All maped!\n"
     ]
    },
    {
     "data": {
      "text/plain": [
       "5872"
      ]
     },
     "execution_count": 30,
     "metadata": {},
     "output_type": "execute_result"
    }
   ],
   "source": [
    "# All ORF to SGD\n",
    "all_sgd = list(map(lambda x: to_sgd[x] if x in to_sgd.keys() else x, mixed_ids))\n",
    "if len(all_sgd) == len(mixed_ids):\n",
    "    print('All maped!')\n",
    "    \n",
    "# This contains all gene IDs (SGD ID)\n",
    "uniq_genes = set(all_sgd)\n",
    "len(uniq_genes)"
   ]
  },
  {
   "cell_type": "code",
   "execution_count": 31,
   "metadata": {
    "collapsed": false
   },
   "outputs": [],
   "source": [
    "df_genes = pd.DataFrame(list(uniq_genes))\n",
    "\n",
    "# Save as text file and use it in UNIPROT ID Mapper\n",
    "df_genes.to_csv('./data/all_sgd.txt', sep='\\t', index=False, header=False)"
   ]
  },
  {
   "cell_type": "code",
   "execution_count": 32,
   "metadata": {
    "collapsed": false
   },
   "outputs": [
    {
     "name": "stdout",
     "output_type": "stream",
     "text": [
      "(5874, 13)\n"
     ]
    },
    {
     "data": {
      "text/html": [
       "<div>\n",
       "<table border=\"1\" class=\"dataframe\">\n",
       "  <thead>\n",
       "    <tr style=\"text-align: right;\">\n",
       "      <th></th>\n",
       "      <th>Entry</th>\n",
       "      <th>yourlist:M20170106AAFB7E4D2F1D05654627429E83DA5CCE9FB1772</th>\n",
       "      <th>Entry name</th>\n",
       "      <th>Status</th>\n",
       "      <th>Protein names</th>\n",
       "      <th>Gene names</th>\n",
       "      <th>Organism</th>\n",
       "      <th>Length</th>\n",
       "      <th>Gene names  (primary )</th>\n",
       "      <th>Gene names  (synonym )</th>\n",
       "      <th>Gene names  (ordered locus )</th>\n",
       "      <th>Gene names  (ORF )</th>\n",
       "      <th>Pathway</th>\n",
       "    </tr>\n",
       "  </thead>\n",
       "  <tbody>\n",
       "    <tr>\n",
       "      <th>0</th>\n",
       "      <td>P11914</td>\n",
       "      <td>S000001066</td>\n",
       "      <td>MPPA_YEAST</td>\n",
       "      <td>reviewed</td>\n",
       "      <td>Mitochondrial-processing peptidase subunit alp...</td>\n",
       "      <td>MAS2 MIF2 YHR024C</td>\n",
       "      <td>Saccharomyces cerevisiae (strain ATCC 204508 /...</td>\n",
       "      <td>482</td>\n",
       "      <td>MAS2</td>\n",
       "      <td>MIF2</td>\n",
       "      <td>YHR024C</td>\n",
       "      <td>NaN</td>\n",
       "      <td>NaN</td>\n",
       "    </tr>\n",
       "    <tr>\n",
       "      <th>1</th>\n",
       "      <td>Q3E7Z2</td>\n",
       "      <td>S000028850</td>\n",
       "      <td>YN042_YEAST</td>\n",
       "      <td>reviewed</td>\n",
       "      <td>Uncharacterized protein YNL042W-B</td>\n",
       "      <td>YNL042W-B</td>\n",
       "      <td>Saccharomyces cerevisiae (strain ATCC 204508 /...</td>\n",
       "      <td>85</td>\n",
       "      <td>NaN</td>\n",
       "      <td>NaN</td>\n",
       "      <td>YNL042W-B</td>\n",
       "      <td>NaN</td>\n",
       "      <td>NaN</td>\n",
       "    </tr>\n",
       "    <tr>\n",
       "      <th>2</th>\n",
       "      <td>P49956</td>\n",
       "      <td>S000004683</td>\n",
       "      <td>CTF18_YEAST</td>\n",
       "      <td>reviewed</td>\n",
       "      <td>Chromosome transmission fidelity protein 18</td>\n",
       "      <td>CTF18 CHL12 YMR078C YM9582.03C</td>\n",
       "      <td>Saccharomyces cerevisiae (strain ATCC 204508 /...</td>\n",
       "      <td>741</td>\n",
       "      <td>CTF18</td>\n",
       "      <td>CHL12</td>\n",
       "      <td>YMR078C</td>\n",
       "      <td>YM9582.03C</td>\n",
       "      <td>NaN</td>\n",
       "    </tr>\n",
       "    <tr>\n",
       "      <th>3</th>\n",
       "      <td>P38890</td>\n",
       "      <td>S000001250</td>\n",
       "      <td>SET5_YEAST</td>\n",
       "      <td>reviewed</td>\n",
       "      <td>Putative protein lysine methyltransferase SET5...</td>\n",
       "      <td>SET5 YHR207C</td>\n",
       "      <td>Saccharomyces cerevisiae (strain ATCC 204508 /...</td>\n",
       "      <td>526</td>\n",
       "      <td>SET5</td>\n",
       "      <td>NaN</td>\n",
       "      <td>YHR207C</td>\n",
       "      <td>NaN</td>\n",
       "      <td>NaN</td>\n",
       "    </tr>\n",
       "    <tr>\n",
       "      <th>4</th>\n",
       "      <td>Q01852</td>\n",
       "      <td>S000001284</td>\n",
       "      <td>TIM44_YEAST</td>\n",
       "      <td>reviewed</td>\n",
       "      <td>Mitochondrial import inner membrane translocas...</td>\n",
       "      <td>TIM44 ISP45 MIM44 MPI1 YIL022W</td>\n",
       "      <td>Saccharomyces cerevisiae (strain ATCC 204508 /...</td>\n",
       "      <td>431</td>\n",
       "      <td>TIM44</td>\n",
       "      <td>ISP45 MIM44 MPI1</td>\n",
       "      <td>YIL022W</td>\n",
       "      <td>NaN</td>\n",
       "      <td>NaN</td>\n",
       "    </tr>\n",
       "  </tbody>\n",
       "</table>\n",
       "</div>"
      ],
      "text/plain": [
       "    Entry yourlist:M20170106AAFB7E4D2F1D05654627429E83DA5CCE9FB1772  \\\n",
       "0  P11914                                         S000001066          \n",
       "1  Q3E7Z2                                         S000028850          \n",
       "2  P49956                                         S000004683          \n",
       "3  P38890                                         S000001250          \n",
       "4  Q01852                                         S000001284          \n",
       "\n",
       "    Entry name    Status                                      Protein names  \\\n",
       "0   MPPA_YEAST  reviewed  Mitochondrial-processing peptidase subunit alp...   \n",
       "1  YN042_YEAST  reviewed                  Uncharacterized protein YNL042W-B   \n",
       "2  CTF18_YEAST  reviewed        Chromosome transmission fidelity protein 18   \n",
       "3   SET5_YEAST  reviewed  Putative protein lysine methyltransferase SET5...   \n",
       "4  TIM44_YEAST  reviewed  Mitochondrial import inner membrane translocas...   \n",
       "\n",
       "                       Gene names  \\\n",
       "0               MAS2 MIF2 YHR024C   \n",
       "1                       YNL042W-B   \n",
       "2  CTF18 CHL12 YMR078C YM9582.03C   \n",
       "3                    SET5 YHR207C   \n",
       "4  TIM44 ISP45 MIM44 MPI1 YIL022W   \n",
       "\n",
       "                                            Organism  Length  \\\n",
       "0  Saccharomyces cerevisiae (strain ATCC 204508 /...     482   \n",
       "1  Saccharomyces cerevisiae (strain ATCC 204508 /...      85   \n",
       "2  Saccharomyces cerevisiae (strain ATCC 204508 /...     741   \n",
       "3  Saccharomyces cerevisiae (strain ATCC 204508 /...     526   \n",
       "4  Saccharomyces cerevisiae (strain ATCC 204508 /...     431   \n",
       "\n",
       "  Gene names  (primary ) Gene names  (synonym ) Gene names  (ordered locus )  \\\n",
       "0                   MAS2                   MIF2                      YHR024C   \n",
       "1                    NaN                    NaN                    YNL042W-B   \n",
       "2                  CTF18                  CHL12                      YMR078C   \n",
       "3                   SET5                    NaN                      YHR207C   \n",
       "4                  TIM44       ISP45 MIM44 MPI1                      YIL022W   \n",
       "\n",
       "  Gene names  (ORF ) Pathway  \n",
       "0                NaN     NaN  \n",
       "1                NaN     NaN  \n",
       "2         YM9582.03C     NaN  \n",
       "3                NaN     NaN  \n",
       "4                NaN     NaN  "
      ]
     },
     "execution_count": 32,
     "metadata": {},
     "output_type": "execute_result"
    }
   ],
   "source": [
    "uniprot = pd.read_csv('./data/uniprot-idmapping.txt', delimiter='\\t')\n",
    "print(uniprot.shape)\n",
    "uniprot.head()"
   ]
  },
  {
   "cell_type": "code",
   "execution_count": 33,
   "metadata": {
    "collapsed": false
   },
   "outputs": [
    {
     "name": "stdout",
     "output_type": "stream",
     "text": [
      "10\n",
      "{'S000000214', 'S000000322', 'S000000213', 'S000001767', 'S000005659', 'S000004975', 'S000003674', 'S000002793', 'S000006284', 'S000004976'}\n"
     ]
    }
   ],
   "source": [
    "sgd2orf = {}\n",
    "for row in uniprot.itertuples():\n",
    "    sgd = row[2]\n",
    "    orf = row[11]\n",
    "    sgd2orf[sgd] = orf\n",
    "\n",
    "# Test\n",
    "missing = set()\n",
    "for sgd in uniq_genes:\n",
    "    if sgd not in sgd2orf.keys():\n",
    "        missing.add(sgd)\n",
    "\n",
    "print(len(missing))\n",
    "print(missing)"
   ]
  },
  {
   "cell_type": "code",
   "execution_count": 34,
   "metadata": {
    "collapsed": false
   },
   "outputs": [
    {
     "data": {
      "text/html": [
       "<div>\n",
       "<table border=\"1\" class=\"dataframe\">\n",
       "  <thead>\n",
       "    <tr style=\"text-align: right;\">\n",
       "      <th></th>\n",
       "      <th>symbol</th>\n",
       "      <th>locus_name</th>\n",
       "      <th>acc_number</th>\n",
       "      <th>swiss-prot</th>\n",
       "      <th>sgd</th>\n",
       "      <th>sequence_length</th>\n",
       "      <th>3d</th>\n",
       "      <th>chromosome</th>\n",
       "    </tr>\n",
       "  </thead>\n",
       "  <tbody>\n",
       "    <tr>\n",
       "      <th>0</th>\n",
       "      <td>AAC1</td>\n",
       "      <td>YMR056C</td>\n",
       "      <td>P04710</td>\n",
       "      <td>ADT1_YEAST</td>\n",
       "      <td>S000004660</td>\n",
       "      <td>309</td>\n",
       "      <td>13</td>\n",
       "      <td>NaN</td>\n",
       "    </tr>\n",
       "    <tr>\n",
       "      <th>1</th>\n",
       "      <td>AAC3</td>\n",
       "      <td>YBR085W</td>\n",
       "      <td>P18238</td>\n",
       "      <td>ADT3_YEAST</td>\n",
       "      <td>S000000289</td>\n",
       "      <td>307</td>\n",
       "      <td>(3)</td>\n",
       "      <td>2</td>\n",
       "    </tr>\n",
       "    <tr>\n",
       "      <th>2</th>\n",
       "      <td>AAD10</td>\n",
       "      <td>YJR155W</td>\n",
       "      <td>P47182</td>\n",
       "      <td>AAD10_YEAST</td>\n",
       "      <td>S000003916</td>\n",
       "      <td>288</td>\n",
       "      <td>10</td>\n",
       "      <td>NaN</td>\n",
       "    </tr>\n",
       "    <tr>\n",
       "      <th>3</th>\n",
       "      <td>AAD14</td>\n",
       "      <td>YNL331C</td>\n",
       "      <td>P42884</td>\n",
       "      <td>AAD14_YEAST</td>\n",
       "      <td>S000005275</td>\n",
       "      <td>376</td>\n",
       "      <td>14</td>\n",
       "      <td>NaN</td>\n",
       "    </tr>\n",
       "    <tr>\n",
       "      <th>4</th>\n",
       "      <td>AAD15</td>\n",
       "      <td>YOL165C</td>\n",
       "      <td>Q08361</td>\n",
       "      <td>AAD15_YEAST</td>\n",
       "      <td>S000005525</td>\n",
       "      <td>143</td>\n",
       "      <td>15</td>\n",
       "      <td>NaN</td>\n",
       "    </tr>\n",
       "  </tbody>\n",
       "</table>\n",
       "</div>"
      ],
      "text/plain": [
       "  symbol locus_name acc_number   swiss-prot         sgd sequence_length   3d  \\\n",
       "0   AAC1    YMR056C     P04710   ADT1_YEAST  S000004660             309   13   \n",
       "1   AAC3    YBR085W     P18238   ADT3_YEAST  S000000289             307  (3)   \n",
       "2  AAD10    YJR155W     P47182  AAD10_YEAST  S000003916             288   10   \n",
       "3  AAD14    YNL331C     P42884  AAD14_YEAST  S000005275             376   14   \n",
       "4  AAD15    YOL165C     Q08361  AAD15_YEAST  S000005525             143   15   \n",
       "\n",
       "  chromosome  \n",
       "0        NaN  \n",
       "1          2  \n",
       "2        NaN  \n",
       "3        NaN  \n",
       "4        NaN  "
      ]
     },
     "execution_count": 34,
     "metadata": {},
     "output_type": "execute_result"
    }
   ],
   "source": [
    "idmap = pd.read_csv('./yeast_clean4.txt', delimiter='\\t')\n",
    "idmap.head()"
   ]
  },
  {
   "cell_type": "code",
   "execution_count": 35,
   "metadata": {
    "collapsed": false
   },
   "outputs": [
    {
     "name": "stdout",
     "output_type": "stream",
     "text": [
      "0\n",
      "5877\n"
     ]
    }
   ],
   "source": [
    "sgd2orf2 = {}\n",
    "for row in idmap.itertuples():\n",
    "    sgd = row[5]\n",
    "    orf = row[2]\n",
    "    sgd2orf2[sgd] = orf\n",
    "\n",
    "for sgd in missing:\n",
    "    sgd2orf[sgd] = sgd2orf2[sgd]\n",
    "\n",
    "# Test\n",
    "missing = set()\n",
    "for sgd in uniq_genes:\n",
    "    if sgd not in sgd2orf.keys():\n",
    "        missing.add(sgd)\n",
    "\n",
    "print(len(missing))\n",
    "print(len(sgd2orf))"
   ]
  },
  {
   "cell_type": "markdown",
   "metadata": {},
   "source": [
    "## Create mapping from gene to interactions"
   ]
  },
  {
   "cell_type": "code",
   "execution_count": 36,
   "metadata": {
    "collapsed": false
   },
   "outputs": [
    {
     "data": {
      "text/plain": [
       "5877"
      ]
     },
     "execution_count": 36,
     "metadata": {},
     "output_type": "execute_result"
    }
   ],
   "source": [
    "gene_map = {}\n",
    "missing_count = 0\n",
    "\n",
    "all_orf = set(sgd2orf.values())\n",
    "len(all_orf)"
   ]
  },
  {
   "cell_type": "code",
   "execution_count": 37,
   "metadata": {
    "collapsed": false
   },
   "outputs": [],
   "source": [
    "for row in all_interactions.itertuples():\n",
    "    source = row[3]\n",
    "    target = row[4]\n",
    "    \n",
    "    data = {\n",
    "        'source': source,\n",
    "        'target': target,\n",
    "        'interaction': row[1],\n",
    "        'score': row[2]\n",
    "    }    \n",
    "    \n",
    "    if source not in all_orf or target not in all_orf:\n",
    "        missing_count += 1\n",
    "        continue\n",
    "        \n",
    "    interactions = []\n",
    "    if source in gene_map.keys():\n",
    "        interactions = gene_map[source]\n",
    "\n",
    "    interactions.append(data)\n",
    "    gene_map[source] = interactions\n",
    "\n",
    "    interactions2 = []\n",
    "    if target in gene_map.keys():\n",
    "        interactions2 = gene_map[target]\n",
    "    \n",
    "    interactions2.append(data)\n",
    "    gene_map[target] = interactions2"
   ]
  },
  {
   "cell_type": "code",
   "execution_count": 38,
   "metadata": {
    "collapsed": false
   },
   "outputs": [
    {
     "data": {
      "text/plain": [
       "5849"
      ]
     },
     "execution_count": 38,
     "metadata": {},
     "output_type": "execute_result"
    }
   ],
   "source": [
    "len(gene_map)"
   ]
  },
  {
   "cell_type": "code",
   "execution_count": 39,
   "metadata": {
    "collapsed": false
   },
   "outputs": [
    {
     "name": "stdout",
     "output_type": "stream",
     "text": [
      "{'YAR073W', 'YGR045C', 'YDL118W', 'YJR114W', 'YLR466C-B', 'YLR154W-A'}\n"
     ]
    }
   ],
   "source": [
    "clixo_genes = {}\n",
    "\n",
    "missing_name = set()\n",
    "\n",
    "for row in normalized_map:\n",
    "    sgd = row[0]\n",
    "    term = str(row[1])\n",
    "        \n",
    "    if sgd not in sgd2fullname.keys():\n",
    "        missing_name.add(sgd2orf[sgd])\n",
    "        continue\n",
    "        \n",
    "    entry = {\n",
    "        'sgdid': sgd,\n",
    "        'orf': sgd2orf[sgd],\n",
    "        'name': sgd2fullname[sgd],\n",
    "        'symbol': sgd2symbol[sgd]\n",
    "    }\n",
    "    \n",
    "    assigned_genes = []\n",
    "    if term in clixo_genes.keys():\n",
    "        assigned_genes = clixo_genes[term]['genes']\n",
    "    \n",
    "    assigned_genes.append(entry)\n",
    "    clixo_genes[term] = {\n",
    "        'genes': assigned_genes\n",
    "    }\n",
    "\n",
    "print(missing_name)"
   ]
  },
  {
   "cell_type": "code",
   "execution_count": 40,
   "metadata": {
    "collapsed": false
   },
   "outputs": [],
   "source": [
    "for key in clixo_genes.keys():\n",
    "        raw_interactions = []\n",
    "        gene_list = clixo_genes[key]['genes']\n",
    "        for gene in gene_list:\n",
    "            sgd = gene['sgdid']\n",
    "            if sgd in sgd2orf.keys():\n",
    "                orf = sgd2orf[sgd]\n",
    "                if orf in gene_map.keys():\n",
    "                    raw_interactions.append(gene_map[orf])\n",
    "        \n",
    "        clixo_genes[key]['interactions'] = raw_interactions[0]"
   ]
  },
  {
   "cell_type": "code",
   "execution_count": 41,
   "metadata": {
    "collapsed": false,
    "scrolled": false
   },
   "outputs": [],
   "source": [
    "import pprint\n",
    "pp = pprint.PrettyPrinter(indent=4)\n",
    "\n",
    "# pp.pprint(clixo_genes['10000'])"
   ]
  },
  {
   "cell_type": "markdown",
   "metadata": {},
   "source": [
    "## Insert new documents to Elasticsearch"
   ]
  },
  {
   "cell_type": "code",
   "execution_count": 64,
   "metadata": {
    "collapsed": false
   },
   "outputs": [
    {
     "data": {
      "text/plain": [
       "<Elasticsearch([{'host': 'localhost', 'port': 9200}])>"
      ]
     },
     "execution_count": 64,
     "metadata": {},
     "output_type": "execute_result"
    }
   ],
   "source": [
    "from elasticsearch import Elasticsearch\n",
    "from datetime import datetime\n",
    "from elasticsearch_dsl import DocType, Date, Integer, Keyword, Text, Object, Nested, Index, Double, Integer\n",
    "from elasticsearch_dsl.connections import connections\n",
    "from elasticsearch import Elasticsearch\n",
    "from elasticsearch import helpers\n",
    "from elasticsearch_dsl import Search\n",
    "\n",
    "from elasticsearch_dsl.query import MultiMatch, Match, Q\n",
    "\n",
    "\n",
    "# Define a default Elasticsearch client\n",
    "connections.create_connection(hosts=['localhost:9200'])"
   ]
  },
  {
   "cell_type": "code",
   "execution_count": 73,
   "metadata": {
    "collapsed": false
   },
   "outputs": [],
   "source": [
    "# Class which represents a CLIXO term\n",
    "\n",
    "class ClixoTerm(DocType):\n",
    "    termid = Text(index='not_analyzed')\n",
    "    name = Text(analyzer='standard')\n",
    "    go = Object()\n",
    "    gene_count = Integer(index='not_analyzed')\n",
    "\n",
    "    genes = Object(multi=True)\n",
    "    interactions=Object(multi=True)\n",
    "    \n",
    "    class Meta:\n",
    "        index = 'terms'\n",
    "\n",
    "def get_clixo_term(key, term):\n",
    "    \n",
    "    term_id = 'CLIXO:' + key\n",
    "\n",
    "    name = term_id\n",
    "    \n",
    "    go = {\n",
    "        'goid': 'N/A',\n",
    "        'name': 'N/A',\n",
    "        'definition': 'N/A',\n",
    "    }\n",
    "    \n",
    "    gene_count = 0\n",
    "    \n",
    "    if key in clixo2go.keys():\n",
    "        go_alignment = clixo2go[key]\n",
    "        goid = go_alignment['go']\n",
    "        \n",
    "        def_raw = obo[goid].defn\n",
    "        def_str = def_raw.split('\"')[1]\n",
    "        \n",
    "        go['goid'] = goid\n",
    "        go['score'] = go_alignment['score']\n",
    "        go['fdr'] = go_alignment['fdr']\n",
    "        gene_count = go_alignment['genes']\n",
    "        go['name'] = obo[goid].name\n",
    "        go['definition'] = def_str\n",
    "        name = obo[goid].name\n",
    "    \n",
    "    return ClixoTerm(\n",
    "        meta={'id':  term_id},\n",
    "        termid=term_id,\n",
    "        name=name,\n",
    "        go=go,\n",
    "        gene_count = gene_count,\n",
    "        \n",
    "        genes=term['genes'],\n",
    "        interactions=term['interactions']\n",
    ")"
   ]
  },
  {
   "cell_type": "code",
   "execution_count": 74,
   "metadata": {
    "collapsed": false
   },
   "outputs": [
    {
     "name": "stdout",
     "output_type": "stream",
     "text": [
      "Last: 4805\n",
      "---------------success!\n"
     ]
    }
   ],
   "source": [
    "ClixoTerm.init()\n",
    "\n",
    "es = Elasticsearch(host='localhost', port=9200)\n",
    "pool = []\n",
    "\n",
    "for id in clixo_genes.keys():    \n",
    "    d = get_clixo_term(id, clixo_genes[id])\n",
    "    \n",
    "    term = {'_index': getattr(d.meta, 'index', d._doc_type.index), '_type': d._doc_type.name,  '_id': d.termid, '_source': d.to_dict()}\n",
    "    pool.append(term)\n",
    "    if len(pool) > 5000:\n",
    "        print('Bulk add start:')\n",
    "        helpers.bulk(es, pool)\n",
    "        print('Bulk add success!')\n",
    "\n",
    "        pool = []\n",
    "\n",
    "if len(pool) > 0:\n",
    "    print('Last: ' + str(len(pool)))\n",
    "    helpers.bulk(es, pool)\n",
    "    print('---------------success!')"
   ]
  }
 ],
 "metadata": {
  "anaconda-cloud": {},
  "kernelspec": {
   "display_name": "Python [default]",
   "language": "python",
   "name": "python3"
  },
  "language_info": {
   "codemirror_mode": {
    "name": "ipython",
    "version": 3
   },
   "file_extension": ".py",
   "mimetype": "text/x-python",
   "name": "python",
   "nbconvert_exporter": "python",
   "pygments_lexer": "ipython3",
   "version": "3.5.2"
  }
 },
 "nbformat": 4,
 "nbformat_minor": 1
}
