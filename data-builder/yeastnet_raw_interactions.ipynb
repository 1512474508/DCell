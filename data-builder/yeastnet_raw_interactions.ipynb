{
 "cells": [
  {
   "cell_type": "code",
   "execution_count": null,
   "metadata": {
    "collapsed": false
   },
   "outputs": [],
   "source": [
    "!python --version\n",
    "!wget http://geneontology.org/gene-associations/gene_association.sgd.gz -O ./data/gene_association.sgd.gz"
   ]
  },
  {
   "cell_type": "markdown",
   "metadata": {},
   "source": [
    "# From YeastNet to CLIXO term documents\n",
    "\n",
    "## What's this?\n",
    "\n",
    "This notebook is for building Elasticsearch index for CLIXO ontology."
   ]
  },
  {
   "cell_type": "code",
   "execution_count": 2,
   "metadata": {
    "collapsed": false
   },
   "outputs": [
    {
     "data": {
      "text/plain": [
       "['all.txt',\n",
       " 'INT.CC.YeastNet.v3.4345gene.82319link.txt',\n",
       " 'INT.CX.YeastNet.v3.5730gene.242504link.txt',\n",
       " 'INT.DC.YeastNet.v3.3679gene.29880link.txt',\n",
       " 'INT.GN.YeastNet.v3.1863gene.29475link.txt',\n",
       " 'INT.GT.YeastNet.v3.4365gene.149498link.txt',\n",
       " 'INT.HT.YeastNet.v3.5487gene.141347link.txt',\n",
       " 'INT.LC.YeastNet.v3.5293gene.54421link.txt',\n",
       " 'INT.PG.YeastNet.v3.2463gene.54496link.txt',\n",
       " 'INT.TS.YeastNet.v3.1101gene.3510link.txt',\n",
       " 'preds_yeastnet_no_gi_0.04_0.5.txt.propagate.mapping']"
      ]
     },
     "execution_count": 2,
     "metadata": {},
     "output_type": "execute_result"
    }
   ],
   "source": [
    "import pandas as pd\n",
    "from os import listdir\n",
    "from os.path import isfile, join\n",
    "import numpy as np\n",
    "\n",
    "# This directory should contains all of the YeastNet interaction files\n",
    "data_path = './data/raw-interactions'\n",
    "files = [f for f in listdir(data_path) if isfile(join(data_path, f))]\n",
    "files"
   ]
  },
  {
   "cell_type": "markdown",
   "metadata": {},
   "source": [
    "## Create single interaction DataFrame\n",
    "\n",
    "From all interaction fiules, make a table with all interactions"
   ]
  },
  {
   "cell_type": "code",
   "execution_count": 5,
   "metadata": {
    "collapsed": false
   },
   "outputs": [
    {
     "name": "stdout",
     "output_type": "stream",
     "text": [
      "(787450, 4)\n"
     ]
    },
    {
     "data": {
      "text/html": [
       "<div>\n",
       "<table border=\"1\" class=\"dataframe\">\n",
       "  <thead>\n",
       "    <tr style=\"text-align: right;\">\n",
       "      <th></th>\n",
       "      <th>interaction</th>\n",
       "      <th>score</th>\n",
       "      <th>source</th>\n",
       "      <th>target</th>\n",
       "    </tr>\n",
       "  </thead>\n",
       "  <tbody>\n",
       "    <tr>\n",
       "      <th>0</th>\n",
       "      <td>CC</td>\n",
       "      <td>4.0971</td>\n",
       "      <td>YBL075C</td>\n",
       "      <td>YBR169C</td>\n",
       "    </tr>\n",
       "    <tr>\n",
       "      <th>1</th>\n",
       "      <td>CC</td>\n",
       "      <td>4.0971</td>\n",
       "      <td>YBR019C</td>\n",
       "      <td>YBR020W</td>\n",
       "    </tr>\n",
       "    <tr>\n",
       "      <th>2</th>\n",
       "      <td>CC</td>\n",
       "      <td>4.0971</td>\n",
       "      <td>YBR160W</td>\n",
       "      <td>YDL102W</td>\n",
       "    </tr>\n",
       "    <tr>\n",
       "      <th>3</th>\n",
       "      <td>CC</td>\n",
       "      <td>4.0971</td>\n",
       "      <td>YBR169C</td>\n",
       "      <td>YPL240C</td>\n",
       "    </tr>\n",
       "    <tr>\n",
       "      <th>4</th>\n",
       "      <td>CC</td>\n",
       "      <td>4.0971</td>\n",
       "      <td>YCR096C</td>\n",
       "      <td>YCR097W</td>\n",
       "    </tr>\n",
       "    <tr>\n",
       "      <th>5</th>\n",
       "      <td>CC</td>\n",
       "      <td>4.0971</td>\n",
       "      <td>YDL102W</td>\n",
       "      <td>YLR310C</td>\n",
       "    </tr>\n",
       "    <tr>\n",
       "      <th>6</th>\n",
       "      <td>CC</td>\n",
       "      <td>4.0971</td>\n",
       "      <td>YDR127W</td>\n",
       "      <td>YNR016C</td>\n",
       "    </tr>\n",
       "    <tr>\n",
       "      <th>7</th>\n",
       "      <td>CC</td>\n",
       "      <td>4.0971</td>\n",
       "      <td>YER095W</td>\n",
       "      <td>YLR032W</td>\n",
       "    </tr>\n",
       "    <tr>\n",
       "      <th>8</th>\n",
       "      <td>CC</td>\n",
       "      <td>4.0971</td>\n",
       "      <td>YFL009W</td>\n",
       "      <td>YLR229C</td>\n",
       "    </tr>\n",
       "    <tr>\n",
       "      <th>9</th>\n",
       "      <td>CC</td>\n",
       "      <td>4.0971</td>\n",
       "      <td>YJR048W</td>\n",
       "      <td>YOR362C</td>\n",
       "    </tr>\n",
       "  </tbody>\n",
       "</table>\n",
       "</div>"
      ],
      "text/plain": [
       "  interaction   score   source   target\n",
       "0          CC  4.0971  YBL075C  YBR169C\n",
       "1          CC  4.0971  YBR019C  YBR020W\n",
       "2          CC  4.0971  YBR160W  YDL102W\n",
       "3          CC  4.0971  YBR169C  YPL240C\n",
       "4          CC  4.0971  YCR096C  YCR097W\n",
       "5          CC  4.0971  YDL102W  YLR310C\n",
       "6          CC  4.0971  YDR127W  YNR016C\n",
       "7          CC  4.0971  YER095W  YLR032W\n",
       "8          CC  4.0971  YFL009W  YLR229C\n",
       "9          CC  4.0971  YJR048W  YOR362C"
      ]
     },
     "execution_count": 5,
     "metadata": {},
     "output_type": "execute_result"
    }
   ],
   "source": [
    "columns = ['source', 'target', 'score']\n",
    "all_interactions = pd.DataFrame(columns=columns)\n",
    "\n",
    "for f in files:\n",
    "    if not f.startswith('INT'):\n",
    "        continue\n",
    "    \n",
    "    int_type = f.split('.')[1]\n",
    "    df = pd.read_csv(data_path+'/'+ f, delimiter='\\t', names=columns)\n",
    "    df['interaction'] = int_type\n",
    "    all_interactions = pd.concat([all_interactions, df])\n",
    "\n",
    "print(all_interactions.shape)\n",
    "all_interactions.head(10)"
   ]
  },
  {
   "cell_type": "code",
   "execution_count": 6,
   "metadata": {
    "collapsed": false
   },
   "outputs": [],
   "source": [
    "all_interactions.to_csv('./data/raw-interactions/all.txt', sep='\\t')"
   ]
  },
  {
   "cell_type": "markdown",
   "metadata": {},
   "source": [
    "## Create list of all genes associated with CLIXO terms"
   ]
  },
  {
   "cell_type": "code",
   "execution_count": 7,
   "metadata": {
    "collapsed": false
   },
   "outputs": [
    {
     "data": {
      "text/html": [
       "<div>\n",
       "<table border=\"1\" class=\"dataframe\">\n",
       "  <thead>\n",
       "    <tr style=\"text-align: right;\">\n",
       "      <th></th>\n",
       "      <th>gene</th>\n",
       "      <th>term</th>\n",
       "    </tr>\n",
       "  </thead>\n",
       "  <tbody>\n",
       "    <tr>\n",
       "      <th>0</th>\n",
       "      <td>YGR220C</td>\n",
       "      <td>10000</td>\n",
       "    </tr>\n",
       "    <tr>\n",
       "      <th>1</th>\n",
       "      <td>YPR100W</td>\n",
       "      <td>10000</td>\n",
       "    </tr>\n",
       "    <tr>\n",
       "      <th>2</th>\n",
       "      <td>YNR022C</td>\n",
       "      <td>10000</td>\n",
       "    </tr>\n",
       "    <tr>\n",
       "      <th>3</th>\n",
       "      <td>YNL252C</td>\n",
       "      <td>10000</td>\n",
       "    </tr>\n",
       "    <tr>\n",
       "      <th>4</th>\n",
       "      <td>YCR046C</td>\n",
       "      <td>10000</td>\n",
       "    </tr>\n",
       "  </tbody>\n",
       "</table>\n",
       "</div>"
      ],
      "text/plain": [
       "      gene   term\n",
       "0  YGR220C  10000\n",
       "1  YPR100W  10000\n",
       "2  YNR022C  10000\n",
       "3  YNL252C  10000\n",
       "4  YCR046C  10000"
      ]
     },
     "execution_count": 7,
     "metadata": {},
     "output_type": "execute_result"
    }
   ],
   "source": [
    "# CLIXO term to gene association\n",
    "mapping = pd.read_csv('./data/raw-interactions/preds_yeastnet_no_gi_0.04_0.5.txt.propagate.mapping', delimiter='\\t', names=['gene', 'term'])\n",
    "mapping.head()"
   ]
  },
  {
   "cell_type": "code",
   "execution_count": 26,
   "metadata": {
    "collapsed": false
   },
   "outputs": [
    {
     "name": "stdout",
     "output_type": "stream",
     "text": [
      "(5886,)\n"
     ]
    }
   ],
   "source": [
    "# All ORF names in CLIXO\n",
    "mixed_ids = mapping['gene'].unique()\n",
    "print(mixed_ids.shape)"
   ]
  },
  {
   "cell_type": "markdown",
   "metadata": {},
   "source": [
    "### Standardize the gene IDs to SGD"
   ]
  },
  {
   "cell_type": "code",
   "execution_count": 9,
   "metadata": {
    "collapsed": false
   },
   "outputs": [
    {
     "data": {
      "text/html": [
       "<div>\n",
       "<table border=\"1\" class=\"dataframe\">\n",
       "  <thead>\n",
       "    <tr style=\"text-align: right;\">\n",
       "      <th></th>\n",
       "      <th>DB</th>\n",
       "      <th>DB_Object_ID</th>\n",
       "      <th>DB_Object_Symbol</th>\n",
       "      <th>Qualifier</th>\n",
       "      <th>GO_ID</th>\n",
       "      <th>DB:Reference</th>\n",
       "      <th>Evidence</th>\n",
       "      <th>With_or_From</th>\n",
       "      <th>Aspect</th>\n",
       "      <th>DB_Object_Name</th>\n",
       "      <th>DB_Object_Synonym</th>\n",
       "      <th>DB_Object_Type</th>\n",
       "      <th>taxon</th>\n",
       "      <th>Date</th>\n",
       "      <th>Assigned_by</th>\n",
       "      <th>Annotation_Extension</th>\n",
       "      <th>Gene_Product_Form_ID</th>\n",
       "    </tr>\n",
       "  </thead>\n",
       "  <tbody>\n",
       "    <tr>\n",
       "      <th>111269</th>\n",
       "      <td>SGD</td>\n",
       "      <td>S000006732</td>\n",
       "      <td>tX(XXX)L</td>\n",
       "      <td>NaN</td>\n",
       "      <td>GO:0030533</td>\n",
       "      <td>SGD_REF:S000181097|PMID:9023104</td>\n",
       "      <td>ISM</td>\n",
       "      <td>NaN</td>\n",
       "      <td>F</td>\n",
       "      <td>tRNA of undetermined specificity, predicted by...</td>\n",
       "      <td>tX(XXX)L|tS(GCU)L</td>\n",
       "      <td>gene</td>\n",
       "      <td>taxon:559292</td>\n",
       "      <td>20030507</td>\n",
       "      <td>SGD</td>\n",
       "      <td>NaN</td>\n",
       "      <td>NaN</td>\n",
       "    </tr>\n",
       "    <tr>\n",
       "      <th>111270</th>\n",
       "      <td>SGD</td>\n",
       "      <td>S000006732</td>\n",
       "      <td>tX(XXX)L</td>\n",
       "      <td>NaN</td>\n",
       "      <td>GO:0005829</td>\n",
       "      <td>SGD_REF:S000181097|PMID:9023104</td>\n",
       "      <td>IC</td>\n",
       "      <td>GO:0030533</td>\n",
       "      <td>C</td>\n",
       "      <td>tRNA of undetermined specificity, predicted by...</td>\n",
       "      <td>tX(XXX)L|tS(GCU)L</td>\n",
       "      <td>gene</td>\n",
       "      <td>taxon:559292</td>\n",
       "      <td>20030507</td>\n",
       "      <td>SGD</td>\n",
       "      <td>NaN</td>\n",
       "      <td>NaN</td>\n",
       "    </tr>\n",
       "    <tr>\n",
       "      <th>111271</th>\n",
       "      <td>SGD</td>\n",
       "      <td>S000007338</td>\n",
       "      <td>tY(GUA)Q</td>\n",
       "      <td>NaN</td>\n",
       "      <td>GO:0070125</td>\n",
       "      <td>SGD_REF:S000181097|PMID:9023104</td>\n",
       "      <td>IC</td>\n",
       "      <td>GO:0030533</td>\n",
       "      <td>P</td>\n",
       "      <td>Mitochondrial tyrosine tRNA (tRNA-Tyr)</td>\n",
       "      <td>tY(GUA)Q</td>\n",
       "      <td>gene</td>\n",
       "      <td>taxon:559292</td>\n",
       "      <td>20150730</td>\n",
       "      <td>SGD</td>\n",
       "      <td>NaN</td>\n",
       "      <td>NaN</td>\n",
       "    </tr>\n",
       "    <tr>\n",
       "      <th>111272</th>\n",
       "      <td>SGD</td>\n",
       "      <td>S000007338</td>\n",
       "      <td>tY(GUA)Q</td>\n",
       "      <td>NaN</td>\n",
       "      <td>GO:0005739</td>\n",
       "      <td>SGD_REF:S000181097|PMID:9023104</td>\n",
       "      <td>IC</td>\n",
       "      <td>GO:0030533</td>\n",
       "      <td>C</td>\n",
       "      <td>Mitochondrial tyrosine tRNA (tRNA-Tyr)</td>\n",
       "      <td>tY(GUA)Q</td>\n",
       "      <td>gene</td>\n",
       "      <td>taxon:559292</td>\n",
       "      <td>20030507</td>\n",
       "      <td>SGD</td>\n",
       "      <td>NaN</td>\n",
       "      <td>NaN</td>\n",
       "    </tr>\n",
       "    <tr>\n",
       "      <th>111273</th>\n",
       "      <td>SGD</td>\n",
       "      <td>S000007338</td>\n",
       "      <td>tY(GUA)Q</td>\n",
       "      <td>NaN</td>\n",
       "      <td>GO:0030533</td>\n",
       "      <td>SGD_REF:S000181097|PMID:9023104</td>\n",
       "      <td>ISM</td>\n",
       "      <td>NaN</td>\n",
       "      <td>F</td>\n",
       "      <td>Mitochondrial tyrosine tRNA (tRNA-Tyr)</td>\n",
       "      <td>tY(GUA)Q</td>\n",
       "      <td>gene</td>\n",
       "      <td>taxon:559292</td>\n",
       "      <td>20060721</td>\n",
       "      <td>SGD</td>\n",
       "      <td>NaN</td>\n",
       "      <td>NaN</td>\n",
       "    </tr>\n",
       "  </tbody>\n",
       "</table>\n",
       "</div>"
      ],
      "text/plain": [
       "         DB DB_Object_ID DB_Object_Symbol Qualifier       GO_ID  \\\n",
       "111269  SGD   S000006732         tX(XXX)L       NaN  GO:0030533   \n",
       "111270  SGD   S000006732         tX(XXX)L       NaN  GO:0005829   \n",
       "111271  SGD   S000007338         tY(GUA)Q       NaN  GO:0070125   \n",
       "111272  SGD   S000007338         tY(GUA)Q       NaN  GO:0005739   \n",
       "111273  SGD   S000007338         tY(GUA)Q       NaN  GO:0030533   \n",
       "\n",
       "                           DB:Reference Evidence With_or_From Aspect  \\\n",
       "111269  SGD_REF:S000181097|PMID:9023104      ISM          NaN      F   \n",
       "111270  SGD_REF:S000181097|PMID:9023104       IC   GO:0030533      C   \n",
       "111271  SGD_REF:S000181097|PMID:9023104       IC   GO:0030533      P   \n",
       "111272  SGD_REF:S000181097|PMID:9023104       IC   GO:0030533      C   \n",
       "111273  SGD_REF:S000181097|PMID:9023104      ISM          NaN      F   \n",
       "\n",
       "                                           DB_Object_Name  DB_Object_Synonym  \\\n",
       "111269  tRNA of undetermined specificity, predicted by...  tX(XXX)L|tS(GCU)L   \n",
       "111270  tRNA of undetermined specificity, predicted by...  tX(XXX)L|tS(GCU)L   \n",
       "111271             Mitochondrial tyrosine tRNA (tRNA-Tyr)           tY(GUA)Q   \n",
       "111272             Mitochondrial tyrosine tRNA (tRNA-Tyr)           tY(GUA)Q   \n",
       "111273             Mitochondrial tyrosine tRNA (tRNA-Tyr)           tY(GUA)Q   \n",
       "\n",
       "       DB_Object_Type         taxon      Date Assigned_by  \\\n",
       "111269           gene  taxon:559292  20030507         SGD   \n",
       "111270           gene  taxon:559292  20030507         SGD   \n",
       "111271           gene  taxon:559292  20150730         SGD   \n",
       "111272           gene  taxon:559292  20030507         SGD   \n",
       "111273           gene  taxon:559292  20060721         SGD   \n",
       "\n",
       "       Annotation_Extension  Gene_Product_Form_ID  \n",
       "111269                  NaN                   NaN  \n",
       "111270                  NaN                   NaN  \n",
       "111271                  NaN                   NaN  \n",
       "111272                  NaN                   NaN  \n",
       "111273                  NaN                   NaN  "
      ]
     },
     "execution_count": 9,
     "metadata": {},
     "output_type": "execute_result"
    }
   ],
   "source": [
    "# Import gene association file\n",
    "yeastAnnotationUrl = './data/gene_association.sgd.gz'\n",
    "cols = pd.read_csv('./annotation_columns.txt', names=['col_names'])\n",
    "col_names = cols['col_names'].tolist()\n",
    "yeastAnnotation = pd.read_csv(yeastAnnotationUrl, delimiter='\\t', comment='!', compression='gzip', names=col_names)\n",
    "yeastAnnotation.tail()"
   ]
  },
  {
   "cell_type": "code",
   "execution_count": 10,
   "metadata": {
    "collapsed": false
   },
   "outputs": [],
   "source": [
    "# Mapping object: from any type of ID to SGD ID\n",
    "to_sgd = {}\n",
    "\n",
    "# Annotation for genes\n",
    "sgd2fullname = {}\n",
    "sgd2symbol = {}\n",
    "\n",
    "for row in yeastAnnotation.itertuples():\n",
    "    sgd = row[2]\n",
    "    orf = row[3]\n",
    "    full_name = str(row[10]).replace('\\r\\n', '')\n",
    "    syn = str(row[11])\n",
    "    syns = syn.split('|')\n",
    "    to_sgd[orf] = sgd\n",
    "    for synonym in syns:\n",
    "        to_sgd[synonym] = sgd\n",
    "    sgd2fullname[sgd] = full_name\n",
    "    sgd2symbol[sgd] = orf"
   ]
  },
  {
   "cell_type": "code",
   "execution_count": 11,
   "metadata": {
    "collapsed": false
   },
   "outputs": [],
   "source": [
    "normalized_map = []\n",
    "\n",
    "for row in mapping.itertuples():\n",
    "    gene = row[1]\n",
    "    term = str(row[2])\n",
    "    \n",
    "    # Convert to SGD\n",
    "    sgd = gene\n",
    "    if gene in to_sgd.keys():\n",
    "        sgd = to_sgd[gene]\n",
    "    entry = (sgd, term)\n",
    "    normalized_map.append(entry)"
   ]
  },
  {
   "cell_type": "code",
   "execution_count": 34,
   "metadata": {
    "collapsed": false
   },
   "outputs": [
    {
     "name": "stdout",
     "output_type": "stream",
     "text": [
      "All maped!\n"
     ]
    },
    {
     "data": {
      "text/plain": [
       "5872"
      ]
     },
     "execution_count": 34,
     "metadata": {},
     "output_type": "execute_result"
    }
   ],
   "source": [
    "# All ORF to SGD\n",
    "all_sgd = list(map(lambda x: to_sgd[x] if x in to_sgd.keys() else x, mixed_ids))\n",
    "if len(all_sgd) == len(mixed_ids):\n",
    "    print('All maped!')\n",
    "    \n",
    "# This contains all gene IDs (SGD ID)\n",
    "uniq_genes = set(all_sgd)\n",
    "len(uniq_genes)"
   ]
  },
  {
   "cell_type": "code",
   "execution_count": 36,
   "metadata": {
    "collapsed": false
   },
   "outputs": [],
   "source": [
    "df_genes = pd.DataFrame(list(uniq_genes))\n",
    "\n",
    "# Save as text file and use it in UNIPROT ID Mapper\n",
    "df_genes.to_csv('./data/all_sgd.txt', sep='\\t', index=False, header=False)"
   ]
  },
  {
   "cell_type": "code",
   "execution_count": 40,
   "metadata": {
    "collapsed": false
   },
   "outputs": [
    {
     "name": "stdout",
     "output_type": "stream",
     "text": [
      "(5874, 16)\n"
     ]
    },
    {
     "data": {
      "text/html": [
       "<div>\n",
       "<table border=\"1\" class=\"dataframe\">\n",
       "  <thead>\n",
       "    <tr style=\"text-align: right;\">\n",
       "      <th></th>\n",
       "      <th>Entry</th>\n",
       "      <th>yourlist:M20170106A7434721E10EE6586998A056CCD0537E5F3872K</th>\n",
       "      <th>Entry name</th>\n",
       "      <th>Gene names  (ORF )</th>\n",
       "      <th>Status</th>\n",
       "      <th>Protein names</th>\n",
       "      <th>Gene names</th>\n",
       "      <th>Organism</th>\n",
       "      <th>Length</th>\n",
       "      <th>Pathway</th>\n",
       "      <th>Function [CC]</th>\n",
       "      <th>Gene names  (synonym )</th>\n",
       "      <th>Gene names  (ordered locus )</th>\n",
       "      <th>Gene names  (primary )</th>\n",
       "      <th>Keywords</th>\n",
       "      <th>Cross-reference (SGD)</th>\n",
       "    </tr>\n",
       "  </thead>\n",
       "  <tbody>\n",
       "    <tr>\n",
       "      <th>0</th>\n",
       "      <td>P34164</td>\n",
       "      <td>S000003176</td>\n",
       "      <td>SIP2_YEAST</td>\n",
       "      <td>G1155</td>\n",
       "      <td>reviewed</td>\n",
       "      <td>SNF1 protein kinase subunit beta-2 (Protein SP...</td>\n",
       "      <td>SIP2 SPM2 YGL208W G1155</td>\n",
       "      <td>Saccharomyces cerevisiae (strain ATCC 204508 /...</td>\n",
       "      <td>415</td>\n",
       "      <td>NaN</td>\n",
       "      <td>FUNCTION: Beta subunit of the SNF1 kinase comp...</td>\n",
       "      <td>SPM2</td>\n",
       "      <td>YGL208W</td>\n",
       "      <td>SIP2</td>\n",
       "      <td>3D-structure; Cell membrane; Complete proteome...</td>\n",
       "      <td>S000003176;</td>\n",
       "    </tr>\n",
       "    <tr>\n",
       "      <th>1</th>\n",
       "      <td>P40356</td>\n",
       "      <td>S000002993</td>\n",
       "      <td>MED3_YEAST</td>\n",
       "      <td>NaN</td>\n",
       "      <td>reviewed</td>\n",
       "      <td>Mediator of RNA polymerase II transcription su...</td>\n",
       "      <td>PGD1 HRS1 MED3 YGL025C</td>\n",
       "      <td>Saccharomyces cerevisiae (strain ATCC 204508 /...</td>\n",
       "      <td>397</td>\n",
       "      <td>NaN</td>\n",
       "      <td>FUNCTION: Component of the Mediator complex, a...</td>\n",
       "      <td>HRS1 MED3</td>\n",
       "      <td>YGL025C</td>\n",
       "      <td>PGD1</td>\n",
       "      <td>Acetylation; Activator; Complete proteome; Nuc...</td>\n",
       "      <td>S000002993;</td>\n",
       "    </tr>\n",
       "    <tr>\n",
       "      <th>2</th>\n",
       "      <td>Q02753</td>\n",
       "      <td>S000000395</td>\n",
       "      <td>RL21A_YEAST</td>\n",
       "      <td>YBR1401</td>\n",
       "      <td>reviewed</td>\n",
       "      <td>60S ribosomal protein L21-A</td>\n",
       "      <td>RPL21A URP1 YBR191W YBR1401</td>\n",
       "      <td>Saccharomyces cerevisiae (strain ATCC 204508 /...</td>\n",
       "      <td>160</td>\n",
       "      <td>NaN</td>\n",
       "      <td>NaN</td>\n",
       "      <td>URP1</td>\n",
       "      <td>YBR191W</td>\n",
       "      <td>RPL21A</td>\n",
       "      <td>3D-structure; Complete proteome; Cytoplasm; Is...</td>\n",
       "      <td>S000000395;</td>\n",
       "    </tr>\n",
       "    <tr>\n",
       "      <th>3</th>\n",
       "      <td>P18494</td>\n",
       "      <td>S000000842</td>\n",
       "      <td>GLN3_YEAST</td>\n",
       "      <td>NaN</td>\n",
       "      <td>reviewed</td>\n",
       "      <td>Nitrogen regulatory protein GLN3</td>\n",
       "      <td>GLN3 YER040W</td>\n",
       "      <td>Saccharomyces cerevisiae (strain ATCC 204508 /...</td>\n",
       "      <td>730</td>\n",
       "      <td>NaN</td>\n",
       "      <td>FUNCTION: Positive nitrogen regulatory protein...</td>\n",
       "      <td>NaN</td>\n",
       "      <td>YER040W</td>\n",
       "      <td>GLN3</td>\n",
       "      <td>Activator; Complete proteome; DNA-binding; Met...</td>\n",
       "      <td>S000000842;</td>\n",
       "    </tr>\n",
       "    <tr>\n",
       "      <th>4</th>\n",
       "      <td>P53550</td>\n",
       "      <td>S000005062</td>\n",
       "      <td>DCP2_YEAST</td>\n",
       "      <td>N1917</td>\n",
       "      <td>reviewed</td>\n",
       "      <td>m7GpppN-mRNA hydrolase (EC 3.6.1.62) (Protein ...</td>\n",
       "      <td>DCP2 PSU1 YNL118C N1917</td>\n",
       "      <td>Saccharomyces cerevisiae (strain ATCC 204508 /...</td>\n",
       "      <td>970</td>\n",
       "      <td>NaN</td>\n",
       "      <td>FUNCTION: Catalytic component of the decapping...</td>\n",
       "      <td>PSU1</td>\n",
       "      <td>YNL118C</td>\n",
       "      <td>DCP2</td>\n",
       "      <td>3D-structure; Complete proteome; Cytoplasm; Hy...</td>\n",
       "      <td>S000005062;</td>\n",
       "    </tr>\n",
       "  </tbody>\n",
       "</table>\n",
       "</div>"
      ],
      "text/plain": [
       "    Entry yourlist:M20170106A7434721E10EE6586998A056CCD0537E5F3872K  \\\n",
       "0  P34164                                         S000003176          \n",
       "1  P40356                                         S000002993          \n",
       "2  Q02753                                         S000000395          \n",
       "3  P18494                                         S000000842          \n",
       "4  P53550                                         S000005062          \n",
       "\n",
       "    Entry name Gene names  (ORF )    Status  \\\n",
       "0   SIP2_YEAST              G1155  reviewed   \n",
       "1   MED3_YEAST                NaN  reviewed   \n",
       "2  RL21A_YEAST            YBR1401  reviewed   \n",
       "3   GLN3_YEAST                NaN  reviewed   \n",
       "4   DCP2_YEAST              N1917  reviewed   \n",
       "\n",
       "                                       Protein names  \\\n",
       "0  SNF1 protein kinase subunit beta-2 (Protein SP...   \n",
       "1  Mediator of RNA polymerase II transcription su...   \n",
       "2                        60S ribosomal protein L21-A   \n",
       "3                   Nitrogen regulatory protein GLN3   \n",
       "4  m7GpppN-mRNA hydrolase (EC 3.6.1.62) (Protein ...   \n",
       "\n",
       "                    Gene names  \\\n",
       "0      SIP2 SPM2 YGL208W G1155   \n",
       "1       PGD1 HRS1 MED3 YGL025C   \n",
       "2  RPL21A URP1 YBR191W YBR1401   \n",
       "3                 GLN3 YER040W   \n",
       "4      DCP2 PSU1 YNL118C N1917   \n",
       "\n",
       "                                            Organism  Length Pathway  \\\n",
       "0  Saccharomyces cerevisiae (strain ATCC 204508 /...     415     NaN   \n",
       "1  Saccharomyces cerevisiae (strain ATCC 204508 /...     397     NaN   \n",
       "2  Saccharomyces cerevisiae (strain ATCC 204508 /...     160     NaN   \n",
       "3  Saccharomyces cerevisiae (strain ATCC 204508 /...     730     NaN   \n",
       "4  Saccharomyces cerevisiae (strain ATCC 204508 /...     970     NaN   \n",
       "\n",
       "                                       Function [CC] Gene names  (synonym )  \\\n",
       "0  FUNCTION: Beta subunit of the SNF1 kinase comp...                   SPM2   \n",
       "1  FUNCTION: Component of the Mediator complex, a...              HRS1 MED3   \n",
       "2                                                NaN                   URP1   \n",
       "3  FUNCTION: Positive nitrogen regulatory protein...                    NaN   \n",
       "4  FUNCTION: Catalytic component of the decapping...                   PSU1   \n",
       "\n",
       "  Gene names  (ordered locus ) Gene names  (primary )  \\\n",
       "0                      YGL208W                   SIP2   \n",
       "1                      YGL025C                   PGD1   \n",
       "2                      YBR191W                 RPL21A   \n",
       "3                      YER040W                   GLN3   \n",
       "4                      YNL118C                   DCP2   \n",
       "\n",
       "                                            Keywords Cross-reference (SGD)  \n",
       "0  3D-structure; Cell membrane; Complete proteome...           S000003176;  \n",
       "1  Acetylation; Activator; Complete proteome; Nuc...           S000002993;  \n",
       "2  3D-structure; Complete proteome; Cytoplasm; Is...           S000000395;  \n",
       "3  Activator; Complete proteome; DNA-binding; Met...           S000000842;  \n",
       "4  3D-structure; Complete proteome; Cytoplasm; Hy...           S000005062;  "
      ]
     },
     "execution_count": 40,
     "metadata": {},
     "output_type": "execute_result"
    }
   ],
   "source": [
    "uniprot = pd.read_csv('./data/uniprot-idmapping.txt', delimiter='\\t')\n",
    "print(uniprot.shape)\n",
    "uniprot.head()"
   ]
  },
  {
   "cell_type": "code",
   "execution_count": 52,
   "metadata": {
    "collapsed": false
   },
   "outputs": [
    {
     "name": "stdout",
     "output_type": "stream",
     "text": [
      "10\n",
      "{'S000006284', 'S000001767', 'S000002793', 'S000000214', 'S000004975', 'S000000213', 'S000004976', 'S000005659', 'S000003674', 'S000000322'}\n"
     ]
    }
   ],
   "source": [
    "sgd2orf = {}\n",
    "for row in uniprot.itertuples():\n",
    "    sgd = row[2]\n",
    "    orf = row[13]\n",
    "    sgd2orf[sgd] = orf\n",
    "\n",
    "# Test\n",
    "missing = set()\n",
    "for sgd in uniq_genes:\n",
    "    if sgd not in sgd2orf.keys():\n",
    "        missing.add(sgd)\n",
    "\n",
    "print(len(missing))\n",
    "print(missing)"
   ]
  },
  {
   "cell_type": "code",
   "execution_count": 48,
   "metadata": {
    "collapsed": false
   },
   "outputs": [
    {
     "data": {
      "text/html": [
       "<div>\n",
       "<table border=\"1\" class=\"dataframe\">\n",
       "  <thead>\n",
       "    <tr style=\"text-align: right;\">\n",
       "      <th></th>\n",
       "      <th>symbol</th>\n",
       "      <th>locus_name</th>\n",
       "      <th>acc_number</th>\n",
       "      <th>swiss-prot</th>\n",
       "      <th>sgd</th>\n",
       "      <th>sequence_length</th>\n",
       "      <th>3d</th>\n",
       "      <th>chromosome</th>\n",
       "    </tr>\n",
       "  </thead>\n",
       "  <tbody>\n",
       "    <tr>\n",
       "      <th>0</th>\n",
       "      <td>AAC1</td>\n",
       "      <td>YMR056C</td>\n",
       "      <td>P04710</td>\n",
       "      <td>ADT1_YEAST</td>\n",
       "      <td>S000004660</td>\n",
       "      <td>309</td>\n",
       "      <td>13</td>\n",
       "      <td>NaN</td>\n",
       "    </tr>\n",
       "    <tr>\n",
       "      <th>1</th>\n",
       "      <td>AAC3</td>\n",
       "      <td>YBR085W</td>\n",
       "      <td>P18238</td>\n",
       "      <td>ADT3_YEAST</td>\n",
       "      <td>S000000289</td>\n",
       "      <td>307</td>\n",
       "      <td>(3)</td>\n",
       "      <td>2</td>\n",
       "    </tr>\n",
       "    <tr>\n",
       "      <th>2</th>\n",
       "      <td>AAD10</td>\n",
       "      <td>YJR155W</td>\n",
       "      <td>P47182</td>\n",
       "      <td>AAD10_YEAST</td>\n",
       "      <td>S000003916</td>\n",
       "      <td>288</td>\n",
       "      <td>10</td>\n",
       "      <td>NaN</td>\n",
       "    </tr>\n",
       "    <tr>\n",
       "      <th>3</th>\n",
       "      <td>AAD14</td>\n",
       "      <td>YNL331C</td>\n",
       "      <td>P42884</td>\n",
       "      <td>AAD14_YEAST</td>\n",
       "      <td>S000005275</td>\n",
       "      <td>376</td>\n",
       "      <td>14</td>\n",
       "      <td>NaN</td>\n",
       "    </tr>\n",
       "    <tr>\n",
       "      <th>4</th>\n",
       "      <td>AAD15</td>\n",
       "      <td>YOL165C</td>\n",
       "      <td>Q08361</td>\n",
       "      <td>AAD15_YEAST</td>\n",
       "      <td>S000005525</td>\n",
       "      <td>143</td>\n",
       "      <td>15</td>\n",
       "      <td>NaN</td>\n",
       "    </tr>\n",
       "  </tbody>\n",
       "</table>\n",
       "</div>"
      ],
      "text/plain": [
       "  symbol locus_name acc_number   swiss-prot         sgd sequence_length   3d  \\\n",
       "0   AAC1    YMR056C     P04710   ADT1_YEAST  S000004660             309   13   \n",
       "1   AAC3    YBR085W     P18238   ADT3_YEAST  S000000289             307  (3)   \n",
       "2  AAD10    YJR155W     P47182  AAD10_YEAST  S000003916             288   10   \n",
       "3  AAD14    YNL331C     P42884  AAD14_YEAST  S000005275             376   14   \n",
       "4  AAD15    YOL165C     Q08361  AAD15_YEAST  S000005525             143   15   \n",
       "\n",
       "  chromosome  \n",
       "0        NaN  \n",
       "1          2  \n",
       "2        NaN  \n",
       "3        NaN  \n",
       "4        NaN  "
      ]
     },
     "execution_count": 48,
     "metadata": {},
     "output_type": "execute_result"
    }
   ],
   "source": [
    "idmap = pd.read_csv('./yeast_clean4.txt', delimiter='\\t')\n",
    "idmap.head()"
   ]
  },
  {
   "cell_type": "code",
   "execution_count": 54,
   "metadata": {
    "collapsed": false
   },
   "outputs": [
    {
     "name": "stdout",
     "output_type": "stream",
     "text": [
      "0\n",
      "5877\n"
     ]
    }
   ],
   "source": [
    "sgd2orf2 = {}\n",
    "for row in idmap.itertuples():\n",
    "    sgd = row[5]\n",
    "    orf = row[2]\n",
    "    sgd2orf2[sgd] = orf\n",
    "\n",
    "for sgd in missing:\n",
    "    sgd2orf[sgd] = sgd2orf2[sgd]\n",
    "\n",
    "# Test\n",
    "missing = set()\n",
    "for sgd in uniq_genes:\n",
    "    if sgd not in sgd2orf.keys():\n",
    "        missing.add(sgd)\n",
    "\n",
    "print(len(missing))\n",
    "print(len(sgd2orf))"
   ]
  },
  {
   "cell_type": "markdown",
   "metadata": {},
   "source": [
    "## Create mapping from gene to interactions"
   ]
  },
  {
   "cell_type": "code",
   "execution_count": 56,
   "metadata": {
    "collapsed": false
   },
   "outputs": [
    {
     "data": {
      "text/plain": [
       "5877"
      ]
     },
     "execution_count": 56,
     "metadata": {},
     "output_type": "execute_result"
    }
   ],
   "source": [
    "gene_map = {}\n",
    "missing_count = 0\n",
    "\n",
    "all_orf = set(sgd2orf.values())\n",
    "len(all_orf)"
   ]
  },
  {
   "cell_type": "code",
   "execution_count": 57,
   "metadata": {
    "collapsed": false
   },
   "outputs": [],
   "source": [
    "for row in all_interactions.itertuples():\n",
    "    source = row[3]\n",
    "    target = row[4]\n",
    "    \n",
    "    data = {\n",
    "        'source': source,\n",
    "        'target': target,\n",
    "        'interaction': row[1],\n",
    "        'score': row[2]\n",
    "    }    \n",
    "    \n",
    "    if source not in all_orf or target not in all_orf:\n",
    "        missing_count += 1\n",
    "        continue\n",
    "        \n",
    "    interactions = []\n",
    "    if source in gene_map.keys():\n",
    "        interactions = gene_map[source]\n",
    "\n",
    "    interactions.append(data)\n",
    "    gene_map[source] = interactions\n",
    "\n",
    "    interactions2 = []\n",
    "    if target in gene_map.keys():\n",
    "        interactions2 = gene_map[target]\n",
    "    \n",
    "    interactions2.append(data)\n",
    "    gene_map[target] = interactions2"
   ]
  },
  {
   "cell_type": "code",
   "execution_count": 58,
   "metadata": {
    "collapsed": false
   },
   "outputs": [
    {
     "data": {
      "text/plain": [
       "5849"
      ]
     },
     "execution_count": 58,
     "metadata": {},
     "output_type": "execute_result"
    }
   ],
   "source": [
    "len(gene_map)"
   ]
  },
  {
   "cell_type": "code",
   "execution_count": 67,
   "metadata": {
    "collapsed": false
   },
   "outputs": [
    {
     "name": "stdout",
     "output_type": "stream",
     "text": [
      "{'YLR466C-B', 'YAR073W', 'YJR114W', 'YLR154W-A', 'YGR045C', 'YDL118W'}\n"
     ]
    }
   ],
   "source": [
    "clixo_genes = {}\n",
    "\n",
    "missing_name = set()\n",
    "\n",
    "for row in normalized_map:\n",
    "    sgd = row[0]\n",
    "    term = str(row[1])\n",
    "        \n",
    "    if sgd not in sgd2fullname.keys():\n",
    "        missing_name.add(sgd2orf[sgd])\n",
    "        continue\n",
    "        \n",
    "    entry = {\n",
    "        'sgdid': sgd,\n",
    "        'orf': sgd2orf[sgd],\n",
    "        'name': sgd2fullname[sgd],\n",
    "        'symbol': sgd2symbol[sgd]\n",
    "    }\n",
    "    \n",
    "    assigned_genes = []\n",
    "    if term in clixo_genes.keys():\n",
    "        assigned_genes = clixo_genes[term]['genes']\n",
    "    \n",
    "    assigned_genes.append(entry)\n",
    "    clixo_genes[term] = {\n",
    "        'genes': assigned_genes\n",
    "    }\n",
    "\n",
    "print(missing_name)"
   ]
  },
  {
   "cell_type": "code",
   "execution_count": 74,
   "metadata": {
    "collapsed": false
   },
   "outputs": [],
   "source": [
    "for key in clixo_genes.keys():\n",
    "        raw_interactions = []\n",
    "        gene_list = clixo_genes[key]['genes']\n",
    "        for gene in gene_list:\n",
    "            sgd = gene['sgdid']\n",
    "            if sgd in sgd2orf.keys():\n",
    "                orf = sgd2orf[sgd]\n",
    "                if orf in gene_map.keys():\n",
    "                    raw_interactions.append(gene_map[orf])\n",
    "        \n",
    "        clixo_genes[key]['interactions'] = raw_interactions[0]"
   ]
  },
  {
   "cell_type": "code",
   "execution_count": 76,
   "metadata": {
    "collapsed": false,
    "scrolled": false
   },
   "outputs": [],
   "source": [
    "import pprint\n",
    "pp = pprint.PrettyPrinter(indent=4)\n",
    "\n",
    "# pp.pprint(clixo_genes['10000'])"
   ]
  }
 ],
 "metadata": {
  "anaconda-cloud": {},
  "kernelspec": {
   "display_name": "Python [default]",
   "language": "python",
   "name": "python3"
  },
  "language_info": {
   "codemirror_mode": {
    "name": "ipython",
    "version": 3
   },
   "file_extension": ".py",
   "mimetype": "text/x-python",
   "name": "python",
   "nbconvert_exporter": "python",
   "pygments_lexer": "ipython3",
   "version": "3.5.2"
  }
 },
 "nbformat": 4,
 "nbformat_minor": 1
}
