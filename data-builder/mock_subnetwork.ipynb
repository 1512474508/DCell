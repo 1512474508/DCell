{
 "cells": [
  {
   "cell_type": "code",
   "execution_count": 1,
   "metadata": {
    "collapsed": false
   },
   "outputs": [
    {
     "name": "stdout",
     "output_type": "stream",
     "text": [
      "Python 3.5.2 :: Anaconda 4.2.0 (x86_64)\r\n"
     ]
    }
   ],
   "source": [
    "!python --version"
   ]
  },
  {
   "cell_type": "code",
   "execution_count": 2,
   "metadata": {
    "collapsed": true
   },
   "outputs": [],
   "source": [
    "import pandas as pd\n",
    "import json"
   ]
  },
  {
   "cell_type": "code",
   "execution_count": 23,
   "metadata": {
    "collapsed": false
   },
   "outputs": [
    {
     "data": {
      "text/html": [
       "<div>\n",
       "<table border=\"1\" class=\"dataframe\">\n",
       "  <thead>\n",
       "    <tr style=\"text-align: right;\">\n",
       "      <th></th>\n",
       "      <th>Source</th>\n",
       "      <th>Target</th>\n",
       "    </tr>\n",
       "  </thead>\n",
       "  <tbody>\n",
       "    <tr>\n",
       "      <th>0</th>\n",
       "      <td>YJL166W</td>\n",
       "      <td>GO:0006122</td>\n",
       "    </tr>\n",
       "    <tr>\n",
       "      <th>1</th>\n",
       "      <td>YEL024W</td>\n",
       "      <td>GO:0006122</td>\n",
       "    </tr>\n",
       "    <tr>\n",
       "      <th>2</th>\n",
       "      <td>GO:0005739</td>\n",
       "      <td>GO:0005750</td>\n",
       "    </tr>\n",
       "    <tr>\n",
       "      <th>3</th>\n",
       "      <td>GO:0009167</td>\n",
       "      <td>GO:0009123</td>\n",
       "    </tr>\n",
       "    <tr>\n",
       "      <th>4</th>\n",
       "      <td>GO:0044281</td>\n",
       "      <td>GO:0044710</td>\n",
       "    </tr>\n",
       "    <tr>\n",
       "      <th>5</th>\n",
       "      <td>GO:0009161</td>\n",
       "      <td>GO:0009167</td>\n",
       "    </tr>\n",
       "    <tr>\n",
       "      <th>6</th>\n",
       "      <td>GO:1901360</td>\n",
       "      <td>GO:0071704</td>\n",
       "    </tr>\n",
       "    <tr>\n",
       "      <th>7</th>\n",
       "      <td>GO:0044710</td>\n",
       "      <td>GO:0044699</td>\n",
       "    </tr>\n",
       "    <tr>\n",
       "      <th>8</th>\n",
       "      <td>GO:0005750</td>\n",
       "      <td>GO:1902495</td>\n",
       "    </tr>\n",
       "    <tr>\n",
       "      <th>9</th>\n",
       "      <td>GO:0022900</td>\n",
       "      <td>GO:0044763</td>\n",
       "    </tr>\n",
       "    <tr>\n",
       "      <th>10</th>\n",
       "      <td>GO:0022904</td>\n",
       "      <td>GO:0022900</td>\n",
       "    </tr>\n",
       "    <tr>\n",
       "      <th>11</th>\n",
       "      <td>GO:1902495</td>\n",
       "      <td>GO:0044425</td>\n",
       "    </tr>\n",
       "    <tr>\n",
       "      <th>12</th>\n",
       "      <td>GO:0044425</td>\n",
       "      <td>GO:0005575</td>\n",
       "    </tr>\n",
       "    <tr>\n",
       "      <th>13</th>\n",
       "      <td>GO:0008150</td>\n",
       "      <td>GO:00SUPER</td>\n",
       "    </tr>\n",
       "    <tr>\n",
       "      <th>14</th>\n",
       "      <td>GO:0008152</td>\n",
       "      <td>GO:0044710</td>\n",
       "    </tr>\n",
       "    <tr>\n",
       "      <th>15</th>\n",
       "      <td>GO:0006753</td>\n",
       "      <td>GO:0055086</td>\n",
       "    </tr>\n",
       "    <tr>\n",
       "      <th>16</th>\n",
       "      <td>GO:0009123</td>\n",
       "      <td>GO:0006753</td>\n",
       "    </tr>\n",
       "    <tr>\n",
       "      <th>17</th>\n",
       "      <td>GO:0044699</td>\n",
       "      <td>GO:0008150</td>\n",
       "    </tr>\n",
       "    <tr>\n",
       "      <th>18</th>\n",
       "      <td>GO:0044763</td>\n",
       "      <td>GO:0044699</td>\n",
       "    </tr>\n",
       "    <tr>\n",
       "      <th>19</th>\n",
       "      <td>GO:0055086</td>\n",
       "      <td>GO:0044763</td>\n",
       "    </tr>\n",
       "  </tbody>\n",
       "</table>\n",
       "</div>"
      ],
      "text/plain": [
       "        Source      Target\n",
       "0      YJL166W  GO:0006122\n",
       "1      YEL024W  GO:0006122\n",
       "2   GO:0005739  GO:0005750\n",
       "3   GO:0009167  GO:0009123\n",
       "4   GO:0044281  GO:0044710\n",
       "5   GO:0009161  GO:0009167\n",
       "6   GO:1901360  GO:0071704\n",
       "7   GO:0044710  GO:0044699\n",
       "8   GO:0005750  GO:1902495\n",
       "9   GO:0022900  GO:0044763\n",
       "10  GO:0022904  GO:0022900\n",
       "11  GO:1902495  GO:0044425\n",
       "12  GO:0044425  GO:0005575\n",
       "13  GO:0008150  GO:00SUPER\n",
       "14  GO:0008152  GO:0044710\n",
       "15  GO:0006753  GO:0055086\n",
       "16  GO:0009123  GO:0006753\n",
       "17  GO:0044699  GO:0008150\n",
       "18  GO:0044763  GO:0044699\n",
       "19  GO:0055086  GO:0044763"
      ]
     },
     "execution_count": 23,
     "metadata": {},
     "output_type": "execute_result"
    }
   ],
   "source": [
    "net = pd.read_csv('./sample-simulation/testNetwork.txt', delimiter='\\t')\n",
    "net.head(20)"
   ]
  },
  {
   "cell_type": "code",
   "execution_count": 24,
   "metadata": {
    "collapsed": false
   },
   "outputs": [
    {
     "data": {
      "text/html": [
       "<div>\n",
       "<table border=\"1\" class=\"dataframe\">\n",
       "  <thead>\n",
       "    <tr style=\"text-align: right;\">\n",
       "      <th></th>\n",
       "      <th>Source</th>\n",
       "      <th>Property</th>\n",
       "    </tr>\n",
       "  </thead>\n",
       "  <tbody>\n",
       "    <tr>\n",
       "      <th>0</th>\n",
       "      <td>YJL166W</td>\n",
       "      <td>1.000000</td>\n",
       "    </tr>\n",
       "    <tr>\n",
       "      <th>1</th>\n",
       "      <td>GO:0006122</td>\n",
       "      <td>0.444456</td>\n",
       "    </tr>\n",
       "    <tr>\n",
       "      <th>2</th>\n",
       "      <td>YEL024W</td>\n",
       "      <td>1.000000</td>\n",
       "    </tr>\n",
       "    <tr>\n",
       "      <th>3</th>\n",
       "      <td>GO:0005739</td>\n",
       "      <td>0.191416</td>\n",
       "    </tr>\n",
       "    <tr>\n",
       "      <th>4</th>\n",
       "      <td>GO:0005750</td>\n",
       "      <td>0.360780</td>\n",
       "    </tr>\n",
       "  </tbody>\n",
       "</table>\n",
       "</div>"
      ],
      "text/plain": [
       "       Source  Property\n",
       "0     YJL166W  1.000000\n",
       "1  GO:0006122  0.444456\n",
       "2     YEL024W  1.000000\n",
       "3  GO:0005739  0.191416\n",
       "4  GO:0005750  0.360780"
      ]
     },
     "execution_count": 24,
     "metadata": {},
     "output_type": "execute_result"
    }
   ],
   "source": [
    "prop = pd.read_csv('./sample-simulation/testNetwork_style.txt', delimiter='\\t')\n",
    "prop.head()"
   ]
  },
  {
   "cell_type": "code",
   "execution_count": 13,
   "metadata": {
    "collapsed": false
   },
   "outputs": [
    {
     "data": {
      "text/html": [
       "<div>\n",
       "<table border=\"1\" class=\"dataframe\">\n",
       "  <thead>\n",
       "    <tr style=\"text-align: right;\">\n",
       "      <th></th>\n",
       "      <th>Source</th>\n",
       "      <th>Property</th>\n",
       "    </tr>\n",
       "  </thead>\n",
       "  <tbody>\n",
       "    <tr>\n",
       "      <th>2</th>\n",
       "      <td>YEL024W</td>\n",
       "      <td>1.0</td>\n",
       "    </tr>\n",
       "  </tbody>\n",
       "</table>\n",
       "</div>"
      ],
      "text/plain": [
       "    Source  Property\n",
       "2  YEL024W       1.0"
      ]
     },
     "execution_count": 13,
     "metadata": {},
     "output_type": "execute_result"
    }
   ],
   "source": [
    "prop[prop['Source'] =='YEL024W']"
   ]
  },
  {
   "cell_type": "code",
   "execution_count": 3,
   "metadata": {
    "collapsed": true
   },
   "outputs": [],
   "source": [
    "subnet = {\n",
    "    'data': {\n",
    "        'name': 'simulation1'\n",
    "    },\n",
    "    'elements': {\n",
    "        'nodes': [],\n",
    "        'edges': []\n",
    "    }\n",
    "}\n",
    "\n",
    "def get_node(id, score):\n",
    "    node = {\n",
    "        'data': {\n",
    "            'id': id,\n",
    "            'score': score\n",
    "        }\n",
    "    }  \n",
    "    return node\n",
    "\n",
    "def get_edge(source, target):\n",
    "    edge = {\n",
    "        'data': {\n",
    "            'source': source,\n",
    "            'target': target\n",
    "        }\n",
    "    }\n",
    "    \n",
    "    return edge"
   ]
  },
  {
   "cell_type": "code",
   "execution_count": 26,
   "metadata": {
    "collapsed": false
   },
   "outputs": [],
   "source": [
    "for data in net.iterrows():\n",
    "    row=data[1]\n",
    "    edge = get_edge(row['Source'], row['Target'])\n",
    "    subnet['elements']['edges'].append(edge)\n",
    "\n",
    "for data in prop.iterrows():\n",
    "    row=data[1]\n",
    "    node = get_node(row['Source'], row['Property'])\n",
    "    subnet['elements']['nodes'].append(node)\n",
    "\n",
    "with open('./data/subnet.cyjs', 'w') as outfile:\n",
    "    json.dump(subnet, outfile)"
   ]
  },
  {
   "cell_type": "code",
   "execution_count": 1,
   "metadata": {
    "collapsed": false
   },
   "outputs": [
    {
     "name": "stdout",
     "output_type": "stream",
     "text": [
      "{'directed': False,\n",
      " 'edges': [{'source': 'GO:0016020', 'target': 'GO:0005575'},\n",
      "           {'source': 'GO:0044464', 'target': 'GO:0005575'},\n",
      "           {'source': 'GO:0044464', 'target': 'GO:0044424'},\n",
      "           {'source': 'GO:0005575', 'target': 'GO:00SUPER'},\n",
      "           {'source': 'GO:0044444', 'target': 'GO:0044424'},\n",
      "           {'source': 'GO:0044444', 'target': 'YAL056W'},\n",
      "           {'source': 'GO:0044444', 'target': 'YCL038C'},\n",
      "           {'source': 'GO:0008150', 'target': 'GO:0044699'},\n",
      "           {'source': 'GO:0008150', 'target': 'GO:00SUPER'}],\n",
      " 'graph': {},\n",
      " 'multigraph': False,\n",
      " 'nodes': [{'id': 'GO:0016020',\n",
      "            'importance': 0.0,\n",
      "            'phenotype': 0.024179171770811},\n",
      "           {'id': 'GO:0044464', 'importance': 0.0, 'phenotype': 'NA'},\n",
      "           {'id': 'GO:0005575', 'importance': 0.0, 'phenotype': 'NA'},\n",
      "           {'id': 'GO:0044444',\n",
      "            'importance': 0.0,\n",
      "            'phenotype': 0.01525542512536},\n",
      "           {'id': 'YCL038C', 'importance': 0.0, 'phenotype': 0.0},\n",
      "           {'id': 'GO:0008150', 'importance': 0.0, 'phenotype': 'NA'},\n",
      "           {'id': 'GO:0044424', 'importance': 0.0, 'phenotype': 'NA'},\n",
      "           {'id': 'YAL056W', 'importance': 0.0, 'phenotype': 0.0},\n",
      "           {'id': 'GO:0044699',\n",
      "            'importance': 0.0,\n",
      "            'phenotype': 0.01524106413126},\n",
      "           {'id': 'GO:00SUPER',\n",
      "            'importance': 0.0,\n",
      "            'phenotype': 0.024996409192681}]}\n"
     ]
    }
   ],
   "source": [
    "# Load from NetworkX JSON\n",
    "\n",
    "import json\n",
    "from pprint import pprint\n",
    "\n",
    "with open('./data/YAL056W_YCL038C.json') as data_file:    \n",
    "    result1 = json.load(data_file)\n",
    "    \n",
    "with open('./data/YBL098W_YPL113C.json') as data_file:    \n",
    "    result2 = json.load(data_file)\n",
    "\n",
    "pprint(result1)"
   ]
  },
  {
   "cell_type": "code",
   "execution_count": 10,
   "metadata": {
    "collapsed": false
   },
   "outputs": [],
   "source": [
    "nodes1 = result1['nodes']\n",
    "edges1 = result1['edges']\n",
    "new_nodes1 = []\n",
    "new_edges1 = []\n",
    "\n",
    "for node in nodes1:\n",
    "    new_nodes1.append(get_node(node['id'], node['phenotype']))\n",
    "    \n",
    "for edge in edges1:\n",
    "    new_edges1.append(get_edge(edge['source'], edge['target']))\n",
    "    \n",
    "net1 = {\n",
    "    'data': {'name': 'result1'},\n",
    "    'elements': {\n",
    "        'nodes': new_nodes1,\n",
    "        'edges': new_edges1\n",
    "    }\n",
    "}\n",
    "\n",
    "with open('./data/result1.cyjs', 'w') as outfile:\n",
    "    json.dump(net1, outfile)\n"
   ]
  }
 ],
 "metadata": {
  "anaconda-cloud": {},
  "kernelspec": {
   "display_name": "Python [conda root]",
   "language": "python",
   "name": "conda-root-py"
  },
  "language_info": {
   "codemirror_mode": {
    "name": "ipython",
    "version": 3
   },
   "file_extension": ".py",
   "mimetype": "text/x-python",
   "name": "python",
   "nbconvert_exporter": "python",
   "pygments_lexer": "ipython3",
   "version": "3.5.2"
  }
 },
 "nbformat": 4,
 "nbformat_minor": 1
}
