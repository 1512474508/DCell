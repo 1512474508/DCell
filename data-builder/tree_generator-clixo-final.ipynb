{
 "cells": [
  {
   "cell_type": "code",
   "execution_count": 1,
   "metadata": {
    "collapsed": false
   },
   "outputs": [
    {
     "name": "stdout",
     "output_type": "stream",
     "text": [
      "Python 3.5.2 :: Anaconda custom (x86_64)\r\n"
     ]
    }
   ],
   "source": [
    "!python --version"
   ]
  },
  {
   "cell_type": "markdown",
   "metadata": {},
   "source": [
    "# CLIXO Ontology Tree Generator\n",
    "\n",
    "This is a notebook to generate tree data file from original table and annotations.\n",
    "\n",
    "** This is the final version of the script creating an Cytoscape.js file with gene count.**\n",
    "\n",
    "## Requirment\n",
    "\n",
    "* DAG file for CLIXO\n",
    "* Term to gene assignment file\n",
    "* GO alignment file\n",
    "\n",
    "\n",
    "## CLIXO TERM COUNT = 4805"
   ]
  },
  {
   "cell_type": "code",
   "execution_count": 51,
   "metadata": {
    "collapsed": false
   },
   "outputs": [
    {
     "data": {
      "text/html": [
       "<div>\n",
       "<table border=\"1\" class=\"dataframe\">\n",
       "  <thead>\n",
       "    <tr style=\"text-align: right;\">\n",
       "      <th></th>\n",
       "      <th>parent</th>\n",
       "      <th>child</th>\n",
       "      <th>type</th>\n",
       "      <th>in_tree</th>\n",
       "    </tr>\n",
       "  </thead>\n",
       "  <tbody>\n",
       "    <tr>\n",
       "      <th>136996</th>\n",
       "      <td>10051</td>\n",
       "      <td>YHR083W</td>\n",
       "      <td>gene</td>\n",
       "      <td>NOT_TREE</td>\n",
       "    </tr>\n",
       "    <tr>\n",
       "      <th>136997</th>\n",
       "      <td>10704</td>\n",
       "      <td>YHR083W</td>\n",
       "      <td>gene</td>\n",
       "      <td>NOT_TREE</td>\n",
       "    </tr>\n",
       "    <tr>\n",
       "      <th>136998</th>\n",
       "      <td>10699</td>\n",
       "      <td>YHR083W</td>\n",
       "      <td>gene</td>\n",
       "      <td>NOT_TREE</td>\n",
       "    </tr>\n",
       "    <tr>\n",
       "      <th>136999</th>\n",
       "      <td>10705</td>\n",
       "      <td>YHR083W</td>\n",
       "      <td>gene</td>\n",
       "      <td>NOT_TREE</td>\n",
       "    </tr>\n",
       "    <tr>\n",
       "      <th>137000</th>\n",
       "      <td>9816</td>\n",
       "      <td>YHR083W</td>\n",
       "      <td>gene</td>\n",
       "      <td>NOT_TREE</td>\n",
       "    </tr>\n",
       "  </tbody>\n",
       "</table>\n",
       "</div>"
      ],
      "text/plain": [
       "        parent    child  type   in_tree\n",
       "136996   10051  YHR083W  gene  NOT_TREE\n",
       "136997   10704  YHR083W  gene  NOT_TREE\n",
       "136998   10699  YHR083W  gene  NOT_TREE\n",
       "136999   10705  YHR083W  gene  NOT_TREE\n",
       "137000    9816  YHR083W  gene  NOT_TREE"
      ]
     },
     "execution_count": 51,
     "metadata": {},
     "output_type": "execute_result"
    }
   ],
   "source": [
    "# Load data sets\n",
    "import pandas as pd\n",
    "\n",
    "treeSourceUrl = './data/preds_yeastnet_no_gi_0.04_0.5.txt.propagate.small_parent_tree'\n",
    "geneCountFile = './data/preds_yeastnet_no_gi_0.04_0.5.txt.propagate.term_sizes'\n",
    "alignmentFile = './data/alignments_FDR_0.1_t_0.1'\n",
    "geneAssignment = './data/preds_yeastnet_no_gi_0.04_0.5.txt.propagate.mapping'\n",
    "\n",
    "# Load the tree data\n",
    "treeColNames = ['parent', 'child', 'type', 'in_tree']\n",
    "tree = pd.read_csv(treeSourceUrl, delimiter='\\t', names=treeColNames)\n",
    "tree.tail()"
   ]
  },
  {
   "cell_type": "code",
   "execution_count": 55,
   "metadata": {
    "collapsed": false
   },
   "outputs": [
    {
     "name": "stdout",
     "output_type": "stream",
     "text": [
      "(4805,)\n"
     ]
    },
    {
     "data": {
      "text/html": [
       "<div>\n",
       "<table border=\"1\" class=\"dataframe\">\n",
       "  <thead>\n",
       "    <tr style=\"text-align: right;\">\n",
       "      <th></th>\n",
       "      <th>gene</th>\n",
       "      <th>clixo</th>\n",
       "    </tr>\n",
       "  </thead>\n",
       "  <tbody>\n",
       "    <tr>\n",
       "      <th>0</th>\n",
       "      <td>YGR220C</td>\n",
       "      <td>10000</td>\n",
       "    </tr>\n",
       "    <tr>\n",
       "      <th>1</th>\n",
       "      <td>YPR100W</td>\n",
       "      <td>10000</td>\n",
       "    </tr>\n",
       "    <tr>\n",
       "      <th>2</th>\n",
       "      <td>YNR022C</td>\n",
       "      <td>10000</td>\n",
       "    </tr>\n",
       "    <tr>\n",
       "      <th>3</th>\n",
       "      <td>YNL252C</td>\n",
       "      <td>10000</td>\n",
       "    </tr>\n",
       "    <tr>\n",
       "      <th>4</th>\n",
       "      <td>YCR046C</td>\n",
       "      <td>10000</td>\n",
       "    </tr>\n",
       "  </tbody>\n",
       "</table>\n",
       "</div>"
      ],
      "text/plain": [
       "      gene  clixo\n",
       "0  YGR220C  10000\n",
       "1  YPR100W  10000\n",
       "2  YNR022C  10000\n",
       "3  YNL252C  10000\n",
       "4  YCR046C  10000"
      ]
     },
     "execution_count": 55,
     "metadata": {},
     "output_type": "execute_result"
    }
   ],
   "source": [
    "assignment = pd.read_csv(geneAssignment, sep='\\t', names=['gene', 'clixo'])\n",
    "print(assignment['clixo'].unique().shape)\n",
    "assignment.head()\n"
   ]
  },
  {
   "cell_type": "code",
   "execution_count": 56,
   "metadata": {
    "collapsed": false
   },
   "outputs": [
    {
     "data": {
      "text/html": [
       "<div>\n",
       "<table border=\"1\" class=\"dataframe\">\n",
       "  <thead>\n",
       "    <tr style=\"text-align: right;\">\n",
       "      <th></th>\n",
       "      <th>clixo</th>\n",
       "      <th>go</th>\n",
       "      <th>similarity</th>\n",
       "      <th>fdr</th>\n",
       "      <th>genes</th>\n",
       "    </tr>\n",
       "  </thead>\n",
       "  <tbody>\n",
       "    <tr>\n",
       "      <th>0</th>\n",
       "      <td>8607</td>\n",
       "      <td>GO:0031417</td>\n",
       "      <td>0.919767</td>\n",
       "      <td>0.0</td>\n",
       "      <td>3</td>\n",
       "    </tr>\n",
       "    <tr>\n",
       "      <th>1</th>\n",
       "      <td>7720</td>\n",
       "      <td>GO:0004354</td>\n",
       "      <td>0.911533</td>\n",
       "      <td>0.0</td>\n",
       "      <td>2</td>\n",
       "    </tr>\n",
       "    <tr>\n",
       "      <th>2</th>\n",
       "      <td>8636</td>\n",
       "      <td>GO:0036437</td>\n",
       "      <td>0.911062</td>\n",
       "      <td>0.0</td>\n",
       "      <td>3</td>\n",
       "    </tr>\n",
       "    <tr>\n",
       "      <th>3</th>\n",
       "      <td>9228</td>\n",
       "      <td>GO:0004574</td>\n",
       "      <td>0.909649</td>\n",
       "      <td>0.0</td>\n",
       "      <td>5</td>\n",
       "    </tr>\n",
       "    <tr>\n",
       "      <th>4</th>\n",
       "      <td>9773</td>\n",
       "      <td>GO:0019773</td>\n",
       "      <td>0.908339</td>\n",
       "      <td>0.0</td>\n",
       "      <td>7</td>\n",
       "    </tr>\n",
       "  </tbody>\n",
       "</table>\n",
       "</div>"
      ],
      "text/plain": [
       "   clixo          go  similarity  fdr  genes\n",
       "0   8607  GO:0031417    0.919767  0.0      3\n",
       "1   7720  GO:0004354    0.911533  0.0      2\n",
       "2   8636  GO:0036437    0.911062  0.0      3\n",
       "3   9228  GO:0004574    0.909649  0.0      5\n",
       "4   9773  GO:0019773    0.908339  0.0      7"
      ]
     },
     "execution_count": 56,
     "metadata": {},
     "output_type": "execute_result"
    }
   ],
   "source": [
    "al = pd.read_csv(alignmentFile, sep='\\t', names=['clixo', 'go', 'similarity', 'fdr', 'genes'])\n",
    "al.head()"
   ]
  },
  {
   "cell_type": "code",
   "execution_count": 57,
   "metadata": {
    "collapsed": true
   },
   "outputs": [],
   "source": [
    "mapping = {}\n",
    "for row in al.itertuples():\n",
    "    entry = {\n",
    "        'go': row[2],\n",
    "        'score': row[3],\n",
    "        'dfr': row[4]\n",
    "    }\n",
    "    mapping[str(row[1])] = entry"
   ]
  },
  {
   "cell_type": "code",
   "execution_count": 58,
   "metadata": {
    "collapsed": false
   },
   "outputs": [],
   "source": [
    "geneCounts = pd.read_csv(geneCountFile, names=['clixo', 'count'], sep='\\t')\n",
    "\n",
    "term2count = {}\n",
    "for row in geneCounts.itertuples():\n",
    "    term2count[str(row[1])] = row[2].item()"
   ]
  },
  {
   "cell_type": "code",
   "execution_count": 59,
   "metadata": {
    "collapsed": false
   },
   "outputs": [
    {
     "name": "stdout",
     "output_type": "stream",
     "text": [
      "4805\n"
     ]
    }
   ],
   "source": [
    "# Get unique terms\n",
    "\n",
    "clixo_terms = set()\n",
    "\n",
    "for row in tree.itertuples():\n",
    "    etype = row[3]\n",
    "\n",
    "    if not etype.startswith('gene'):\n",
    "        clixo_terms.add(str(row[1]))\n",
    "        clixo_terms.add(str(row[2]))\n",
    "\n",
    "print(len(clixo_terms))"
   ]
  },
  {
   "cell_type": "markdown",
   "metadata": {},
   "source": [
    "## Build Base CyJS Network"
   ]
  },
  {
   "cell_type": "code",
   "execution_count": 60,
   "metadata": {
    "collapsed": false
   },
   "outputs": [
    {
     "name": "stdout",
     "output_type": "stream",
     "text": [
      "{\n",
      "    \"data\": {\n",
      "        \"name\": \"CLIXO Tree\"\n",
      "    },\n",
      "    \"elements\": {\n",
      "        \"edges\": [],\n",
      "        \"nodes\": []\n",
      "    }\n",
      "}\n"
     ]
    }
   ],
   "source": [
    "import json\n",
    "\n",
    "clixoTree = {\n",
    "    'data': {\n",
    "        'name': 'CLIXO Tree'\n",
    "    },\n",
    "    'elements': {\n",
    "        'nodes': [],\n",
    "        'edges': []\n",
    "    }\n",
    "}\n",
    "\n",
    "print(json.dumps(clixoTree, indent=4))"
   ]
  },
  {
   "cell_type": "code",
   "execution_count": 63,
   "metadata": {
    "collapsed": true
   },
   "outputs": [],
   "source": [
    "def get_node(id, count):\n",
    "    node = {\n",
    "        'data': {\n",
    "            'id': id,\n",
    "            'geneCount': count\n",
    "        }\n",
    "    }\n",
    "        \n",
    "    return node\n",
    "\n",
    "def get_edge(source, target):\n",
    "    edge = {\n",
    "        'data': {\n",
    "            'source': target,\n",
    "            'target': source\n",
    "        }\n",
    "    }\n",
    "    \n",
    "    return edge"
   ]
  },
  {
   "cell_type": "code",
   "execution_count": 65,
   "metadata": {
    "collapsed": false
   },
   "outputs": [
    {
     "name": "stdout",
     "output_type": "stream",
     "text": [
      "4804\n"
     ]
    }
   ],
   "source": [
    "edges = []\n",
    "PREFIX = 'CLIXO:'\n",
    "\n",
    "for row in tree.itertuples():\n",
    "    etype = row[3]\n",
    "    in_tree = row[4]\n",
    "    if etype.startswith('gene') or in_tree == 'NOT_TREE':\n",
    "        continue\n",
    "    \n",
    "    source = PREFIX + str(row[1])\n",
    "    child = PREFIX + str(row[2])\n",
    "    edges.append(get_edge(source, child))\n",
    "    \n",
    "print(len(edges))"
   ]
  },
  {
   "cell_type": "code",
   "execution_count": 66,
   "metadata": {
    "collapsed": false
   },
   "outputs": [
    {
     "name": "stdout",
     "output_type": "stream",
     "text": [
      "4805\n"
     ]
    }
   ],
   "source": [
    "nodes = []\n",
    "\n",
    "for id in clixo_terms:\n",
    "    node = get_node(PREFIX + id, term2count[id])\n",
    "    nodes.append(node)\n",
    "\n",
    "print(len(nodes))"
   ]
  },
  {
   "cell_type": "code",
   "execution_count": 67,
   "metadata": {
    "collapsed": false
   },
   "outputs": [],
   "source": [
    "clixoTree['elements']['nodes'] = nodes\n",
    "clixoTree['elements']['edges'] = edges\n",
    "\n",
    "with open('./data/clixo-tree.cyjs', 'w') as outfile:\n",
    "    json.dump(clixoTree, outfile)"
   ]
  },
  {
   "cell_type": "markdown",
   "metadata": {},
   "source": [
    "## Layout with networkx"
   ]
  },
  {
   "cell_type": "code",
   "execution_count": 29,
   "metadata": {
    "collapsed": false
   },
   "outputs": [],
   "source": [
    "import networkx as nx\n",
    "\n",
    "DG=nx.DiGraph()\n",
    "\n",
    "for node in nodes:\n",
    "    DG.add_node(node['data']['id'])\n",
    "\n",
    "for edge in edges:\n",
    "    DG.add_edge(edge['data']['source'], edge['data']['target'])"
   ]
  },
  {
   "cell_type": "code",
   "execution_count": 30,
   "metadata": {
    "collapsed": false
   },
   "outputs": [],
   "source": [
    "import matplotlib.pyplot as plt"
   ]
  },
  {
   "cell_type": "code",
   "execution_count": 31,
   "metadata": {
    "collapsed": false
   },
   "outputs": [],
   "source": [
    "nx.draw_circular(DG)"
   ]
  },
  {
   "cell_type": "code",
   "execution_count": 33,
   "metadata": {
    "collapsed": false
   },
   "outputs": [],
   "source": [
    "# pos = nx.nx_pydot.pydot_layout(DG)"
   ]
  }
 ],
 "metadata": {
  "anaconda-cloud": {},
  "kernelspec": {
   "display_name": "Python [conda root]",
   "language": "python",
   "name": "conda-root-py"
  },
  "language_info": {
   "codemirror_mode": {
    "name": "ipython",
    "version": 3
   },
   "file_extension": ".py",
   "mimetype": "text/x-python",
   "name": "python",
   "nbconvert_exporter": "python",
   "pygments_lexer": "ipython3",
   "version": "3.5.2"
  }
 },
 "nbformat": 4,
 "nbformat_minor": 1
}
