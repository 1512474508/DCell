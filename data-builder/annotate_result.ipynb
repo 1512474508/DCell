{
 "cells": [
  {
   "cell_type": "code",
   "execution_count": 16,
   "metadata": {
    "collapsed": false
   },
   "outputs": [],
   "source": [
    "import json\n",
    "from pprint import pprint\n",
    "\n",
    "with open('./sample-simulation/subnet-d3.json') as data_file:    \n",
    "    tree = json.load(data_file)\n"
   ]
  },
  {
   "cell_type": "code",
   "execution_count": 18,
   "metadata": {
    "collapsed": false
   },
   "outputs": [
    {
     "name": "stdout",
     "output_type": "stream",
     "text": [
      "load obo file ./data/go.obo\n",
      "./data/go.obo: fmt(1.2) rel(2016-12-06) 47,833 GO Terms\n"
     ]
    }
   ],
   "source": [
    "from goatools import obo_parser\n",
    "oboUrl = './data/go.obo'\n",
    "obo = obo_parser.GODag(oboUrl, optional_attrs=['def'])"
   ]
  },
  {
   "cell_type": "code",
   "execution_count": 26,
   "metadata": {
    "collapsed": false
   },
   "outputs": [
    {
     "data": {
      "text/plain": [
       "'biological_process'"
      ]
     },
     "execution_count": 26,
     "metadata": {},
     "output_type": "execute_result"
    }
   ],
   "source": [
    "obo['GO:0044710'].namespace"
   ]
  },
  {
   "cell_type": "code",
   "execution_count": 30,
   "metadata": {
    "collapsed": false
   },
   "outputs": [
    {
     "name": "stdout",
     "output_type": "stream",
     "text": [
      "biological_process\n",
      "biological_process\n",
      "single-organism process\n",
      "biological_process\n",
      "single-organism metabolic process\n",
      "biological_process\n",
      "small molecule metabolic process\n",
      "biological_process\n",
      "metabolic process\n",
      "biological_process\n",
      "organic substance metabolic process\n",
      "biological_process\n",
      "organic cyclic compound metabolic process\n",
      "biological_process\n",
      "single-organism cellular process\n",
      "biological_process\n",
      "nucleobase-containing small molecule metabolic process\n",
      "biological_process\n",
      "nucleoside phosphate metabolic process\n",
      "biological_process\n",
      "nucleoside monophosphate metabolic process\n",
      "biological_process\n",
      "purine ribonucleoside monophosphate metabolic process\n",
      "biological_process\n",
      "ribonucleoside monophosphate metabolic process\n",
      "biological_process\n",
      "electron transport chain\n",
      "biological_process\n",
      "respiratory electron transport chain\n",
      "biological_process\n",
      "mitochondrial electron transport, ubiquinol to cytochrome c\n",
      "biological_process\n",
      "cellular_component\n",
      "cellular_component\n",
      "membrane part\n",
      "cellular_component\n",
      "transmembrane transporter complex\n",
      "cellular_component\n",
      "mitochondrial respiratory chain complex III\n",
      "cellular_component\n",
      "mitochondrion\n",
      "cellular_component\n"
     ]
    }
   ],
   "source": [
    "def update(node):\n",
    "    if 'SUID' in node:\n",
    "        del node['SUID']\n",
    "    if 'selected' in node:\n",
    "        del node['selected']\n",
    "    if 'id' in node:\n",
    "        del node['id']\n",
    "    if 'type' in node:\n",
    "        del node['type']\n",
    "        \n",
    "    if 'shared_name' in node:\n",
    "        del node['shared_name']\n",
    "        \n",
    "    if node['name'] in obo:\n",
    "        long_name = obo[node['name']].name\n",
    "        namespace = obo[node['name']].namespace\n",
    "        \n",
    "        node['long_name'] = str(long_name)\n",
    "        node['namespace'] = str(namespace)\n",
    "\n",
    "        print(node['long_name'])\n",
    "        print(node['namespace'])\n",
    "\n",
    "    \n",
    "    if 'children' in node:\n",
    "        children = node['children']\n",
    "        for c in children:\n",
    "            update(c)\n",
    "\n",
    "\n",
    "update(tree)\n",
    "\n",
    "with open('./data/subnet-d3-full.json', 'w') as outfile:\n",
    "    json.dump(tree, outfile)"
   ]
  }
 ],
 "metadata": {
  "kernelspec": {
   "display_name": "Python [default]",
   "language": "python",
   "name": "python3"
  },
  "language_info": {
   "codemirror_mode": {
    "name": "ipython",
    "version": 3
   },
   "file_extension": ".py",
   "mimetype": "text/x-python",
   "name": "python",
   "nbconvert_exporter": "python",
   "pygments_lexer": "ipython3",
   "version": "3.5.2"
  }
 },
 "nbformat": 4,
 "nbformat_minor": 1
}
