{
 "cells": [
  {
   "cell_type": "code",
   "execution_count": 1,
   "metadata": {
    "collapsed": false
   },
   "outputs": [
    {
     "name": "stdout",
     "output_type": "stream",
     "text": [
      "Python 3.5.2 :: Anaconda custom (x86_64)\r\n"
     ]
    }
   ],
   "source": [
    "!python --version"
   ]
  },
  {
   "cell_type": "markdown",
   "metadata": {},
   "source": [
    "# CLIXO Ontology Tree Generator\n",
    "\n",
    "This is a notebook to generate tree data file from original table and annotations.\n"
   ]
  },
  {
   "cell_type": "code",
   "execution_count": 5,
   "metadata": {
    "collapsed": false
   },
   "outputs": [
    {
     "data": {
      "text/html": [
       "<div>\n",
       "<table border=\"1\" class=\"dataframe\">\n",
       "  <thead>\n",
       "    <tr style=\"text-align: right;\">\n",
       "      <th></th>\n",
       "      <th>parent</th>\n",
       "      <th>child</th>\n",
       "      <th>type</th>\n",
       "      <th>in_tree</th>\n",
       "    </tr>\n",
       "  </thead>\n",
       "  <tbody>\n",
       "    <tr>\n",
       "      <th>136991</th>\n",
       "      <td>10702</td>\n",
       "      <td>YHR083W</td>\n",
       "      <td>gene</td>\n",
       "      <td>NOT_TREE</td>\n",
       "    </tr>\n",
       "    <tr>\n",
       "      <th>136992</th>\n",
       "      <td>10701</td>\n",
       "      <td>YHR083W</td>\n",
       "      <td>gene</td>\n",
       "      <td>NOT_TREE</td>\n",
       "    </tr>\n",
       "    <tr>\n",
       "      <th>136993</th>\n",
       "      <td>10700</td>\n",
       "      <td>YHR083W</td>\n",
       "      <td>gene</td>\n",
       "      <td>NOT_TREE</td>\n",
       "    </tr>\n",
       "    <tr>\n",
       "      <th>136994</th>\n",
       "      <td>9450</td>\n",
       "      <td>YHR083W</td>\n",
       "      <td>gene</td>\n",
       "      <td>NOT_TREE</td>\n",
       "    </tr>\n",
       "    <tr>\n",
       "      <th>136995</th>\n",
       "      <td>10706</td>\n",
       "      <td>YHR083W</td>\n",
       "      <td>gene</td>\n",
       "      <td>NOT_TREE</td>\n",
       "    </tr>\n",
       "    <tr>\n",
       "      <th>136996</th>\n",
       "      <td>10051</td>\n",
       "      <td>YHR083W</td>\n",
       "      <td>gene</td>\n",
       "      <td>NOT_TREE</td>\n",
       "    </tr>\n",
       "    <tr>\n",
       "      <th>136997</th>\n",
       "      <td>10704</td>\n",
       "      <td>YHR083W</td>\n",
       "      <td>gene</td>\n",
       "      <td>NOT_TREE</td>\n",
       "    </tr>\n",
       "    <tr>\n",
       "      <th>136998</th>\n",
       "      <td>10699</td>\n",
       "      <td>YHR083W</td>\n",
       "      <td>gene</td>\n",
       "      <td>NOT_TREE</td>\n",
       "    </tr>\n",
       "    <tr>\n",
       "      <th>136999</th>\n",
       "      <td>10705</td>\n",
       "      <td>YHR083W</td>\n",
       "      <td>gene</td>\n",
       "      <td>NOT_TREE</td>\n",
       "    </tr>\n",
       "    <tr>\n",
       "      <th>137000</th>\n",
       "      <td>9816</td>\n",
       "      <td>YHR083W</td>\n",
       "      <td>gene</td>\n",
       "      <td>NOT_TREE</td>\n",
       "    </tr>\n",
       "  </tbody>\n",
       "</table>\n",
       "</div>"
      ],
      "text/plain": [
       "        parent    child  type   in_tree\n",
       "136991   10702  YHR083W  gene  NOT_TREE\n",
       "136992   10701  YHR083W  gene  NOT_TREE\n",
       "136993   10700  YHR083W  gene  NOT_TREE\n",
       "136994    9450  YHR083W  gene  NOT_TREE\n",
       "136995   10706  YHR083W  gene  NOT_TREE\n",
       "136996   10051  YHR083W  gene  NOT_TREE\n",
       "136997   10704  YHR083W  gene  NOT_TREE\n",
       "136998   10699  YHR083W  gene  NOT_TREE\n",
       "136999   10705  YHR083W  gene  NOT_TREE\n",
       "137000    9816  YHR083W  gene  NOT_TREE"
      ]
     },
     "execution_count": 5,
     "metadata": {},
     "output_type": "execute_result"
    }
   ],
   "source": [
    "import pandas as pd\n",
    "treeSourceUrl = './preds_yeastnet_no_gi_0.04_0.5.txt.propagate.small_parent_tree'\n",
    "\n",
    "# Load the tree data\n",
    "treeColNames = ['parent', 'child', 'type', 'in_tree']\n",
    "tree = pd.read_csv(treeSourceUrl, delimiter='\\t', names=treeColNames)\n",
    "tree.tail(10)"
   ]
  },
  {
   "cell_type": "markdown",
   "metadata": {},
   "source": [
    "## Build Base CyJS Network"
   ]
  },
  {
   "cell_type": "code",
   "execution_count": 12,
   "metadata": {
    "collapsed": false
   },
   "outputs": [
    {
     "name": "stdout",
     "output_type": "stream",
     "text": [
      "{\n",
      "    \"data\": {\n",
      "        \"name\": \"CLIXO Tree\"\n",
      "    },\n",
      "    \"elements\": {\n",
      "        \"edges\": [],\n",
      "        \"nodes\": []\n",
      "    }\n",
      "}\n"
     ]
    }
   ],
   "source": [
    "import json\n",
    "\n",
    "clixoTree = {\n",
    "    'data': {\n",
    "        'name': 'CLIXO Tree'\n",
    "    },\n",
    "    'elements': {\n",
    "        'nodes': [],\n",
    "        'edges': []\n",
    "    }\n",
    "}\n",
    "\n",
    "print(json.dumps(clixoTree, indent=4))"
   ]
  },
  {
   "cell_type": "code",
   "execution_count": 13,
   "metadata": {
    "collapsed": true
   },
   "outputs": [],
   "source": [
    "def get_node(id):\n",
    "    node = {\n",
    "        'data': {\n",
    "            'id': id\n",
    "        }\n",
    "    }\n",
    "        \n",
    "    return node\n",
    "\n",
    "def get_edge(source, target, itr, is_tree):\n",
    "    edge = {\n",
    "        'data': {\n",
    "            'source': target,\n",
    "            'target': source,\n",
    "            'interaction': itr,\n",
    "            'is_tree': is_tree\n",
    "        }\n",
    "    }\n",
    "    \n",
    "    return edge"
   ]
  },
  {
   "cell_type": "code",
   "execution_count": 14,
   "metadata": {
    "collapsed": false
   },
   "outputs": [],
   "source": [
    "node_set= set()\n",
    "\n",
    "edges = []\n",
    "PREFIX = 'CLIXO:'\n",
    "\n",
    "for row in tree.itertuples():\n",
    "    source = PREFIX + str(row[1])\n",
    "    child = PREFIX + str(row[2])\n",
    "    node_set.add(source)\n",
    "    node_set.add(child)\n",
    "    edges.append(get_edge(source, child, row[3], row[4]))"
   ]
  },
  {
   "cell_type": "code",
   "execution_count": 15,
   "metadata": {
    "collapsed": false
   },
   "outputs": [],
   "source": [
    "nodes = []\n",
    "\n",
    "for id in node_set:\n",
    "    node = get_node(id)\n",
    "    nodes.append(node)"
   ]
  },
  {
   "cell_type": "code",
   "execution_count": 16,
   "metadata": {
    "collapsed": false
   },
   "outputs": [],
   "source": [
    "clixoTree['elements']['nodes'] = nodes\n",
    "clixoTree['elements']['edges'] = edges\n",
    "\n",
    "with open('./data/clixo-tree.cyjs', 'w') as outfile:\n",
    "    json.dump(clixoTree, outfile)"
   ]
  },
  {
   "cell_type": "markdown",
   "metadata": {},
   "source": [
    "## Layout by library"
   ]
  },
  {
   "cell_type": "code",
   "execution_count": null,
   "metadata": {
    "collapsed": false
   },
   "outputs": [],
   "source": [
    "import networkx as nx\n",
    "\n",
    "DG=nx.DiGraph()\n",
    "\n",
    "for node in nodes:\n",
    "    DG.add_node(node['data']['id'])\n",
    "\n",
    "for edge in edges:\n",
    "    DG.add_edge(edge['data']['source'], edge['data']['target'])"
   ]
  },
  {
   "cell_type": "code",
   "execution_count": null,
   "metadata": {
    "collapsed": false
   },
   "outputs": [],
   "source": [
    "import matplotlib.pyplot as plt"
   ]
  },
  {
   "cell_type": "code",
   "execution_count": null,
   "metadata": {
    "collapsed": false
   },
   "outputs": [],
   "source": [
    "nx.draw_circular(DG)"
   ]
  },
  {
   "cell_type": "code",
   "execution_count": null,
   "metadata": {
    "collapsed": false
   },
   "outputs": [],
   "source": [
    "pos = nx.nx_pydot.pydot_layout(DG)"
   ]
  }
 ],
 "metadata": {
  "anaconda-cloud": {},
  "kernelspec": {
   "display_name": "Python [conda root]",
   "language": "python",
   "name": "conda-root-py"
  },
  "language_info": {
   "codemirror_mode": {
    "name": "ipython",
    "version": 3
   },
   "file_extension": ".py",
   "mimetype": "text/x-python",
   "name": "python",
   "nbconvert_exporter": "python",
   "pygments_lexer": "ipython3",
   "version": "3.5.2"
  }
 },
 "nbformat": 4,
 "nbformat_minor": 1
}
