{
 "cells": [
  {
   "cell_type": "markdown",
   "metadata": {},
   "source": [
    "# CLIXO Tree builder\n",
    "\n",
    "Cleanup tree data created with Cytoscape and link anntation from mapping file."
   ]
  },
  {
   "cell_type": "code",
   "execution_count": 30,
   "metadata": {
    "collapsed": false
   },
   "outputs": [
    {
     "name": "stdout",
     "output_type": "stream",
     "text": [
      "1811\n"
     ]
    }
   ],
   "source": [
    "import json\n",
    "import pandas as pd\n",
    "\n",
    "\n",
    "# Load mapping\n",
    "\n",
    "with open('./data/clixo-mapping.json', 'r') as f:\n",
    "    clixo_map = json.load(f)\n",
    "    \n",
    "print(len(clixo_map.keys()))"
   ]
  },
  {
   "cell_type": "code",
   "execution_count": 32,
   "metadata": {
    "collapsed": false
   },
   "outputs": [
    {
     "data": {
      "text/plain": [
       "4805"
      ]
     },
     "execution_count": 32,
     "metadata": {},
     "output_type": "execute_result"
    }
   ],
   "source": [
    "with open('./data/clixo-tree-layout.cyjs', 'r') as f:\n",
    "    clixo = json.load(f)\n",
    "\n",
    "nodes = clixo['elements']['nodes']\n",
    "len(nodes)"
   ]
  },
  {
   "cell_type": "code",
   "execution_count": 34,
   "metadata": {
    "collapsed": false
   },
   "outputs": [
    {
     "name": "stdout",
     "output_type": "stream",
     "text": [
      "{'selected': False, 'position': {'x': 15220.0, 'y': 25564.0}, 'data': {'shared_name': 'CLIXO:8037', 'name': 'CLIXO:8037', 'SUID': 24102, 'selected': False, 'geneCount': 3.0, 'id_original': 'CLIXO:8037', 'id': '24102'}}\n"
     ]
    }
   ],
   "source": [
    "print(nodes[1])"
   ]
  },
  {
   "cell_type": "code",
   "execution_count": 33,
   "metadata": {
    "collapsed": false
   },
   "outputs": [
    {
     "name": "stdout",
     "output_type": "stream",
     "text": [
      "load obo file ./data/go.obo\n",
      "./data/go.obo: fmt(1.2) rel(2017-01-13) 47,943 GO Terms\n"
     ]
    }
   ],
   "source": [
    "from goatools import obo_parser\n",
    "\n",
    "# Annotation file for the CLIXO terms\n",
    "oboUrl = './data/go.obo'\n",
    "\n",
    "obo = obo_parser.GODag(oboUrl, optional_attrs=['def'])"
   ]
  },
  {
   "cell_type": "code",
   "execution_count": 37,
   "metadata": {
    "collapsed": false,
    "scrolled": false
   },
   "outputs": [],
   "source": [
    "new_nodes = []\n",
    "\n",
    "id2clixo = {}\n",
    "gcounts = []\n",
    "\n",
    "for n in nodes:\n",
    "    d = n['data']\n",
    "    \n",
    "    id2clixo[d['id']] = d['id_original']\n",
    "    clixo_id = d['id_original'].split(':')[1]\n",
    "    name = d['id_original']\n",
    "    genes = int(d['geneCount'])\n",
    "    \n",
    "    gcounts.append(genes)\n",
    "    \n",
    "    if clixo_id in clixo_map.keys():\n",
    "        goid = clixo_map[clixo_id]['go']\n",
    "        name = obo[goid].name\n",
    "        \n",
    "    data = {\n",
    "        'id': d['id_original'],\n",
    "        'name': name,\n",
    "        'geneCount': genes\n",
    "    }\n",
    "    \n",
    "    new_nodes.append({\n",
    "            'data': data,\n",
    "            'position': n['position']\n",
    "        })"
   ]
  },
  {
   "cell_type": "code",
   "execution_count": 38,
   "metadata": {
    "collapsed": false
   },
   "outputs": [
    {
     "data": {
      "text/plain": [
       "4805"
      ]
     },
     "execution_count": 38,
     "metadata": {},
     "output_type": "execute_result"
    }
   ],
   "source": [
    "len(nodes)"
   ]
  },
  {
   "cell_type": "code",
   "execution_count": 39,
   "metadata": {
    "collapsed": false
   },
   "outputs": [
    {
     "data": {
      "text/plain": [
       "5886"
      ]
     },
     "execution_count": 39,
     "metadata": {},
     "output_type": "execute_result"
    }
   ],
   "source": [
    "max(gcounts)"
   ]
  },
  {
   "cell_type": "code",
   "execution_count": 40,
   "metadata": {
    "collapsed": false
   },
   "outputs": [],
   "source": [
    "# Cleanup edges\n",
    "\n",
    "edges = clixo['elements']['edges']\n",
    "new_edges = []\n",
    "\n",
    "for e in edges:\n",
    "    d = e['data']\n",
    "    \n",
    "    data = {\n",
    "        'source': id2clixo[d['source']],\n",
    "        'target': id2clixo[d['target']],\n",
    "    }\n",
    "    \n",
    "    new_edges.append({'data': data})"
   ]
  },
  {
   "cell_type": "code",
   "execution_count": 41,
   "metadata": {
    "collapsed": true
   },
   "outputs": [],
   "source": [
    "clixo_compact = {\n",
    "    'data': {\n",
    "        'name': 'CLIXO Tree'\n",
    "    },\n",
    "    'elements': {\n",
    "        'nodes': new_nodes,\n",
    "        'edges': new_edges\n",
    "    }\n",
    "}\n",
    "\n",
    "with open('./data/clixo-compact.json', 'w') as outfile:\n",
    "    json.dump(clixo_compact, outfile)"
   ]
  },
  {
   "cell_type": "markdown",
   "metadata": {},
   "source": [
    "## And same for GO\n",
    "\n",
    "### Remove unnecessary data fields and create minimized version of JSON"
   ]
  },
  {
   "cell_type": "code",
   "execution_count": 1,
   "metadata": {
    "collapsed": false
   },
   "outputs": [
    {
     "name": "stdout",
     "output_type": "stream",
     "text": [
      "--2017-01-19 11:03:26--  http://chianti.ucsd.edu/~kono/ci/data/deep-cell/go-sparse_original.cyjs\n",
      "Resolving chianti.ucsd.edu... 169.228.38.202\n",
      "Connecting to chianti.ucsd.edu|169.228.38.202|:80... connected.\n",
      "HTTP request sent, awaiting response... 200 OK\n",
      "Length: 10376908 (9.9M) [text/plain]\n",
      "Saving to: ‘./data/go-original.cyjs’\n",
      "\n",
      "./data/go-original. 100%[===================>]   9.90M  --.-KB/s    in 0.1s    \n",
      "\n",
      "2017-01-19 11:03:26 (68.1 MB/s) - ‘./data/go-original.cyjs’ saved [10376908/10376908]\n",
      "\n"
     ]
    }
   ],
   "source": [
    "!wget 'http://chianti.ucsd.edu/~kono/ci/data/deep-cell/go-sparse_original.cyjs' -O ./data/go-original.cyjs"
   ]
  },
  {
   "cell_type": "code",
   "execution_count": 6,
   "metadata": {
    "collapsed": false
   },
   "outputs": [],
   "source": [
    "import json\n",
    "import pandas as pd\n",
    "import math\n",
    "\n",
    "with open('./data/go-original.cyjs', 'r') as f:\n",
    "    gotree = json.load(f)"
   ]
  },
  {
   "cell_type": "code",
   "execution_count": 4,
   "metadata": {
    "collapsed": false
   },
   "outputs": [
    {
     "data": {
      "text/html": [
       "<div>\n",
       "<table border=\"1\" class=\"dataframe\">\n",
       "  <thead>\n",
       "    <tr style=\"text-align: right;\">\n",
       "      <th></th>\n",
       "      <th>id</th>\n",
       "      <th>genes</th>\n",
       "    </tr>\n",
       "  </thead>\n",
       "  <tbody>\n",
       "    <tr>\n",
       "      <th>0</th>\n",
       "      <td>GO:0000001</td>\n",
       "      <td>27</td>\n",
       "    </tr>\n",
       "    <tr>\n",
       "      <th>1</th>\n",
       "      <td>GO:0000002</td>\n",
       "      <td>42</td>\n",
       "    </tr>\n",
       "    <tr>\n",
       "      <th>2</th>\n",
       "      <td>GO:0000003</td>\n",
       "      <td>448</td>\n",
       "    </tr>\n",
       "    <tr>\n",
       "      <th>3</th>\n",
       "      <td>GO:0000006</td>\n",
       "      <td>1</td>\n",
       "    </tr>\n",
       "    <tr>\n",
       "      <th>4</th>\n",
       "      <td>GO:0000007</td>\n",
       "      <td>1</td>\n",
       "    </tr>\n",
       "    <tr>\n",
       "      <th>5</th>\n",
       "      <td>GO:0000009</td>\n",
       "      <td>9</td>\n",
       "    </tr>\n",
       "    <tr>\n",
       "      <th>6</th>\n",
       "      <td>GO:0000010</td>\n",
       "      <td>1</td>\n",
       "    </tr>\n",
       "    <tr>\n",
       "      <th>7</th>\n",
       "      <td>GO:0000011</td>\n",
       "      <td>18</td>\n",
       "    </tr>\n",
       "    <tr>\n",
       "      <th>8</th>\n",
       "      <td>GO:0000014</td>\n",
       "      <td>7</td>\n",
       "    </tr>\n",
       "    <tr>\n",
       "      <th>9</th>\n",
       "      <td>GO:0000015</td>\n",
       "      <td>5</td>\n",
       "    </tr>\n",
       "  </tbody>\n",
       "</table>\n",
       "</div>"
      ],
      "text/plain": [
       "           id  genes\n",
       "0  GO:0000001     27\n",
       "1  GO:0000002     42\n",
       "2  GO:0000003    448\n",
       "3  GO:0000006      1\n",
       "4  GO:0000007      1\n",
       "5  GO:0000009      9\n",
       "6  GO:0000010      1\n",
       "7  GO:0000011     18\n",
       "8  GO:0000014      7\n",
       "9  GO:0000015      5"
      ]
     },
     "execution_count": 4,
     "metadata": {},
     "output_type": "execute_result"
    }
   ],
   "source": [
    "import pandas as pd\n",
    "\n",
    "df = pd.read_csv('./data/collapsed_go.no_IGI.propagated.term_sizes', sep='\\t', names=['id', 'genes'])\n",
    "df.head(10)"
   ]
  },
  {
   "cell_type": "code",
   "execution_count": 7,
   "metadata": {
    "collapsed": false
   },
   "outputs": [
    {
     "data": {
      "text/plain": [
       "613.3894179106748"
      ]
     },
     "execution_count": 7,
     "metadata": {},
     "output_type": "execute_result"
    }
   ],
   "source": [
    "math.exp(max(df['genes'])/1000)"
   ]
  },
  {
   "cell_type": "code",
   "execution_count": 8,
   "metadata": {
    "collapsed": true
   },
   "outputs": [],
   "source": [
    "go2genes = {}\n",
    "\n",
    "for row in df.itertuples():\n",
    "    go2genes[row[1]] = row[2].item()"
   ]
  },
  {
   "cell_type": "code",
   "execution_count": 9,
   "metadata": {
    "collapsed": false
   },
   "outputs": [
    {
     "data": {
      "text/plain": [
       "{'data': {'AverageShortestPathLength': 17.18280147,\n",
       "  'BetweennessCentrality': 0.00015342,\n",
       "  'ClosenessCentrality': 0.05819773,\n",
       "  'ClusteringCoefficient': 0.0,\n",
       "  'Degree': 2,\n",
       "  'Eccentricity': 26,\n",
       "  'EdgeCount': 2,\n",
       "  'Indegree': 1,\n",
       "  'IsSingleNode': False,\n",
       "  'NeighborhoodConnectivity': 2.0,\n",
       "  'NumberOfDirectedEdges': 2,\n",
       "  'NumberOfUndirectedEdges': 0,\n",
       "  'Outdegree': 1,\n",
       "  'PartnerOfMultiEdgedNodePairs': 0,\n",
       "  'Radiality': 0.47797415,\n",
       "  'SUID': 13097,\n",
       "  'SelfLoops': 0,\n",
       "  'Stress': 26070,\n",
       "  'TopologicalCoefficient': 0.5,\n",
       "  'id': '13097',\n",
       "  'id_original': 'GO:0016973',\n",
       "  'name': 'poly(A)+ mRNA export from nucleus',\n",
       "  'namespace': 'biological_process',\n",
       "  'selected': False,\n",
       "  'shared_name': 'poly(A)+ mRNA export from nucleus',\n",
       "  'type': ''},\n",
       " 'position': {'x': 18278.151549335544, 'y': 4994.833690588063},\n",
       " 'selected': False}"
      ]
     },
     "execution_count": 9,
     "metadata": {},
     "output_type": "execute_result"
    }
   ],
   "source": [
    "nodes = gotree['elements']['nodes']\n",
    "nodes[1]"
   ]
  },
  {
   "cell_type": "code",
   "execution_count": 10,
   "metadata": {
    "collapsed": false
   },
   "outputs": [],
   "source": [
    "id2go = {}\n",
    "new_nodes = []\n",
    "\n",
    "for n in nodes:\n",
    "    d = n['data']\n",
    "    \n",
    "    id2go[d['id']] = d['id_original']\n",
    "    name = d['name']\n",
    "    genes = go2genes[d['id_original']]\n",
    "        \n",
    "    data = {\n",
    "        'id': d['id_original'],\n",
    "        'name': name,\n",
    "        'geneCount': genes,\n",
    "        'namespace': d['namespace']\n",
    "    }\n",
    "    \n",
    "    new_nodes.append({\n",
    "            'data': data,\n",
    "            'position': n['position']\n",
    "        })"
   ]
  },
  {
   "cell_type": "code",
   "execution_count": 11,
   "metadata": {
    "collapsed": false
   },
   "outputs": [
    {
     "data": {
      "text/plain": [
       "{'data': {'geneCount': 23,\n",
       "  'id': 'GO:0016973',\n",
       "  'name': 'poly(A)+ mRNA export from nucleus',\n",
       "  'namespace': 'biological_process'},\n",
       " 'position': {'x': 18278.151549335544, 'y': 4994.833690588063}}"
      ]
     },
     "execution_count": 11,
     "metadata": {},
     "output_type": "execute_result"
    }
   ],
   "source": [
    "new_nodes[1]"
   ]
  },
  {
   "cell_type": "code",
   "execution_count": 12,
   "metadata": {
    "collapsed": false
   },
   "outputs": [
    {
     "data": {
      "text/plain": [
       "403.4287934927351"
      ]
     },
     "execution_count": 12,
     "metadata": {},
     "output_type": "execute_result"
    }
   ],
   "source": [
    "math.exp(6000/1000)"
   ]
  },
  {
   "cell_type": "code",
   "execution_count": 13,
   "metadata": {
    "collapsed": true
   },
   "outputs": [],
   "source": [
    "edges = gotree['elements']['edges']\n",
    "new_edges = []\n",
    "\n",
    "\n",
    "for e in edges:\n",
    "    d = e['data']\n",
    "    \n",
    "    data = {\n",
    "        'source': id2go[d['source']],\n",
    "        'target': id2go[d['target']],\n",
    "        'branch': d['branch']\n",
    "    }\n",
    "    \n",
    "    new_edges.append({'data': data})"
   ]
  },
  {
   "cell_type": "code",
   "execution_count": 14,
   "metadata": {
    "collapsed": false
   },
   "outputs": [
    {
     "data": {
      "text/plain": [
       "{'data': {'branch': 'BP', 'source': 'GO:0043648', 'target': 'GO:0043650'}}"
      ]
     },
     "execution_count": 14,
     "metadata": {},
     "output_type": "execute_result"
    }
   ],
   "source": [
    "new_edges[1]"
   ]
  },
  {
   "cell_type": "code",
   "execution_count": 15,
   "metadata": {
    "collapsed": false
   },
   "outputs": [],
   "source": [
    "go_compact = {\n",
    "    'data': {\n",
    "        'name': 'GO Tree'\n",
    "    },\n",
    "    'elements': {\n",
    "        'nodes': new_nodes,\n",
    "        'edges': new_edges\n",
    "    }\n",
    "}\n",
    "\n",
    "with open('./data/go-sparse-compact.json', 'w') as outfile:\n",
    "    json.dump(go_compact, outfile)"
   ]
  }
 ],
 "metadata": {
  "anaconda-cloud": {},
  "kernelspec": {
   "display_name": "Python [default]",
   "language": "python",
   "name": "python3"
  },
  "language_info": {
   "codemirror_mode": {
    "name": "ipython",
    "version": 3
   },
   "file_extension": ".py",
   "mimetype": "text/x-python",
   "name": "python",
   "nbconvert_exporter": "python",
   "pygments_lexer": "ipython3",
   "version": "3.5.2"
  }
 },
 "nbformat": 4,
 "nbformat_minor": 1
}
