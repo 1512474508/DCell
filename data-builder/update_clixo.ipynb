{
 "cells": [
  {
   "cell_type": "markdown",
   "metadata": {},
   "source": [
    "# CLIXO Tree builder\n",
    "\n",
    "Cleanup tree data created with Cytoscape and link anntation from mapping file."
   ]
  },
  {
   "cell_type": "code",
   "execution_count": 4,
   "metadata": {
    "collapsed": false
   },
   "outputs": [
    {
     "name": "stdout",
     "output_type": "stream",
     "text": [
      "--2017-01-09 16:08:19--  https://gist.githubusercontent.com/keiono/2b2e289371b7aff1f47d5e2c2a41fc2a/raw/37bb6d2bd1d81072f95721fd83d88ac3774e365c/clixo-final.cyjs\n",
      "Resolving gist.githubusercontent.com... 151.101.192.133, 151.101.128.133, 151.101.64.133, ...\n",
      "Connecting to gist.githubusercontent.com|151.101.192.133|:443... connected.\n",
      "HTTP request sent, awaiting response... 200 OK\n",
      "Length: 5726161 (5.5M) [text/plain]\n",
      "Saving to: ‘./data/clixo-final.cyjs’\n",
      "\n",
      "./data/clixo-final. 100%[===================>]   5.46M  21.2MB/s    in 0.3s    \n",
      "\n",
      "2017-01-09 16:08:20 (21.2 MB/s) - ‘./data/clixo-final.cyjs’ saved [5726161/5726161]\n",
      "\n"
     ]
    }
   ],
   "source": [
    "!wget \"https://gist.githubusercontent.com/keiono/2b2e289371b7aff1f47d5e2c2a41fc2a/raw/37bb6d2bd1d81072f95721fd83d88ac3774e365c/clixo-final.cyjs\"  -O ./data/clixo-final.cyjs"
   ]
  },
  {
   "cell_type": "code",
   "execution_count": 2,
   "metadata": {
    "collapsed": false
   },
   "outputs": [],
   "source": [
    "import json\n",
    "with open('./data/clixo-mapping.json', 'r') as f:\n",
    "    clixo_map = json.load(f)"
   ]
  },
  {
   "cell_type": "code",
   "execution_count": 5,
   "metadata": {
    "collapsed": true
   },
   "outputs": [],
   "source": [
    "with open('./data/clixo-final.cyjs', 'r') as f:\n",
    "    clixo = json.load(f)"
   ]
  },
  {
   "cell_type": "code",
   "execution_count": 17,
   "metadata": {
    "collapsed": false
   },
   "outputs": [
    {
     "name": "stdout",
     "output_type": "stream",
     "text": [
      "load obo file ./data/go.obo\n",
      "./data/go.obo: fmt(1.2) rel(2017-01-08) 47,914 GO Terms\n"
     ]
    }
   ],
   "source": [
    "from goatools import obo_parser\n",
    "\n",
    "# Annotation file for the CLIXO terms\n",
    "oboUrl = './data/go.obo'\n",
    "\n",
    "obo = obo_parser.GODag(oboUrl, optional_attrs=['def'])"
   ]
  },
  {
   "cell_type": "code",
   "execution_count": 30,
   "metadata": {
    "collapsed": false,
    "scrolled": false
   },
   "outputs": [],
   "source": [
    "nodes = clixo['elements']['nodes']\n",
    "new_nodes = []\n",
    "\n",
    "id2clixo = {}\n",
    "bet = []\n",
    "\n",
    "for n in nodes:\n",
    "    d = n['data']\n",
    "    id2clixo[d['id']] = d['id_original']\n",
    "    clixo_id = d['id_original'].split(':')[1]\n",
    "    name = d['id_original']\n",
    "    \n",
    "    if clixo_id in clixo_map.keys():\n",
    "        goid = clixo_map[clixo_id]['go']\n",
    "        name = obo[goid].name\n",
    "    \n",
    "    bet.append(d['BetweennessCentrality'])\n",
    "    \n",
    "    data = {\n",
    "        'id': d['id_original'],\n",
    "        'name': name,\n",
    "        'betweenness': d['BetweennessCentrality']\n",
    "    }\n",
    "    \n",
    "    new_nodes.append({\n",
    "            'data': data,\n",
    "            'position': n['position']\n",
    "            \n",
    "        \n",
    "        })"
   ]
  },
  {
   "cell_type": "code",
   "execution_count": 32,
   "metadata": {
    "collapsed": false
   },
   "outputs": [
    {
     "data": {
      "text/plain": [
       "0.00113408"
      ]
     },
     "execution_count": 32,
     "metadata": {},
     "output_type": "execute_result"
    }
   ],
   "source": [
    "max(bet)"
   ]
  },
  {
   "cell_type": "code",
   "execution_count": 33,
   "metadata": {
    "collapsed": false
   },
   "outputs": [],
   "source": [
    "# new_nodes[1:10]"
   ]
  },
  {
   "cell_type": "code",
   "execution_count": 24,
   "metadata": {
    "collapsed": false
   },
   "outputs": [
    {
     "name": "stdout",
     "output_type": "stream",
     "text": [
      "{'selected': False, 'data': {'is_tree': 'TREE', 'target_original': 'CLIXO:10392', 'shared_interaction': 'default', 'name': '', 'id': '156922', 'target': '18081', 'shared_name': '', 'interaction': 'default', 'SUID': 156922, 'selected': False, 'EdgeBetweenness': 36.0, 'source': '20026', 'source_original': 'CLIXO:9735'}}\n"
     ]
    }
   ],
   "source": [
    "# Cleanup edges\n",
    "\n",
    "edges = clixo['elements']['edges']\n",
    "new_edges = []\n",
    "\n",
    "\n",
    "for e in edges:\n",
    "    d = e['data']\n",
    "    \n",
    "    data = {\n",
    "        'source': id2clixo[d['source']],\n",
    "        'target': id2clixo[d['target']],\n",
    "    }\n",
    "    \n",
    "    new_edges.append({'data': data})"
   ]
  },
  {
   "cell_type": "code",
   "execution_count": 29,
   "metadata": {
    "collapsed": true
   },
   "outputs": [],
   "source": [
    "clixo_compact = {\n",
    "    'data': {\n",
    "        'name': 'CLIXO Tree'\n",
    "    },\n",
    "    'elements': {\n",
    "        'nodes': new_nodes,\n",
    "        'edges': new_edges\n",
    "    }\n",
    "}\n",
    "\n",
    "with open('./data/clixo-compact.json', 'w') as outfile:\n",
    "    json.dump(clixo_compact, outfile)"
   ]
  },
  {
   "cell_type": "markdown",
   "metadata": {},
   "source": [
    "## And same for GO\n"
   ]
  },
  {
   "cell_type": "code",
   "execution_count": 34,
   "metadata": {
    "collapsed": false
   },
   "outputs": [
    {
     "name": "stdout",
     "output_type": "stream",
     "text": [
      "--2017-01-10 17:26:02--  https://gist.githubusercontent.com/keiono/b7c047c1166681ef7170881217819938/raw/b81de1da63075ceb0e4c8d99adeacf83d0193cdb/goWOgenes.cyjs\n",
      "Resolving gist.githubusercontent.com... 151.101.192.133, 151.101.128.133, 151.101.64.133, ...\n",
      "Connecting to gist.githubusercontent.com|151.101.192.133|:443... connected.\n",
      "HTTP request sent, awaiting response... 200 OK\n",
      "Length: 10378739 (9.9M) [text/plain]\n",
      "Saving to: ‘./data/go-final2.cyjs’\n",
      "\n",
      "./data/go-final2.cy 100%[===================>]   9.90M  29.2MB/s    in 0.3s    \n",
      "\n",
      "2017-01-10 17:26:03 (29.2 MB/s) - ‘./data/go-final2.cyjs’ saved [10378739/10378739]\n",
      "\n"
     ]
    }
   ],
   "source": [
    "!wget 'https://gist.githubusercontent.com/keiono/b7c047c1166681ef7170881217819938/raw/b81de1da63075ceb0e4c8d99adeacf83d0193cdb/goWOgenes.cyjs' -O ./data/go-final2.cyjs\n",
    "\n",
    "\n"
   ]
  },
  {
   "cell_type": "code",
   "execution_count": 35,
   "metadata": {
    "collapsed": true
   },
   "outputs": [],
   "source": [
    "with open('./data/go-final2.cyjs', 'r') as f:\n",
    "    gotree = json.load(f)"
   ]
  },
  {
   "cell_type": "code",
   "execution_count": 43,
   "metadata": {
    "collapsed": false
   },
   "outputs": [
    {
     "data": {
      "text/html": [
       "<div>\n",
       "<table border=\"1\" class=\"dataframe\">\n",
       "  <thead>\n",
       "    <tr style=\"text-align: right;\">\n",
       "      <th></th>\n",
       "      <th>id</th>\n",
       "      <th>genes</th>\n",
       "    </tr>\n",
       "  </thead>\n",
       "  <tbody>\n",
       "    <tr>\n",
       "      <th>0</th>\n",
       "      <td>GO:0000001</td>\n",
       "      <td>27</td>\n",
       "    </tr>\n",
       "    <tr>\n",
       "      <th>1</th>\n",
       "      <td>GO:0000002</td>\n",
       "      <td>42</td>\n",
       "    </tr>\n",
       "    <tr>\n",
       "      <th>2</th>\n",
       "      <td>GO:0000003</td>\n",
       "      <td>448</td>\n",
       "    </tr>\n",
       "    <tr>\n",
       "      <th>3</th>\n",
       "      <td>GO:0000006</td>\n",
       "      <td>1</td>\n",
       "    </tr>\n",
       "    <tr>\n",
       "      <th>4</th>\n",
       "      <td>GO:0000007</td>\n",
       "      <td>1</td>\n",
       "    </tr>\n",
       "    <tr>\n",
       "      <th>5</th>\n",
       "      <td>GO:0000009</td>\n",
       "      <td>9</td>\n",
       "    </tr>\n",
       "    <tr>\n",
       "      <th>6</th>\n",
       "      <td>GO:0000010</td>\n",
       "      <td>1</td>\n",
       "    </tr>\n",
       "    <tr>\n",
       "      <th>7</th>\n",
       "      <td>GO:0000011</td>\n",
       "      <td>18</td>\n",
       "    </tr>\n",
       "    <tr>\n",
       "      <th>8</th>\n",
       "      <td>GO:0000014</td>\n",
       "      <td>7</td>\n",
       "    </tr>\n",
       "    <tr>\n",
       "      <th>9</th>\n",
       "      <td>GO:0000015</td>\n",
       "      <td>5</td>\n",
       "    </tr>\n",
       "  </tbody>\n",
       "</table>\n",
       "</div>"
      ],
      "text/plain": [
       "           id  genes\n",
       "0  GO:0000001     27\n",
       "1  GO:0000002     42\n",
       "2  GO:0000003    448\n",
       "3  GO:0000006      1\n",
       "4  GO:0000007      1\n",
       "5  GO:0000009      9\n",
       "6  GO:0000010      1\n",
       "7  GO:0000011     18\n",
       "8  GO:0000014      7\n",
       "9  GO:0000015      5"
      ]
     },
     "execution_count": 43,
     "metadata": {},
     "output_type": "execute_result"
    }
   ],
   "source": [
    "import pandas as pd\n",
    "\n",
    "df = pd.read_csv('./data/collapsed_go.no_IGI.propagated.term_sizes', sep='\\t', names=['id', 'genes'])\n",
    "df.head(10)"
   ]
  },
  {
   "cell_type": "code",
   "execution_count": 103,
   "metadata": {
    "collapsed": false
   },
   "outputs": [
    {
     "data": {
      "text/plain": [
       "613.3894179106748"
      ]
     },
     "execution_count": 103,
     "metadata": {},
     "output_type": "execute_result"
    }
   ],
   "source": [
    "math.exp(max(df['genes'])/1000)"
   ]
  },
  {
   "cell_type": "code",
   "execution_count": 67,
   "metadata": {
    "collapsed": true
   },
   "outputs": [],
   "source": [
    "go2genes = {}\n",
    "\n",
    "for row in df.itertuples():\n",
    "    go2genes[row[1]] = row[2].item()"
   ]
  },
  {
   "cell_type": "code",
   "execution_count": 68,
   "metadata": {
    "collapsed": false
   },
   "outputs": [
    {
     "data": {
      "text/plain": [
       "{'data': {'AverageShortestPathLength': 17.18280147,\n",
       "  'BetweennessCentrality': 0.00015342,\n",
       "  'ClosenessCentrality': 0.05819773,\n",
       "  'ClusteringCoefficient': 0.0,\n",
       "  'Degree': 2,\n",
       "  'Eccentricity': 26,\n",
       "  'EdgeCount': 2,\n",
       "  'Indegree': 1,\n",
       "  'IsSingleNode': False,\n",
       "  'NeighborhoodConnectivity': 2.0,\n",
       "  'NumberOfDirectedEdges': 2,\n",
       "  'NumberOfUndirectedEdges': 0,\n",
       "  'Outdegree': 1,\n",
       "  'PartnerOfMultiEdgedNodePairs': 0,\n",
       "  'Radiality': 0.47797415,\n",
       "  'SUID': 13097,\n",
       "  'SelfLoops': 0,\n",
       "  'Stress': 26070,\n",
       "  'TopologicalCoefficient': 0.5,\n",
       "  'id': '13097',\n",
       "  'id_original': 'GO:0016973',\n",
       "  'name': 'poly(A)+ mRNA export from nucleus',\n",
       "  'namespace': 'biological_process',\n",
       "  'selected': False,\n",
       "  'shared_name': 'poly(A)+ mRNA export from nucleus',\n",
       "  'type': ''},\n",
       " 'position': {'x': 15274.211570440326, 'y': 12397.140132129309},\n",
       " 'selected': False}"
      ]
     },
     "execution_count": 68,
     "metadata": {},
     "output_type": "execute_result"
    }
   ],
   "source": [
    "nodes = gotree['elements']['nodes']\n",
    "nodes[1]"
   ]
  },
  {
   "cell_type": "code",
   "execution_count": 97,
   "metadata": {
    "collapsed": false
   },
   "outputs": [],
   "source": [
    "id2go = {}\n",
    "new_nodes = []\n",
    "import math\n",
    "\n",
    "for n in nodes:\n",
    "    d = n['data']\n",
    "    \n",
    "    id2go[d['id']] = d['id_original']\n",
    "    name = d['name']\n",
    "    genes = go2genes[d['id_original']]\n",
    "        \n",
    "    data = {\n",
    "        'id': d['id_original'],\n",
    "        'name': name,\n",
    "        'geneCount': genes,\n",
    "        'size': math.exp(genes/1000),\n",
    "        'namespace': d['namespace']\n",
    "    }\n",
    "    \n",
    "    new_nodes.append({\n",
    "            'data': data,\n",
    "            'position': n['position']\n",
    "        })"
   ]
  },
  {
   "cell_type": "code",
   "execution_count": 98,
   "metadata": {
    "collapsed": false
   },
   "outputs": [
    {
     "data": {
      "text/plain": [
       "{'data': {'geneCount': 23,\n",
       "  'id': 'GO:0016973',\n",
       "  'name': 'poly(A)+ mRNA export from nucleus',\n",
       "  'namespace': 'biological_process',\n",
       "  'size': 1.0232665395472176},\n",
       " 'position': {'x': 15274.211570440326, 'y': 12397.140132129309}}"
      ]
     },
     "execution_count": 98,
     "metadata": {},
     "output_type": "execute_result"
    }
   ],
   "source": [
    "new_nodes[1]"
   ]
  },
  {
   "cell_type": "code",
   "execution_count": 99,
   "metadata": {
    "collapsed": false
   },
   "outputs": [
    {
     "data": {
      "text/plain": [
       "403.4287934927351"
      ]
     },
     "execution_count": 99,
     "metadata": {},
     "output_type": "execute_result"
    }
   ],
   "source": [
    "math.exp(6000/1000)"
   ]
  },
  {
   "cell_type": "code",
   "execution_count": 100,
   "metadata": {
    "collapsed": true
   },
   "outputs": [],
   "source": [
    "edges = gotree['elements']['edges']\n",
    "new_edges = []\n",
    "\n",
    "\n",
    "for e in edges:\n",
    "    d = e['data']\n",
    "    \n",
    "    data = {\n",
    "        'source': id2go[d['source']],\n",
    "        'target': id2go[d['target']],\n",
    "        'branch': d['branch']\n",
    "    }\n",
    "    \n",
    "    new_edges.append({'data': data})"
   ]
  },
  {
   "cell_type": "code",
   "execution_count": 101,
   "metadata": {
    "collapsed": false
   },
   "outputs": [
    {
     "data": {
      "text/plain": [
       "{'data': {'branch': 'BP', 'source': 'GO:0043648', 'target': 'GO:0043650'}}"
      ]
     },
     "execution_count": 101,
     "metadata": {},
     "output_type": "execute_result"
    }
   ],
   "source": [
    "new_edges[1]"
   ]
  },
  {
   "cell_type": "code",
   "execution_count": 102,
   "metadata": {
    "collapsed": false
   },
   "outputs": [],
   "source": [
    "go_compact = {\n",
    "    'data': {\n",
    "        'name': 'GO Tree'\n",
    "    },\n",
    "    'elements': {\n",
    "        'nodes': new_nodes,\n",
    "        'edges': new_edges\n",
    "    }\n",
    "}\n",
    "\n",
    "with open('./data/go-compact.json', 'w') as outfile:\n",
    "    json.dump(go_compact, outfile)"
   ]
  }
 ],
 "metadata": {
  "anaconda-cloud": {},
  "kernelspec": {
   "display_name": "Python [default]",
   "language": "python",
   "name": "python3"
  },
  "language_info": {
   "codemirror_mode": {
    "name": "ipython",
    "version": 3
   },
   "file_extension": ".py",
   "mimetype": "text/x-python",
   "name": "python",
   "nbconvert_exporter": "python",
   "pygments_lexer": "ipython3",
   "version": "3.5.2"
  }
 },
 "nbformat": 4,
 "nbformat_minor": 1
}
