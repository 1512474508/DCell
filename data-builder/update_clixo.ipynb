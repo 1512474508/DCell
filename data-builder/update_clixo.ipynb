{
 "cells": [
  {
   "cell_type": "markdown",
   "metadata": {},
   "source": [
    "# CLIXO Tree builder\n",
    "\n",
    "Cleanup tree data created with Cytoscape and link anntation from mapping file."
   ]
  },
  {
   "cell_type": "code",
   "execution_count": 30,
   "metadata": {
    "collapsed": false
   },
   "outputs": [
    {
     "name": "stdout",
     "output_type": "stream",
     "text": [
      "1811\n"
     ]
    }
   ],
   "source": [
    "import json\n",
    "import pandas as pd\n",
    "\n",
    "\n",
    "# Load mapping\n",
    "\n",
    "with open('./data/clixo-mapping.json', 'r') as f:\n",
    "    clixo_map = json.load(f)\n",
    "    \n",
    "print(len(clixo_map.keys()))"
   ]
  },
  {
   "cell_type": "code",
   "execution_count": 32,
   "metadata": {
    "collapsed": false
   },
   "outputs": [
    {
     "data": {
      "text/plain": [
       "4805"
      ]
     },
     "execution_count": 32,
     "metadata": {},
     "output_type": "execute_result"
    }
   ],
   "source": [
    "with open('./data/clixo-tree-layout.cyjs', 'r') as f:\n",
    "    clixo = json.load(f)\n",
    "\n",
    "nodes = clixo['elements']['nodes']\n",
    "len(nodes)"
   ]
  },
  {
   "cell_type": "code",
   "execution_count": 34,
   "metadata": {
    "collapsed": false
   },
   "outputs": [
    {
     "name": "stdout",
     "output_type": "stream",
     "text": [
      "{'selected': False, 'position': {'x': 15220.0, 'y': 25564.0}, 'data': {'shared_name': 'CLIXO:8037', 'name': 'CLIXO:8037', 'SUID': 24102, 'selected': False, 'geneCount': 3.0, 'id_original': 'CLIXO:8037', 'id': '24102'}}\n"
     ]
    }
   ],
   "source": [
    "print(nodes[1])"
   ]
  },
  {
   "cell_type": "code",
   "execution_count": 33,
   "metadata": {
    "collapsed": false
   },
   "outputs": [
    {
     "name": "stdout",
     "output_type": "stream",
     "text": [
      "load obo file ./data/go.obo\n",
      "./data/go.obo: fmt(1.2) rel(2017-01-13) 47,943 GO Terms\n"
     ]
    }
   ],
   "source": [
    "from goatools import obo_parser\n",
    "\n",
    "# Annotation file for the CLIXO terms\n",
    "oboUrl = './data/go.obo'\n",
    "\n",
    "obo = obo_parser.GODag(oboUrl, optional_attrs=['def'])"
   ]
  },
  {
   "cell_type": "code",
   "execution_count": 37,
   "metadata": {
    "collapsed": false,
    "scrolled": false
   },
   "outputs": [],
   "source": [
    "new_nodes = []\n",
    "\n",
    "id2clixo = {}\n",
    "gcounts = []\n",
    "\n",
    "for n in nodes:\n",
    "    d = n['data']\n",
    "    \n",
    "    id2clixo[d['id']] = d['id_original']\n",
    "    clixo_id = d['id_original'].split(':')[1]\n",
    "    name = d['id_original']\n",
    "    genes = int(d['geneCount'])\n",
    "    \n",
    "    gcounts.append(genes)\n",
    "    \n",
    "    if clixo_id in clixo_map.keys():\n",
    "        goid = clixo_map[clixo_id]['go']\n",
    "        name = obo[goid].name\n",
    "        \n",
    "    data = {\n",
    "        'id': d['id_original'],\n",
    "        'name': name,\n",
    "        'geneCount': genes\n",
    "    }\n",
    "    \n",
    "    new_nodes.append({\n",
    "            'data': data,\n",
    "            'position': n['position']\n",
    "        })"
   ]
  },
  {
   "cell_type": "code",
   "execution_count": 38,
   "metadata": {
    "collapsed": false
   },
   "outputs": [
    {
     "data": {
      "text/plain": [
       "4805"
      ]
     },
     "execution_count": 38,
     "metadata": {},
     "output_type": "execute_result"
    }
   ],
   "source": [
    "len(nodes)"
   ]
  },
  {
   "cell_type": "code",
   "execution_count": 39,
   "metadata": {
    "collapsed": false
   },
   "outputs": [
    {
     "data": {
      "text/plain": [
       "5886"
      ]
     },
     "execution_count": 39,
     "metadata": {},
     "output_type": "execute_result"
    }
   ],
   "source": [
    "max(gcounts)"
   ]
  },
  {
   "cell_type": "code",
   "execution_count": 40,
   "metadata": {
    "collapsed": false
   },
   "outputs": [],
   "source": [
    "# Cleanup edges\n",
    "\n",
    "edges = clixo['elements']['edges']\n",
    "new_edges = []\n",
    "\n",
    "for e in edges:\n",
    "    d = e['data']\n",
    "    \n",
    "    data = {\n",
    "        'source': id2clixo[d['source']],\n",
    "        'target': id2clixo[d['target']],\n",
    "    }\n",
    "    \n",
    "    new_edges.append({'data': data})"
   ]
  },
  {
   "cell_type": "code",
   "execution_count": 41,
   "metadata": {
    "collapsed": true
   },
   "outputs": [],
   "source": [
    "clixo_compact = {\n",
    "    'data': {\n",
    "        'name': 'CLIXO Tree'\n",
    "    },\n",
    "    'elements': {\n",
    "        'nodes': new_nodes,\n",
    "        'edges': new_edges\n",
    "    }\n",
    "}\n",
    "\n",
    "with open('./data/clixo-compact.json', 'w') as outfile:\n",
    "    json.dump(clixo_compact, outfile)"
   ]
  },
  {
   "cell_type": "markdown",
   "metadata": {},
   "source": [
    "## And same for GO\n"
   ]
  },
  {
   "cell_type": "code",
   "execution_count": null,
   "metadata": {
    "collapsed": false
   },
   "outputs": [],
   "source": [
    "!wget 'https://gist.githubusercontent.com/keiono/b7c047c1166681ef7170881217819938/raw/b81de1da63075ceb0e4c8d99adeacf83d0193cdb/goWOgenes.cyjs' -O ./data/go-final2.cyjs\n",
    "\n",
    "\n"
   ]
  },
  {
   "cell_type": "code",
   "execution_count": null,
   "metadata": {
    "collapsed": true
   },
   "outputs": [],
   "source": [
    "with open('./data/go-final2.cyjs', 'r') as f:\n",
    "    gotree = json.load(f)"
   ]
  },
  {
   "cell_type": "code",
   "execution_count": null,
   "metadata": {
    "collapsed": false
   },
   "outputs": [],
   "source": [
    "import pandas as pd\n",
    "\n",
    "df = pd.read_csv('./data/collapsed_go.no_IGI.propagated.term_sizes', sep='\\t', names=['id', 'genes'])\n",
    "df.head(10)"
   ]
  },
  {
   "cell_type": "code",
   "execution_count": null,
   "metadata": {
    "collapsed": false
   },
   "outputs": [],
   "source": [
    "math.exp(max(df['genes'])/1000)"
   ]
  },
  {
   "cell_type": "code",
   "execution_count": null,
   "metadata": {
    "collapsed": true
   },
   "outputs": [],
   "source": [
    "go2genes = {}\n",
    "\n",
    "for row in df.itertuples():\n",
    "    go2genes[row[1]] = row[2].item()"
   ]
  },
  {
   "cell_type": "code",
   "execution_count": null,
   "metadata": {
    "collapsed": false
   },
   "outputs": [],
   "source": [
    "nodes = gotree['elements']['nodes']\n",
    "nodes[1]"
   ]
  },
  {
   "cell_type": "code",
   "execution_count": null,
   "metadata": {
    "collapsed": false
   },
   "outputs": [],
   "source": [
    "id2go = {}\n",
    "new_nodes = []\n",
    "import math\n",
    "\n",
    "for n in nodes:\n",
    "    d = n['data']\n",
    "    \n",
    "    id2go[d['id']] = d['id_original']\n",
    "    name = d['name']\n",
    "    genes = go2genes[d['id_original']]\n",
    "        \n",
    "    data = {\n",
    "        'id': d['id_original'],\n",
    "        'name': name,\n",
    "        'geneCount': genes,\n",
    "        'size': math.exp(genes/1000),\n",
    "        'namespace': d['namespace']\n",
    "    }\n",
    "    \n",
    "    new_nodes.append({\n",
    "            'data': data,\n",
    "            'position': n['position']\n",
    "        })"
   ]
  },
  {
   "cell_type": "code",
   "execution_count": null,
   "metadata": {
    "collapsed": false
   },
   "outputs": [],
   "source": [
    "new_nodes[1]"
   ]
  },
  {
   "cell_type": "code",
   "execution_count": null,
   "metadata": {
    "collapsed": false
   },
   "outputs": [],
   "source": [
    "math.exp(6000/1000)"
   ]
  },
  {
   "cell_type": "code",
   "execution_count": null,
   "metadata": {
    "collapsed": true
   },
   "outputs": [],
   "source": [
    "edges = gotree['elements']['edges']\n",
    "new_edges = []\n",
    "\n",
    "\n",
    "for e in edges:\n",
    "    d = e['data']\n",
    "    \n",
    "    data = {\n",
    "        'source': id2go[d['source']],\n",
    "        'target': id2go[d['target']],\n",
    "        'branch': d['branch']\n",
    "    }\n",
    "    \n",
    "    new_edges.append({'data': data})"
   ]
  },
  {
   "cell_type": "code",
   "execution_count": null,
   "metadata": {
    "collapsed": false
   },
   "outputs": [],
   "source": [
    "new_edges[1]"
   ]
  },
  {
   "cell_type": "code",
   "execution_count": null,
   "metadata": {
    "collapsed": false
   },
   "outputs": [],
   "source": [
    "go_compact = {\n",
    "    'data': {\n",
    "        'name': 'GO Tree'\n",
    "    },\n",
    "    'elements': {\n",
    "        'nodes': new_nodes,\n",
    "        'edges': new_edges\n",
    "    }\n",
    "}\n",
    "\n",
    "with open('./data/go-compact.json', 'w') as outfile:\n",
    "    json.dump(go_compact, outfile)"
   ]
  }
 ],
 "metadata": {
  "anaconda-cloud": {},
  "kernelspec": {
   "display_name": "Python [default]",
   "language": "python",
   "name": "python3"
  },
  "language_info": {
   "codemirror_mode": {
    "name": "ipython",
    "version": 3
   },
   "file_extension": ".py",
   "mimetype": "text/x-python",
   "name": "python",
   "nbconvert_exporter": "python",
   "pygments_lexer": "ipython3",
   "version": "3.5.2"
  }
 },
 "nbformat": 4,
 "nbformat_minor": 1
}
