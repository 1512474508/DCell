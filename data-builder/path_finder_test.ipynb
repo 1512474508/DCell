{
 "cells": [
  {
   "cell_type": "markdown",
   "metadata": {},
   "source": [
    "# Subnetwork Generator for GO"
   ]
  },
  {
   "cell_type": "code",
   "execution_count": 3,
   "metadata": {
    "collapsed": false
   },
   "outputs": [
    {
     "data": {
      "text/html": [
       "<div>\n",
       "<table border=\"1\" class=\"dataframe\">\n",
       "  <thead>\n",
       "    <tr style=\"text-align: right;\">\n",
       "      <th></th>\n",
       "      <th>symbol</th>\n",
       "      <th>locus_name</th>\n",
       "      <th>acc_number</th>\n",
       "      <th>swiss-prot</th>\n",
       "      <th>sgd</th>\n",
       "      <th>sequence_length</th>\n",
       "      <th>3d</th>\n",
       "      <th>chromosome</th>\n",
       "    </tr>\n",
       "  </thead>\n",
       "  <tbody>\n",
       "    <tr>\n",
       "      <th>0</th>\n",
       "      <td>AAC1</td>\n",
       "      <td>YMR056C</td>\n",
       "      <td>P04710</td>\n",
       "      <td>ADT1_YEAST</td>\n",
       "      <td>S000004660</td>\n",
       "      <td>309</td>\n",
       "      <td>13</td>\n",
       "      <td>NaN</td>\n",
       "    </tr>\n",
       "    <tr>\n",
       "      <th>1</th>\n",
       "      <td>AAC3</td>\n",
       "      <td>YBR085W</td>\n",
       "      <td>P18238</td>\n",
       "      <td>ADT3_YEAST</td>\n",
       "      <td>S000000289</td>\n",
       "      <td>307</td>\n",
       "      <td>(3)</td>\n",
       "      <td>2</td>\n",
       "    </tr>\n",
       "    <tr>\n",
       "      <th>2</th>\n",
       "      <td>AAD10</td>\n",
       "      <td>YJR155W</td>\n",
       "      <td>P47182</td>\n",
       "      <td>AAD10_YEAST</td>\n",
       "      <td>S000003916</td>\n",
       "      <td>288</td>\n",
       "      <td>10</td>\n",
       "      <td>NaN</td>\n",
       "    </tr>\n",
       "    <tr>\n",
       "      <th>3</th>\n",
       "      <td>AAD14</td>\n",
       "      <td>YNL331C</td>\n",
       "      <td>P42884</td>\n",
       "      <td>AAD14_YEAST</td>\n",
       "      <td>S000005275</td>\n",
       "      <td>376</td>\n",
       "      <td>14</td>\n",
       "      <td>NaN</td>\n",
       "    </tr>\n",
       "    <tr>\n",
       "      <th>4</th>\n",
       "      <td>AAD15</td>\n",
       "      <td>YOL165C</td>\n",
       "      <td>Q08361</td>\n",
       "      <td>AAD15_YEAST</td>\n",
       "      <td>S000005525</td>\n",
       "      <td>143</td>\n",
       "      <td>15</td>\n",
       "      <td>NaN</td>\n",
       "    </tr>\n",
       "  </tbody>\n",
       "</table>\n",
       "</div>"
      ],
      "text/plain": [
       "  symbol locus_name acc_number   swiss-prot         sgd sequence_length   3d  \\\n",
       "0   AAC1    YMR056C     P04710   ADT1_YEAST  S000004660             309   13   \n",
       "1   AAC3    YBR085W     P18238   ADT3_YEAST  S000000289             307  (3)   \n",
       "2  AAD10    YJR155W     P47182  AAD10_YEAST  S000003916             288   10   \n",
       "3  AAD14    YNL331C     P42884  AAD14_YEAST  S000005275             376   14   \n",
       "4  AAD15    YOL165C     Q08361  AAD15_YEAST  S000005525             143   15   \n",
       "\n",
       "  chromosome  \n",
       "0        NaN  \n",
       "1          2  \n",
       "2        NaN  \n",
       "3        NaN  \n",
       "4        NaN  "
      ]
     },
     "execution_count": 3,
     "metadata": {},
     "output_type": "execute_result"
    }
   ],
   "source": [
    "import pandas as pd\n",
    "import json\n",
    "\n",
    "idmap = pd.read_csv('./yeast_clean4.txt', delimiter='\\t')\n",
    "idmap.head()"
   ]
  },
  {
   "cell_type": "code",
   "execution_count": 4,
   "metadata": {
    "collapsed": false
   },
   "outputs": [],
   "source": [
    "orf2symbol = {}\n",
    "for row in idmap.itertuples():\n",
    "    sym = row[1]\n",
    "    orf = row[2]\n",
    "    orf2symbol[orf] = sym"
   ]
  },
  {
   "cell_type": "code",
   "execution_count": 5,
   "metadata": {
    "collapsed": false
   },
   "outputs": [
    {
     "data": {
      "text/html": [
       "<div>\n",
       "<table border=\"1\" class=\"dataframe\">\n",
       "  <thead>\n",
       "    <tr style=\"text-align: right;\">\n",
       "      <th></th>\n",
       "      <th>parent</th>\n",
       "      <th>child</th>\n",
       "      <th>type</th>\n",
       "      <th>in_tree</th>\n",
       "    </tr>\n",
       "  </thead>\n",
       "  <tbody>\n",
       "    <tr>\n",
       "      <th>441932</th>\n",
       "      <td>GO:0015031</td>\n",
       "      <td>YHR083W</td>\n",
       "      <td>gene</td>\n",
       "      <td>NOT_TREE</td>\n",
       "    </tr>\n",
       "    <tr>\n",
       "      <th>441933</th>\n",
       "      <td>GO:1902582</td>\n",
       "      <td>YHR083W</td>\n",
       "      <td>gene</td>\n",
       "      <td>NOT_TREE</td>\n",
       "    </tr>\n",
       "    <tr>\n",
       "      <th>441934</th>\n",
       "      <td>GO:1902580</td>\n",
       "      <td>YHR083W</td>\n",
       "      <td>gene</td>\n",
       "      <td>NOT_TREE</td>\n",
       "    </tr>\n",
       "    <tr>\n",
       "      <th>441935</th>\n",
       "      <td>GO:0098799</td>\n",
       "      <td>YHR083W</td>\n",
       "      <td>gene</td>\n",
       "      <td>NOT_TREE</td>\n",
       "    </tr>\n",
       "    <tr>\n",
       "      <th>441936</th>\n",
       "      <td>GO:0098798</td>\n",
       "      <td>YHR083W</td>\n",
       "      <td>gene</td>\n",
       "      <td>NOT_TREE</td>\n",
       "    </tr>\n",
       "  </tbody>\n",
       "</table>\n",
       "</div>"
      ],
      "text/plain": [
       "            parent    child  type   in_tree\n",
       "441932  GO:0015031  YHR083W  gene  NOT_TREE\n",
       "441933  GO:1902582  YHR083W  gene  NOT_TREE\n",
       "441934  GO:1902580  YHR083W  gene  NOT_TREE\n",
       "441935  GO:0098799  YHR083W  gene  NOT_TREE\n",
       "441936  GO:0098798  YHR083W  gene  NOT_TREE"
      ]
     },
     "execution_count": 5,
     "metadata": {},
     "output_type": "execute_result"
    }
   ],
   "source": [
    "# Load GO full dag\n",
    "\n",
    "\n",
    "treeSourceUrl = 'http://chianti.ucsd.edu/~kono/ci/data/collapsed_go.no_IGI.propagated.small_parent_tree'\n",
    "\n",
    "# Load the tree data\n",
    "treeColNames = ['parent', 'child', 'type', 'in_tree']\n",
    "tree = pd.read_csv(treeSourceUrl, delimiter='\\t', names=treeColNames)\n",
    "tree.tail()"
   ]
  },
  {
   "cell_type": "code",
   "execution_count": 6,
   "metadata": {
    "collapsed": false
   },
   "outputs": [
    {
     "name": "stdout",
     "output_type": "stream",
     "text": [
      "['YDL076C', 'YMR053C', 'YBR095C', 'YOL004W', 'YPR023C', 'YPL181W', 'YKL185W', 'YMR263W', 'YMR075W', 'YAL013W', 'YNL097C', 'YDR207C', 'YIL084C', 'YNL330C', 'YNL309W', 'YPL139C']\n"
     ]
    },
    {
     "data": {
      "text/html": [
       "<div>\n",
       "<table border=\"1\" class=\"dataframe\">\n",
       "  <thead>\n",
       "    <tr style=\"text-align: right;\">\n",
       "      <th></th>\n",
       "      <th>parent</th>\n",
       "      <th>child</th>\n",
       "      <th>in_tree</th>\n",
       "    </tr>\n",
       "  </thead>\n",
       "  <tbody>\n",
       "    <tr>\n",
       "      <th>0</th>\n",
       "      <td>GO:0046434</td>\n",
       "      <td>GO:0009395</td>\n",
       "      <td>TREE</td>\n",
       "    </tr>\n",
       "    <tr>\n",
       "      <th>1</th>\n",
       "      <td>GO:0046434</td>\n",
       "      <td>GO:0046855</td>\n",
       "      <td>NOT_TREE</td>\n",
       "    </tr>\n",
       "    <tr>\n",
       "      <th>2</th>\n",
       "      <td>GO:0046434</td>\n",
       "      <td>GO:0046081</td>\n",
       "      <td>NOT_TREE</td>\n",
       "    </tr>\n",
       "    <tr>\n",
       "      <th>3</th>\n",
       "      <td>GO:0046434</td>\n",
       "      <td>GO:0035863</td>\n",
       "      <td>NOT_TREE</td>\n",
       "    </tr>\n",
       "    <tr>\n",
       "      <th>4</th>\n",
       "      <td>GO:0046434</td>\n",
       "      <td>GO:0046168</td>\n",
       "      <td>NOT_TREE</td>\n",
       "    </tr>\n",
       "  </tbody>\n",
       "</table>\n",
       "</div>"
      ],
      "text/plain": [
       "       parent       child   in_tree\n",
       "0  GO:0046434  GO:0009395      TREE\n",
       "1  GO:0046434  GO:0046855  NOT_TREE\n",
       "2  GO:0046434  GO:0046081  NOT_TREE\n",
       "3  GO:0046434  GO:0035863  NOT_TREE\n",
       "4  GO:0046434  GO:0046168  NOT_TREE"
      ]
     },
     "execution_count": 6,
     "metadata": {},
     "output_type": "execute_result"
    }
   ],
   "source": [
    "# Filter  terms only.\n",
    "\n",
    "term2genes = {}\n",
    "\n",
    "filtered = []\n",
    "for row in tree.itertuples():\n",
    "    \n",
    "    t = row[3]\n",
    "    if t == 'gene':\n",
    "        term = row[1]\n",
    "        \n",
    "        terms = []\n",
    "        if term in term2genes.keys():\n",
    "            terms = term2genes[term]\n",
    "        \n",
    "        terms.append(row[2])\n",
    "        term2genes[term] = terms\n",
    "        continue\n",
    "        \n",
    "    r = (row[1], row[2], row[4])\n",
    "    filtered.append(r)\n",
    "\n",
    "dag = pd.DataFrame(filtered, columns=['parent', 'child', 'in_tree'])\n",
    "\n",
    "\n",
    "print(term2genes['GO:0070822'])\n",
    "dag.head()\n",
    "        \n"
   ]
  },
  {
   "cell_type": "code",
   "execution_count": 7,
   "metadata": {
    "collapsed": false
   },
   "outputs": [
    {
     "data": {
      "text/plain": [
       "{'in_tree': 'TREE'}"
      ]
     },
     "execution_count": 7,
     "metadata": {},
     "output_type": "execute_result"
    }
   ],
   "source": [
    "import networkx as nx\n",
    "\n",
    "godag = nx.from_pandas_dataframe(dag, 'child', 'parent', ['in_tree'], create_using=nx.DiGraph())\n",
    "godag.edges(data=True)[0]\n",
    "godag.get_edge_data('GO:0019203', 'GO:0016791')"
   ]
  },
  {
   "cell_type": "code",
   "execution_count": 8,
   "metadata": {
    "collapsed": false
   },
   "outputs": [],
   "source": [
    "subnet = {\n",
    "    'data': {\n",
    "        'name': 'subnet1'\n",
    "    },\n",
    "    'elements': {\n",
    "        'nodes': [],\n",
    "        'edges': []\n",
    "    }\n",
    "}\n",
    "\n",
    "def get_node(id):\n",
    "    name = ''\n",
    "    n_type = 'term'\n",
    "    \n",
    "    if id == 'GO:00SUPER':\n",
    "        name = \"Root\"\n",
    "    elif id.startswith('Y') or  id.startswith('Q'):\n",
    "        if id in orf2symbol.keys():\n",
    "            name = orf2symbol[id].split(';')[0]\n",
    "        else:\n",
    "            name = id\n",
    "        n_type = 'gene'\n",
    "    else:\n",
    "        name = obo[id].name\n",
    "    \n",
    "#     if id == start:\n",
    "#         n_type = 'origin'\n",
    "    \n",
    "    node = {\n",
    "        'data': {\n",
    "            'id': id,\n",
    "            'name': name,\n",
    "            'type': n_type \n",
    "        }\n",
    "    }  \n",
    "    return node\n",
    "\n",
    "def get_edge(source, target, in_tree):\n",
    "    edge = {\n",
    "        'data': {\n",
    "            'source': source,\n",
    "            'target': target,\n",
    "            'in_tree': in_tree\n",
    "        }\n",
    "    }\n",
    "    \n",
    "    return edge"
   ]
  },
  {
   "cell_type": "code",
   "execution_count": 9,
   "metadata": {
    "collapsed": false
   },
   "outputs": [
    {
     "name": "stdout",
     "output_type": "stream",
     "text": [
      "load obo file ./data/go.obo\n",
      "./data/go.obo: fmt(1.2) rel(2017-01-13) 47,943 GO Terms\n"
     ]
    }
   ],
   "source": [
    "from goatools import obo_parser\n",
    "oboUrl = './data/go.obo'\n",
    "obo = obo_parser.GODag(oboUrl, optional_attrs=['def'])"
   ]
  },
  {
   "cell_type": "code",
   "execution_count": 12,
   "metadata": {
    "collapsed": true
   },
   "outputs": [],
   "source": [
    "def create_dag(paths, start_terms, goal):\n",
    "    \n",
    "    net = {\n",
    "        'data': {\n",
    "            'name': 'Path to ' + goal\n",
    "        },\n",
    "        \n",
    "        'elements': {\n",
    "            'nodes': [],\n",
    "            'edges': []\n",
    "        }\n",
    "    }\n",
    "    \n",
    "    nodes = set()\n",
    "    echeck = set()\n",
    "    edges = []\n",
    "\n",
    "    for p in paths:\n",
    "        p_len = len(p)\n",
    "        for i, node in enumerate(p):\n",
    "            if i > p_len-2:\n",
    "                break\n",
    "            nodes.add(node)\n",
    "            nodes.add(p[i+1])\n",
    "            key = node + p[i+1]\n",
    "            if key in echeck:\n",
    "                continue\n",
    "\n",
    "#             if p[i+1] == goal:\n",
    "#                 continue\n",
    "            \n",
    "            echeck.add(key)\n",
    "\n",
    "            in_tree = godag.get_edge_data(node, p[i+1])['in_tree']\n",
    "            edge = get_edge(node, p[i+1], in_tree)\n",
    "            edges.append(edge)\n",
    "\n",
    "    cynodes = []\n",
    "    \n",
    "    # add genes\n",
    "    for start in start_terms:\n",
    "        genes = term2genes[start]\n",
    "        for g in genes:\n",
    "            edge = get_edge(g, start, 'gene')\n",
    "            edges.append(edge)\n",
    "        for n in genes:\n",
    "            cynodes.append(get_node(n))\n",
    "\n",
    "    # Add nodes\n",
    "    for n in nodes:\n",
    "        cynodes.append(get_node(n))\n",
    "\n",
    "   \n",
    "    net['elements']['nodes'] = cynodes\n",
    "    net['elements']['edges'] = edges\n",
    "    \n",
    "    print(nodes)\n",
    "    return net"
   ]
  },
  {
   "cell_type": "code",
   "execution_count": 10,
   "metadata": {
    "collapsed": false,
    "scrolled": false
   },
   "outputs": [
    {
     "ename": "NameError",
     "evalue": "name 'create_dag' is not defined",
     "output_type": "error",
     "traceback": [
      "\u001b[0;31m---------------------------------------------------------------------------\u001b[0m",
      "\u001b[0;31mNameError\u001b[0m                                 Traceback (most recent call last)",
      "\u001b[0;32m<ipython-input-10-731ccd23f4ca>\u001b[0m in \u001b[0;36m<module>\u001b[0;34m()\u001b[0m\n\u001b[1;32m      8\u001b[0m     \u001b[0mpaths\u001b[0m \u001b[0;34m=\u001b[0m \u001b[0mnx\u001b[0m\u001b[0;34m.\u001b[0m\u001b[0mshortest_simple_paths\u001b[0m\u001b[0;34m(\u001b[0m\u001b[0mgodag\u001b[0m\u001b[0;34m,\u001b[0m \u001b[0msource\u001b[0m\u001b[0;34m=\u001b[0m\u001b[0mterm\u001b[0m\u001b[0;34m,\u001b[0m \u001b[0mtarget\u001b[0m\u001b[0;34m=\u001b[0m\u001b[0mgoal\u001b[0m\u001b[0;34m)\u001b[0m\u001b[0;34m\u001b[0m\u001b[0m\n\u001b[1;32m      9\u001b[0m     \u001b[0;32mwith\u001b[0m \u001b[0mopen\u001b[0m\u001b[0;34m(\u001b[0m\u001b[0;34m'./data/'\u001b[0m \u001b[0;34m+\u001b[0m \u001b[0mterm\u001b[0m\u001b[0;34m.\u001b[0m\u001b[0mreplace\u001b[0m\u001b[0;34m(\u001b[0m\u001b[0;34m':'\u001b[0m\u001b[0;34m,\u001b[0m \u001b[0;34m''\u001b[0m\u001b[0;34m)\u001b[0m \u001b[0;34m+\u001b[0m \u001b[0;34m'.cyjs'\u001b[0m\u001b[0;34m,\u001b[0m \u001b[0;34m'w'\u001b[0m\u001b[0;34m)\u001b[0m \u001b[0;32mas\u001b[0m \u001b[0moutfile\u001b[0m\u001b[0;34m:\u001b[0m\u001b[0;34m\u001b[0m\u001b[0m\n\u001b[0;32m---> 10\u001b[0;31m         \u001b[0mjson\u001b[0m\u001b[0;34m.\u001b[0m\u001b[0mdump\u001b[0m\u001b[0;34m(\u001b[0m\u001b[0mcreate_dag\u001b[0m\u001b[0;34m(\u001b[0m\u001b[0mpaths\u001b[0m\u001b[0;34m,\u001b[0m \u001b[0mterm\u001b[0m\u001b[0;34m,\u001b[0m \u001b[0mgoal\u001b[0m\u001b[0;34m)\u001b[0m\u001b[0;34m,\u001b[0m \u001b[0moutfile\u001b[0m\u001b[0;34m)\u001b[0m\u001b[0;34m\u001b[0m\u001b[0m\n\u001b[0m",
      "\u001b[0;31mNameError\u001b[0m: name 'create_dag' is not defined"
     ]
    }
   ],
   "source": [
    "# paths1 = nx.shortest_simple_paths(godag, source='GO:0070822', target='GO:00SUPER')\n",
    "# paths2 = nx.shortest_simple_paths(godag, source='GO:0000812', target='GO:00SUPER')\n",
    "\n",
    "goal = 'GO:00SUPER'\n",
    "terms = ['GO:0070822', 'GO:0000812', 'GO:0070143']\n",
    "\n",
    "for term in terms:\n",
    "    paths = nx.shortest_simple_paths(godag, source=term, target=goal)\n",
    "    with open('./data/' + term.replace(':', '') + '.cyjs', 'w') as outfile:\n",
    "        json.dump(create_dag(paths, term, goal), outfile)"
   ]
  },
  {
   "cell_type": "markdown",
   "metadata": {},
   "source": [
    "## For figure 3:\n",
    "\n",
    "#### Ex 1\n",
    "For the first \"And example\", the parent term is: nuclear chromatin\tGO:0000790\n",
    "\n",
    "The two children are:\n",
    "Sin3-type complex\tGO:0070822\n",
    "Swr1 complex\tGO:0000812\n",
    "\n",
    "You can do type command \"grep GO:0000790 precollapse.propagated.2016\" to verify in Mike's file that GO:0070822 and GO:0000812 are children of GO:0000790.\n",
    "\n",
    "#### Ex 2\n",
    "For the second \"Or example\", the parent term is: mitochondrial respiratory chain\tGO:0005746\n",
    "\n",
    "The two children are:\n",
    "mitochondrial respiratory chain complex III\tGO:0005750\n",
    "mitochondrial respiratory chain complex IV\tGO:0005751\n",
    "\n",
    "The third example is \"GFP-GI\" is: response to endoplasmic reticulum stress GO:0034976"
   ]
  },
  {
   "cell_type": "code",
   "execution_count": 13,
   "metadata": {
    "collapsed": false
   },
   "outputs": [
    {
     "name": "stdout",
     "output_type": "stream",
     "text": [
      "{'GO:0070822', 'GO:0000790', 'GO:0000812'}\n"
     ]
    }
   ],
   "source": [
    "# Test sub-routes\n",
    "goal1 = 'GO:0000790'\n",
    "goal2 = 'GO:0005746'\n",
    "\n",
    "terms1 = ['GO:0070822', 'GO:0000812']\n",
    "terms2 = ['GO:0005750', 'GO:0005751']\n",
    "\n",
    "all_paths = []\n",
    "for term in terms1:\n",
    "    plist = nx.shortest_simple_paths(godag, source=term, target=goal1)\n",
    "    for p in plist:\n",
    "        all_paths.append(p)\n",
    "\n",
    "with open('./data/' + goal1.replace(':', '') + '.cyjs', 'w') as outfile:\n",
    "    json.dump(create_dag(all_paths, terms1, 'N/A'), outfile)"
   ]
  },
  {
   "cell_type": "code",
   "execution_count": 16,
   "metadata": {
    "collapsed": false
   },
   "outputs": [
    {
     "name": "stdout",
     "output_type": "stream",
     "text": [
      "[['GO:0000790', 'GO:0000785', 'GO:0032991', 'GO:0005575', 'GO:00SUPER']]\n"
     ]
    }
   ],
   "source": [
    "paths = nx.all_shortest_paths(godag, source='GO:0000790', target='GO:00SUPER')\n",
    "print(list(paths))"
   ]
  }
 ],
 "metadata": {
  "anaconda-cloud": {},
  "kernelspec": {
   "display_name": "Python [default]",
   "language": "python",
   "name": "python3"
  },
  "language_info": {
   "codemirror_mode": {
    "name": "ipython",
    "version": 3
   },
   "file_extension": ".py",
   "mimetype": "text/x-python",
   "name": "python",
   "nbconvert_exporter": "python",
   "pygments_lexer": "ipython3",
   "version": "3.5.2"
  }
 },
 "nbformat": 4,
 "nbformat_minor": 1
}
